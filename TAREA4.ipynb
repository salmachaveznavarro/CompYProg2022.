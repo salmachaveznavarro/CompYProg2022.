{
  "nbformat": 4,
  "nbformat_minor": 0,
  "metadata": {
    "colab": {
      "name": "TAREA4.ipynb",
      "provenance": [],
      "collapsed_sections": [],
      "authorship_tag": "ABX9TyP4cmyCq7Jyl2G7+6neVztU",
      "include_colab_link": true
    },
    "kernelspec": {
      "name": "python3",
      "display_name": "Python 3"
    },
    "language_info": {
      "name": "python"
    }
  },
  "cells": [
    {
      "cell_type": "markdown",
      "metadata": {
        "id": "view-in-github",
        "colab_type": "text"
      },
      "source": [
        "<a href=\"https://colab.research.google.com/github/salmachaveznavarro/CompYProg2022./blob/compyprog2022/TAREA4.ipynb\" target=\"_parent\"><img src=\"https://colab.research.google.com/assets/colab-badge.svg\" alt=\"Open In Colab\"/></a>"
      ]
    },
    {
      "cell_type": "code",
      "metadata": {
        "colab": {
          "base_uri": "https://localhost:8080/"
        },
        "id": "mrsTbtHtb6h7",
        "outputId": "83927507-2c2d-4dec-b7d7-4dd3a50ac757"
      },
      "source": [
        "# TAREA 4\n",
        "# Salma Chavez Navarro\n",
        "print(\"Tarea 4: C y P\", \"\\nSalma Chavez Navarro\")\n",
        "print(\"\\nS S S S S\",\"\\nS\",\"\\nS S S S S\",\"\\n\\tS\", \"\\n\\tS\",\"\\nS S S S S\")\n",
        "print(\"\\n   A\",\"\\n A    A\",\"\\nA A  A A\", \"\\nA      A\",\"\\nA      A\",\"\\nA      A\")\n",
        "print(\"\\nL\",\"\\nL\", \"\\nL\",\"\\nL\",\"\\nL\",\"\\nL\",\"L\",\"L\",\"L\",\"L\")\n",
        "print(\"\\nM     M\",\"\\nM M M M\",\"\\nM  M  M\",\"\\nM     M\",\"\\nM     M\",\"\\nM     M\")\n",
        "print(\"\\n   A\",\"\\n A    A\",\"\\nA A  A A\", \"\\nA      A\",\"\\nA      A\",\"\\nA      A\")"
      ],
      "execution_count": 22,
      "outputs": [
        {
          "output_type": "stream",
          "name": "stdout",
          "text": [
            "Tarea 4: C y P \n",
            "Salma Chavez Navarro\n",
            "S S S S S \n",
            "S \n",
            "S S S S S \n",
            "\tS \n",
            "\tS \n",
            "S S S S S\n",
            "\n",
            "   A \n",
            " A   A \n",
            "A A A A \n",
            "A      A \n",
            "A      A \n",
            "A      A\n",
            "\n",
            "L \n",
            "L \n",
            "L \n",
            "L \n",
            "L \n",
            "L L L L L\n",
            "\n",
            "M     M \n",
            "M M M M \n",
            "M  M  M \n",
            "M     M \n",
            "M     M \n",
            "M     M\n",
            "\n",
            "    A \n",
            " A    A \n",
            "A A  A A \n",
            "A      A \n",
            "A      A \n",
            "A      A\n"
          ]
        }
      ]
    }
  ]
}