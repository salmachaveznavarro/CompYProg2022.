{
  "nbformat": 4,
  "nbformat_minor": 0,
  "metadata": {
    "colab": {
      "name": "fundamentosCyP1157.ipynb",
      "provenance": [],
      "collapsed_sections": [],
      "authorship_tag": "ABX9TyNmJsvAHXLGeBKyzdjZg8lL",
      "include_colab_link": true
    },
    "kernelspec": {
      "name": "python3",
      "display_name": "Python 3"
    },
    "language_info": {
      "name": "python"
    }
  },
  "cells": [
    {
      "cell_type": "markdown",
      "metadata": {
        "id": "view-in-github",
        "colab_type": "text"
      },
      "source": [
        "<a href=\"https://colab.research.google.com/github/salmachaveznavarro/CompYProg2022./blob/compyprog2022/fundamentosCyP1157.ipynb\" target=\"_parent\"><img src=\"https://colab.research.google.com/assets/colab-badge.svg\" alt=\"Open In Colab\"/></a>"
      ]
    },
    {
      "cell_type": "code",
      "metadata": {
        "colab": {
          "base_uri": "https://localhost:8080/"
        },
        "id": "RYIJViRSVVGU",
        "outputId": "5d6f37c8-55ea-4f88-abc0-411a57006bc7"
      },
      "source": [
        "nombre = \"josé\" #tipo de dat string (cadena de caracteres)\n",
        "print (nombre)"
      ],
      "execution_count": null,
      "outputs": [
        {
          "output_type": "stream",
          "name": "stdout",
          "text": [
            "josé\n"
          ]
        }
      ]
    },
    {
      "cell_type": "markdown",
      "metadata": {
        "id": "Y0WzDrbiXMcD"
      },
      "source": [
        "# Tipo de dato en Python\n",
        "\n",
        "### Tipos de datos simples\n",
        "- str --> string o cadena de caracteres\n",
        "- int --> números enteros\n",
        "- float --> números con notación de punto flotando (3.1416)\n",
        "- complex --> números complejos\n",
        "- bool --> booleano (verdadero o falso)\n",
        "- byte --> 8 bits\n",
        "\n",
        "### Tipos de datos compuestos o estructurados\n",
        "- listas --> listas (arreglos en otros lenguajes)\n",
        "- tuple --> listas no mutables\n",
        "- dict --> diccionarios\n",
        "- set y frozenset --> conjuntos\n"
      ]
    },
    {
      "cell_type": "code",
      "metadata": {
        "colab": {
          "base_uri": "https://localhost:8080/"
        },
        "id": "WHk5GQVQaSHB",
        "outputId": "304d7ef0-5062-4c14-963b-d7a2fc2b01ef"
      },
      "source": [
        "import sys #biblioteca o modulo que conecta con el sistema de python\n",
        "edad = 19\n",
        "print(\"tu edad es:\",edad) # al final de una línea de código\n",
        "# este es un comentario de linea simple\n",
        "\"\"\"\n",
        "comentario de multiple línea\n",
        "En lenguaje C, C++ y Java el comentaariode múltiple línea es con \n",
        "/* ..... */\n",
        "En lenguaje C, C++ y Java el comentario de una sola linea es con:\n",
        "//\n",
        "Aquí puedes explicar en prosa el segmento de un código para futura revisión\n",
        "\"\"\"\n",
        "#tipos de dato numérico int y float\n",
        "\n",
        "sys.getsizeof(edad) #numero de bits que usa la variable \"edad\"\n",
        "#leg de prog. por ejemplo en C utiliza 16 bits.\n",
        "\n",
        "edad= edad + 1\n",
        "print(edad)\n",
        "\n",
        "estatura= 1.56\n",
        "print(estatura)\n",
        "print (sys.getsizeof(estatura))\n",
        "estatura= estatura+ 0.1\n",
        "print(estatura)\n",
        "print(round(estatura,2)) #el 2 es de 2 decimales\n",
        "edad += 1 # es igual a poner edad + 1\n",
        "print(\"tu edad es \",edad)\n",
        "edad -= 1 # es igual a poner edad - 1\n",
        "print(\"tu edad es \",edad)\n",
        "edad += 1 # vuelve a 21\n",
        "edad /=2 # es igual a poner edad /2\n",
        "print(\"la mitad de tu edad es \",edad)\n",
        "edad=21\n",
        "# volver a calcular la mitad de la edad pero solo dejar la parte entera\n",
        "edad= edad // 2 #// es igual a div (division entera)\n",
        "print(edad) \n",
        "#en la mayoria de los lenguajes no permite las operaciones entre diferentes\n",
        "#tipos de datos\n",
        "\n",
        "numero= edad / 2.0\n",
        "print (numero)\n",
        "numero *= 3\n",
        "print(numero)\n",
        "numero = 5\n",
        "numero **= 3\n",
        "print(numero)\n"
      ],
      "execution_count": null,
      "outputs": [
        {
          "output_type": "stream",
          "name": "stdout",
          "text": [
            "tu edad es: 19\n",
            "20\n",
            "1.56\n",
            "24\n",
            "1.6600000000000001\n",
            "1.66\n",
            "tu edad es  21\n",
            "tu edad es  20\n",
            "la mitad de tu edad es  10.5\n",
            "10\n",
            "5.0\n",
            "15.0\n",
            "125\n",
            "10.5\n"
          ]
        }
      ]
    },
    {
      "cell_type": "code",
      "metadata": {
        "colab": {
          "base_uri": "https://localhost:8080/"
        },
        "id": "_jHEThy8lu9v",
        "outputId": "bbeb97a1-1198-4f3c-f829-a34981de2271"
      },
      "source": [
        "\n",
        "# operador modulo \n",
        "numero = 21\n",
        "print(numero / 2)\n",
        "\n",
        "# operador modulo \n",
        "numero = 21\n",
        "print(numero // 2)\n",
        "#el operador modulo da como resultado el residuo de una división entera\n",
        "print(numero % 2) # % es igual a mod\n",
        "\n",
        "numero = 24\n",
        "print(\"residuo de 24/5: \",numero % 5)\n",
        "print(numero % 2 == 0) #el residuo de 24 /2 es igual a 0\n",
        "\n",
        "#operadores relacionales (logicos)\n",
        "print(numero)\n",
        "print(\"23 es mayor que 24?\",numero > 24)\n",
        "print(\"23 es diferente que 24?\",numero != 23) # != es igual a <>\n",
        "print(\"24 es menor o igual que 23?\", numero <= 23)\n",
        "print(\"24 es mayor o igual que 23?\", numero >= 23)\n",
        "\n",
        "print(\"el tipo de dato de la var numero es:\", type(numero))\n",
        "print(\"el tipo de dato de la var numero es:\", type(numero/2))\n"
      ],
      "execution_count": null,
      "outputs": [
        {
          "output_type": "stream",
          "name": "stdout",
          "text": [
            "10.5\n",
            "10\n",
            "1\n",
            "residuo de 24/5:  4\n",
            "True\n",
            "24\n",
            "23 es mayor que 24? False\n",
            "23 es diferente que 24? True\n",
            "24 es menor o igual que 23? False\n",
            "24 es mayor o igual que 23? True\n",
            "el tipo de dato de la var numero es: <class 'int'>\n",
            "el tipo de dato de la var numero es: <class 'float'>\n"
          ]
        }
      ]
    },
    {
      "cell_type": "markdown",
      "metadata": {
        "id": "PZ8lSe75pjkx"
      },
      "source": [
        "# tipo de dato string (str) en python\n",
        "- se maneja como un arreglo (tipo de dato compuesto)\n",
        "- significa que se puede acceder a los elementos del string por medio del índice del caracter\n",
        "- mutable\n",
        "- tiene métodos útiles (potentes)\n",
        "- slicing"
      ]
    },
    {
      "cell_type": "code",
      "metadata": {
        "colab": {
          "base_uri": "https://localhost:8080/"
        },
        "id": "Hv8RxOn-qIAI",
        "outputId": "67c61ab6-8175-42dc-8fb4-6a4edf8a8e23"
      },
      "source": [
        "nombre=\"jose\"\n",
        "carrera = \"ingenieria en computacion\"\n",
        "frase = \"\"\"el conocimiento\n",
        "me persigue,....\n",
        "pero\n",
        "yo soy mas rapido\n",
        "\"\"\"\n",
        "print(nombre) \n",
        "print(carrera)\n",
        "print(frase)\n",
        "#la funcion type de python te decuelve el tipo de dato de una variable\n",
        "print( type(nombre))\n",
        "paterno= str(\"Perez\")\n",
        "print(paterno)\n"
      ],
      "execution_count": null,
      "outputs": [
        {
          "output_type": "stream",
          "name": "stdout",
          "text": [
            "jose\n",
            "ingenieria en computacion\n",
            "el conocimiento\n",
            "me persigue,....\n",
            "pero\n",
            "yo soy mas rapido\n",
            "\n",
            "<class 'str'>\n",
            "Perez\n"
          ]
        }
      ]
    }
  ]
}