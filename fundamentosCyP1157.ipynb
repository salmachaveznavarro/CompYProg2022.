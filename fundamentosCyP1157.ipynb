{
  "nbformat": 4,
  "nbformat_minor": 0,
  "metadata": {
    "colab": {
      "name": "fundamentosCyP1157.ipynb",
      "provenance": [],
      "collapsed_sections": [],
      "authorship_tag": "ABX9TyNgFF7V/bhBybnec/ZTUaUj",
      "include_colab_link": true
    },
    "kernelspec": {
      "name": "python3",
      "display_name": "Python 3"
    },
    "language_info": {
      "name": "python"
    }
  },
  "cells": [
    {
      "cell_type": "markdown",
      "metadata": {
        "id": "view-in-github",
        "colab_type": "text"
      },
      "source": [
        "<a href=\"https://colab.research.google.com/github/salmachaveznavarro/CompYProg2022./blob/compyprog2022/fundamentosCyP1157.ipynb\" target=\"_parent\"><img src=\"https://colab.research.google.com/assets/colab-badge.svg\" alt=\"Open In Colab\"/></a>"
      ]
    },
    {
      "cell_type": "code",
      "metadata": {
        "colab": {
          "base_uri": "https://localhost:8080/"
        },
        "id": "RYIJViRSVVGU",
        "outputId": "5d6f37c8-55ea-4f88-abc0-411a57006bc7"
      },
      "source": [
        "nombre = \"josé\" #tipo de dat string (cadena de caracteres)\n",
        "print (nombre)"
      ],
      "execution_count": null,
      "outputs": [
        {
          "output_type": "stream",
          "name": "stdout",
          "text": [
            "josé\n"
          ]
        }
      ]
    },
    {
      "cell_type": "markdown",
      "metadata": {
        "id": "Y0WzDrbiXMcD"
      },
      "source": [
        "# Tipo de dato en Python\n",
        "\n",
        "### Tipos de datos simples\n",
        "- str --> string o cadena de caracteres\n",
        "- int --> números enteros\n",
        "- float --> números con notación de punto flotando (3.1416)\n",
        "- complex --> números complejos\n",
        "- bool --> booleano (verdadero o falso)\n",
        "- byte --> 8 bits\n",
        "\n",
        "### Tipos de datos compuestos o estructurados\n",
        "- listas --> listas (arreglos en otros lenguajes)\n",
        "- tuple --> listas no mutables\n",
        "- dict --> diccionarios\n",
        "- set y frozenset --> conjuntos\n"
      ]
    },
    {
      "cell_type": "code",
      "metadata": {
        "colab": {
          "base_uri": "https://localhost:8080/"
        },
        "id": "WHk5GQVQaSHB",
        "outputId": "304d7ef0-5062-4c14-963b-d7a2fc2b01ef"
      },
      "source": [
        "import sys #biblioteca o modulo que conecta con el sistema de python\n",
        "edad = 19\n",
        "print(\"tu edad es:\",edad) # al final de una línea de código\n",
        "# este es un comentario de linea simple\n",
        "\"\"\"\n",
        "comentario de multiple línea\n",
        "En lenguaje C, C++ y Java el comentaariode múltiple línea es con \n",
        "/* ..... */\n",
        "En lenguaje C, C++ y Java el comentario de una sola linea es con:\n",
        "//\n",
        "Aquí puedes explicar en prosa el segmento de un código para futura revisión\n",
        "\"\"\"\n",
        "#tipos de dato numérico int y float\n",
        "\n",
        "sys.getsizeof(edad) #numero de bits que usa la variable \"edad\"\n",
        "#leg de prog. por ejemplo en C utiliza 16 bits.\n",
        "\n",
        "edad= edad + 1\n",
        "print(edad)\n",
        "\n",
        "estatura= 1.56\n",
        "print(estatura)\n",
        "print (sys.getsizeof(estatura))\n",
        "estatura= estatura+ 0.1\n",
        "print(estatura)\n",
        "print(round(estatura,2)) #el 2 es de 2 decimales\n",
        "edad += 1 # es igual a poner edad + 1\n",
        "print(\"tu edad es \",edad)\n",
        "edad -= 1 # es igual a poner edad - 1\n",
        "print(\"tu edad es \",edad)\n",
        "edad += 1 # vuelve a 21\n",
        "edad /=2 # es igual a poner edad /2\n",
        "print(\"la mitad de tu edad es \",edad)\n",
        "edad=21\n",
        "# volver a calcular la mitad de la edad pero solo dejar la parte entera\n",
        "edad= edad // 2 #// es igual a div (division entera)\n",
        "print(edad) \n",
        "#en la mayoria de los lenguajes no permite las operaciones entre diferentes\n",
        "#tipos de datos\n",
        "\n",
        "numero= edad / 2.0\n",
        "print (numero)\n",
        "numero *= 3\n",
        "print(numero)\n",
        "numero = 5\n",
        "numero **= 3\n",
        "print(numero)\n"
      ],
      "execution_count": null,
      "outputs": [
        {
          "output_type": "stream",
          "name": "stdout",
          "text": [
            "tu edad es: 19\n",
            "20\n",
            "1.56\n",
            "24\n",
            "1.6600000000000001\n",
            "1.66\n",
            "tu edad es  21\n",
            "tu edad es  20\n",
            "la mitad de tu edad es  10.5\n",
            "10\n",
            "5.0\n",
            "15.0\n",
            "125\n",
            "10.5\n"
          ]
        }
      ]
    },
    {
      "cell_type": "code",
      "metadata": {
        "colab": {
          "base_uri": "https://localhost:8080/"
        },
        "id": "_jHEThy8lu9v",
        "outputId": "bbeb97a1-1198-4f3c-f829-a34981de2271"
      },
      "source": [
        "\n",
        "# operador modulo \n",
        "numero = 21\n",
        "print(numero / 2)\n",
        "\n",
        "# operador modulo \n",
        "numero = 21\n",
        "print(numero // 2)\n",
        "#el operador modulo da como resultado el residuo de una división entera\n",
        "print(numero % 2) # % es igual a mod\n",
        "\n",
        "numero = 24\n",
        "print(\"residuo de 24/5: \",numero % 5)\n",
        "print(numero % 2 == 0) #el residuo de 24 /2 es igual a 0\n",
        "\n",
        "#operadores relacionales (logicos)\n",
        "print(numero)\n",
        "print(\"23 es mayor que 24?\",numero > 24)\n",
        "print(\"23 es diferente que 24?\",numero != 23) # != es igual a <>\n",
        "print(\"24 es menor o igual que 23?\", numero <= 23)\n",
        "print(\"24 es mayor o igual que 23?\", numero >= 23)\n",
        "\n",
        "print(\"el tipo de dato de la var numero es:\", type(numero))\n",
        "print(\"el tipo de dato de la var numero es:\", type(numero/2))\n"
      ],
      "execution_count": null,
      "outputs": [
        {
          "output_type": "stream",
          "name": "stdout",
          "text": [
            "10.5\n",
            "10\n",
            "1\n",
            "residuo de 24/5:  4\n",
            "True\n",
            "24\n",
            "23 es mayor que 24? False\n",
            "23 es diferente que 24? True\n",
            "24 es menor o igual que 23? False\n",
            "24 es mayor o igual que 23? True\n",
            "el tipo de dato de la var numero es: <class 'int'>\n",
            "el tipo de dato de la var numero es: <class 'float'>\n"
          ]
        }
      ]
    },
    {
      "cell_type": "markdown",
      "metadata": {
        "id": "PZ8lSe75pjkx"
      },
      "source": [
        "# tipo de dato string (str) en python\n",
        "- se maneja como un arreglo (tipo de dato compuesto)\n",
        "- significa que se puede acceder a los elementos del string por medio del índice del caracter\n",
        "- mutable\n",
        "- tiene métodos útiles (potentes)\n",
        "- slicing"
      ]
    },
    {
      "cell_type": "code",
      "metadata": {
        "colab": {
          "base_uri": "https://localhost:8080/"
        },
        "id": "Hv8RxOn-qIAI",
        "outputId": "dbd050b5-1477-4682-b2f5-134b02e7f62d"
      },
      "source": [
        "nombre=\"jose\"\n",
        "carrera = \"ingeniería en computación\"\n",
        "frase = \"\"\"el conocimiento\n",
        "me persigue,....\n",
        "pero\n",
        "yo soy mas rapido\n",
        "\"\"\"\n",
        "print(nombre) \n",
        "print(carrera)\n",
        "print(frase)\n",
        "#la funcion type de python te decuelve el tipo de dato de una variable\n",
        "print( type(nombre))\n",
        "paterno= str(\"Perez\")\n",
        "print(paterno)\n"
      ],
      "execution_count": 1,
      "outputs": [
        {
          "output_type": "stream",
          "name": "stdout",
          "text": [
            "jose\n",
            "ingeniería en computación\n",
            "el conocimiento\n",
            "me persigue,....\n",
            "pero\n",
            "yo soy mas rapido\n",
            "\n",
            "<class 'str'>\n",
            "Perez\n"
          ]
        }
      ]
    },
    {
      "cell_type": "markdown",
      "metadata": {
        "id": "P4Rox_7IpSJd"
      },
      "source": [
        "### Una clase (class) es un tipo de dato compuesto."
      ]
    },
    {
      "cell_type": "code",
      "metadata": {
        "id": "Hb6Blc88pdk3",
        "outputId": "3a658a03-603c-4363-bf7c-f5760354cf44",
        "colab": {
          "base_uri": "https://localhost:8080/"
        }
      },
      "source": [
        "carrera= \"Ingeniería en computación\" \n",
        "print(carrera)\n",
        "print(carrera[2]) "
      ],
      "execution_count": 4,
      "outputs": [
        {
          "output_type": "stream",
          "name": "stdout",
          "text": [
            "Ingeniería en computación\n",
            "g\n"
          ]
        }
      ]
    },
    {
      "cell_type": "markdown",
      "metadata": {
        "id": "8wf1EbdMrllj"
      },
      "source": [
        "# A la sintaxis escrita para elegir un elemento de un grupo de datos se le llama selector.\n",
        "En el caso de str y listas (lst) se usan los caracteres '[' ']'\n",
        "1. En todos los lenguajes los arreglos inician con 0.\n",
        "2. En python no existe el tipo de dato arreglo, el concepto es sustituido por las listas.\n",
        "3. Los str se comportan como un arreglo en la mayoría de los lenguajes.\n",
        "4. En python se acepta el indexado negativo en otros lenguajes NO."
      ]
    },
    {
      "cell_type": "code",
      "metadata": {
        "id": "KDwLUHXvsfOy",
        "outputId": "df51f422-a96a-4cf7-9b1e-b876518d95ee",
        "colab": {
          "base_uri": "https://localhost:8080/"
        }
      },
      "source": [
        "carrera= \"Ingeniería en computación\"\n",
        "print(carrera[8])\n",
        "print(carrera[24])\n",
        "print(carrera[-1])\n",
        "print(carrera[-25])\n",
        "\n",
        "#Adelantando el tema del ciclo FOR\n",
        "for letra in carrera:\n",
        "  print(\"-->\",letra,\"<--\")"
      ],
      "execution_count": 13,
      "outputs": [
        {
          "output_type": "stream",
          "name": "stdout",
          "text": [
            "í\n",
            "n\n",
            "n\n",
            "I\n",
            "--> I <--\n",
            "--> n <--\n",
            "--> g <--\n",
            "--> e <--\n",
            "--> n <--\n",
            "--> i <--\n",
            "--> e <--\n",
            "--> r <--\n",
            "--> í <--\n",
            "--> a <--\n",
            "-->   <--\n",
            "--> e <--\n",
            "--> n <--\n",
            "-->   <--\n",
            "--> c <--\n",
            "--> o <--\n",
            "--> m <--\n",
            "--> p <--\n",
            "--> u <--\n",
            "--> t <--\n",
            "--> a <--\n",
            "--> c <--\n",
            "--> i <--\n",
            "--> ó <--\n",
            "--> n <--\n"
          ]
        }
      ]
    },
    {
      "cell_type": "markdown",
      "metadata": {
        "id": "xQVaSoBGu353"
      },
      "source": [
        "## Slicing (rebanado) de cadenas\n",
        " \n",
        " Permite seleccionar subcadenas con el operador \n",
        " [inicio : stop : incremento ]\n",
        " El stop no se incluye por eso debemos agragar una posición extra.\n",
        " ### El inicio por defecto siempre será 0 stop: tamaño del arreglo (indexado positivo) y será 0 (en un indexado negativo)\n",
        " Incrementro: es 1 (indexado positivo)"
      ]
    },
    {
      "cell_type": "code",
      "metadata": {
        "id": "fG2uB4ulvXdn",
        "outputId": "92f1fc6d-e6b0-43e8-dd98-b87ac0edc3c0",
        "colab": {
          "base_uri": "https://localhost:8080/"
        }
      },
      "source": [
        "carrera= \"Ingeniería en computación\"\n",
        "print(carrera[0:10:1])\n",
        "print(carrera[14:25:1])\n",
        "print(carrera[:10:])\n",
        "print(carrera [14:25:])\n",
        "\n",
        "# Solución previa \n",
        "print(\"----------\")\n",
        "print(carrera[-11:-1:1])\n",
        "print(carrera[-11: :1])\n",
        "\n",
        "# un ejercicio para ver el incremento\n",
        "print(carrera[0:10:2])\n",
        "print(carrera [-1:-12:-1])\n",
        "print(carrera [-1:-12:-2])\n",
        "print(carrera[25:13:-1])"
      ],
      "execution_count": 32,
      "outputs": [
        {
          "output_type": "stream",
          "name": "stdout",
          "text": [
            "Ingeniería\n",
            "computación\n",
            "Ingeniería\n",
            "computación\n",
            "----------\n",
            "computació\n",
            "computación\n",
            "Igneí\n",
            "nóicatupmoc\n",
            "niaumc\n",
            "nóicatupmoc\n"
          ]
        }
      ]
    },
    {
      "cell_type": "markdown",
      "metadata": {
        "id": "YRQgJ9hc0jBo"
      },
      "source": [
        "# Sring y sus métodos\n",
        "# Todos los tipos de dato en python son objetos (CLASES de la POO)\n",
        "### Lo cual significa que tiene atributos y métodos.\n",
        "## dir() y help () funciones para obtener ayuda del lenguaje python\n",
        "### dir () muestra las funciones de un tipo de dato como resumen.\n",
        "### help() muestra la misma ayuda pero a detalle.\n",
        "\n",
        "Metodo que incian con doble guion bajo son privados de uso interno en la clase y no deberiamos usarlo.\n",
        "Todos los demas son de uso exterior.\n"
      ]
    },
    {
      "cell_type": "code",
      "metadata": {
        "id": "-QWWO5a404kL",
        "outputId": "fae21f2e-e86e-4818-de58-0588c21bf1ea",
        "colab": {
          "base_uri": "https://localhost:8080/"
        }
      },
      "source": [
        "frutas=\"  limón , fresa, manzana  , aguacate  \"\n",
        "nombre = \"jose\"\n",
        "print(frutas)\n",
        "dir(frutas)\n",
        "\n",
        "print( nombre.capitalize())\n",
        "print( nombre.upper())\n",
        "print(frutas.replace('a','4').replace('e','3').upper())\n",
        "frutas= frutas.replace('a','4').replace('e','3').upper()\n",
        "print(frutas)\n",
        "print(\".-.-.-.-.-..-.-.-.-..-.-.-.-.\")\n",
        "frutas=\"  limón , fresa, manzana  , aguacate  \"\n",
        "print(frutas.strip())\n",
        "print(frutas.split(','))\n",
        "print(frutas.index('n'))\n",
        "print(frutas.find('n'))"
      ],
      "execution_count": 61,
      "outputs": [
        {
          "output_type": "stream",
          "name": "stdout",
          "text": [
            "  limón , fresa, manzana  , aguacate  \n",
            "Jose\n",
            "JOSE\n",
            "  LIMÓN , FR3S4, M4NZ4N4  , 4GU4C4T3  \n",
            "  LIMÓN , FR3S4, M4NZ4N4  , 4GU4C4T3  \n",
            ".-.-.-.-.-..-.-.-.-..-.-.-.-.\n",
            "limón , fresa, manzana  , aguacate\n",
            "['  limón ', ' fresa', ' manzana  ', ' aguacate  ']\n",
            "6\n",
            "6\n"
          ]
        }
      ]
    },
    {
      "cell_type": "markdown",
      "metadata": {
        "id": "r7J11MqB8X1m"
      },
      "source": [
        "#String y caracteres de escape\n",
        "\n",
        "\"Jose\"\n",
        "- \\\" --> \"\n",
        "- \\' -->'\n",
        "- \\n --> salto de linea (tecla enter)\n",
        "- \\t --> tabulador spacios a la izq.\n",
        "-  \\Uxxxx --> caracteres unicode\n",
        "- \\Uxxxxxxxxxx --> unicode extendido"
      ]
    },
    {
      "cell_type": "code",
      "metadata": {
        "id": "Db-hcb4N8XGf",
        "outputId": "87bcf7fe-245e-40e8-aa46-28b6cbac4958",
        "colab": {
          "base_uri": "https://localhost:8080/"
        }
      },
      "source": [
        "print(\" \\\"jose\\\" \")\n",
        "nombre = \"\\\"jose\\\" \"\n",
        "print(nombre) \n",
        "carrera= \"ingeniería \\nen \\ncomputación\"\n",
        "print(carrera)\n",
        "carrera= \"ingeniería \\n\\ten \\n\\t\\tcomputación\"\n",
        "print(carrera)"
      ],
      "execution_count": 68,
      "outputs": [
        {
          "output_type": "stream",
          "name": "stdout",
          "text": [
            " \"jose\" \n",
            "\"jose\" \n",
            "ingeniería \n",
            "en \n",
            "computación\n",
            "ingeniería \n",
            "\ten \n",
            "\t\tcomputación\n"
          ]
        }
      ]
    }
  ]
}