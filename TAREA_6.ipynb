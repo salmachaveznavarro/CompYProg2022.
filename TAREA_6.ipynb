{
  "nbformat": 4,
  "nbformat_minor": 0,
  "metadata": {
    "colab": {
      "name": "TAREA 6",
      "provenance": [],
      "authorship_tag": "ABX9TyN4R9cl0BZaJ06TLzzcvyeN",
      "include_colab_link": true
    },
    "kernelspec": {
      "name": "python3",
      "display_name": "Python 3"
    },
    "language_info": {
      "name": "python"
    }
  },
  "cells": [
    {
      "cell_type": "markdown",
      "metadata": {
        "id": "view-in-github",
        "colab_type": "text"
      },
      "source": [
        "<a href=\"https://colab.research.google.com/github/salmachaveznavarro/CompYProg2022./blob/compyprog2022/TAREA_6.ipynb\" target=\"_parent\"><img src=\"https://colab.research.google.com/assets/colab-badge.svg\" alt=\"Open In Colab\"/></a>"
      ]
    },
    {
      "cell_type": "markdown",
      "metadata": {
        "id": "TmUem5lvr8bD"
      },
      "source": [
        "# **Tarea 6**\n",
        "## Salma Chavez Navarro"
      ]
    },
    {
      "cell_type": "code",
      "metadata": {
        "colab": {
          "base_uri": "https://localhost:8080/"
        },
        "id": "cTp-vAAE3_FR",
        "outputId": "61587cdb-7677-4f54-9edd-c03191c8da77"
      },
      "source": [
        "# Problema 2.1\n",
        "T=0\n",
        "N=int(input(\"Introduce el número de sonidos emitidos por minuto: \"))\n",
        "if N>0:\n",
        "    T=N/4+40\n",
        "    print(\"Temperatura\",T)\n",
        "print(\"Fin del programa.\")"
      ],
      "execution_count": 5,
      "outputs": [
        {
          "output_type": "stream",
          "name": "stdout",
          "text": [
            "Introduce el número de sonidos emitidos por minuto: 50\n",
            "Temperatura 52.5\n",
            "Fin del programa.\n"
          ]
        }
      ]
    },
    {
      "cell_type": "code",
      "metadata": {
        "colab": {
          "base_uri": "https://localhost:8080/"
        },
        "id": "AVfMdpgL5duG",
        "outputId": "e4dbe591-5500-47b0-9d7e-cea77e171850"
      },
      "source": [
        "# Problema 2.2\n",
        "P=0\n",
        "Q=0\n",
        "EXP=0\n",
        "P=int(input(\"Ingrese un valor entero: \"))\n",
        "Q=int(input(\"Ingrese otro valor entero: \"))\n",
        "EXP=P**3+Q**4-2*P**2\n",
        "if EXP<680:\n",
        "    print(P,Q)\n",
        "print(\"Fin del programa.\")"
      ],
      "execution_count": 11,
      "outputs": [
        {
          "output_type": "stream",
          "name": "stdout",
          "text": [
            "Ingrese un valor entero: 2\n",
            "Ingrese otro valor entero: 4\n",
            "2 4\n",
            "Fin del programa.\n"
          ]
        }
      ]
    },
    {
      "cell_type": "code",
      "metadata": {
        "colab": {
          "base_uri": "https://localhost:8080/"
        },
        "id": "vPSk6kov7dWG",
        "outputId": "cebda554-2f1a-4ac9-c3f0-44cdcc7e5a4c"
      },
      "source": [
        "# Problema 2.3\n",
        "A=0\n",
        "B=0\n",
        "C=0\n",
        "DIS=0\n",
        "X1=0\n",
        "X2=0\n",
        "A=float(input(\"Introduce el valor de A: \"))\n",
        "B=float(input(\"Introduce el valor de B: \"))\n",
        "C=float(input(\"Introduce el valor de C: \"))\n",
        "DIS= B**2 - 4*A*C\n",
        "if DIS >=0:\n",
        "    X1= ((-B)+ DIS**0.5)/(2*A)\n",
        "    X2= ((-B)- DIS**0.5)/(2*A)\n",
        "    print(\"Raíces reales:\", X1, X2)\n",
        "print(\"Fin del programa.\")"
      ],
      "execution_count": 28,
      "outputs": [
        {
          "output_type": "stream",
          "name": "stdout",
          "text": [
            "Introduce el valor de A: 3\n",
            "Introduce el valor de B: 9\n",
            "Introduce el valor de C: 1.5\n",
            "Raíces reales: -0.17712434446770464 -2.8228756555322954\n",
            "Fin del programa.\n"
          ]
        }
      ]
    },
    {
      "cell_type": "code",
      "metadata": {
        "colab": {
          "base_uri": "https://localhost:8080/"
        },
        "id": "_cD-A7-cAq_r",
        "outputId": "b7c5fecc-2ebe-4510-b15b-38ce5fe0072d"
      },
      "source": [
        "# Problema 2.4\n",
        "MAT=0\n",
        "CAL1=0\n",
        "CAL2=0\n",
        "CAL3=0\n",
        "CAL4=0\n",
        "CAL5=0\n",
        "PRO=0\n",
        "MAT=int(input(\"Ingrese su matrícula: \"))\n",
        "CAL1=float(input(\"Ingrese la calificación no.1: \"))\n",
        "CAL2=float(input(\"Ingrese la calificación no.2: \"))\n",
        "CAL3=float(input(\"Ingrese la calificación no.3: \"))\n",
        "CAL4=float(input(\"Ingrese la calificación no.4: \"))\n",
        "CAL5=float(input(\"Ingrese la calificación no.5: \"))\n",
        "PRO=(CAL1 + CAL2 + CAL3 + CAL4 + CAL5)/5\n",
        "if PRO>=6:\n",
        "    print(\"Su matrícula es\", MAT , \"y su promedio es\", PRO,\", usted está APROBADO.\")\n",
        "else:\n",
        "    print(\"Su matrícula es\", MAT , \"y su promedio es\", PRO,\", usted está REPROBADO.\")\n",
        "print(\"Fin del programa.\")"
      ],
      "execution_count": 18,
      "outputs": [
        {
          "output_type": "stream",
          "name": "stdout",
          "text": [
            "Ingrese su matrícula: 7\n",
            "Ingrese la calificación no.1: 4.60\n",
            "Ingrese la calificación no.2: 4.90\n",
            "Ingrese la calificación no.3: 7\n",
            "Ingrese la calificación no.4: 5.60\n",
            "Ingrese la calificación no.5: 6.30\n",
            "Su matrícula es 7 y su promedio es 5.680000000000001 , usted está REPROBADO.\n",
            "Fin del programa.\n"
          ]
        }
      ]
    },
    {
      "cell_type": "code",
      "metadata": {
        "colab": {
          "base_uri": "https://localhost:8080/"
        },
        "id": "Z7rLDyhpCmnn",
        "outputId": "244b2d45-55fb-4263-e7fb-d1c40e4e564f"
      },
      "source": [
        "# Problema 2.5\n",
        "NUM=0\n",
        "NUM=int(input(\"Introduzca un número entero: \"))\n",
        "if NUM>0:\n",
        "    print(\"POSITIVO\")\n",
        "elif NUM==0:\n",
        "    print(\"NULO\")\n",
        "else:\n",
        "    print(\"NEGATIVO\")\n",
        "print(\"Fin del programa.\")"
      ],
      "execution_count": 48,
      "outputs": [
        {
          "output_type": "stream",
          "name": "stdout",
          "text": [
            "Introduzca un número entero: 8\n",
            "POSITIVO\n",
            "Fin del programa.\n"
          ]
        }
      ]
    },
    {
      "cell_type": "code",
      "metadata": {
        "colab": {
          "base_uri": "https://localhost:8080/"
        },
        "id": "9m4sIDrQH7l6",
        "outputId": "75b50496-7747-4332-aeca-cc6271774ea8"
      },
      "source": [
        "# Problema 2.6\n",
        "A=0\n",
        "A= int(input(\"Ingrese un valor entero: \"))\n",
        "if A==0:\n",
        "    print(\"NULO\")\n",
        "elif ((-1)**A)>0:\n",
        "    print(\"PAR\")\n",
        "else:\n",
        "    print(\"IMPAR\")\n",
        "print(\"Fin del programa.\")"
      ],
      "execution_count": 56,
      "outputs": [
        {
          "output_type": "stream",
          "name": "stdout",
          "text": [
            "Ingrese un valor entero: 8\n",
            "PAR\n",
            "Fin del programa.\n"
          ]
        }
      ]
    },
    {
      "cell_type": "code",
      "metadata": {
        "colab": {
          "base_uri": "https://localhost:8080/"
        },
        "id": "uBsguXzBNSLZ",
        "outputId": "77d3a93e-96ea-48d5-c41f-11f6698a4061"
      },
      "source": [
        "# Problema 2.7\n",
        "A=0\n",
        "B=0\n",
        "C=0\n",
        "A=int(input(\"Ingrese un número entero: \"))\n",
        "B=int(input(\"Ingrese otro número entero: \"))\n",
        "C=int(input(\"Ingrese otro número entero: \"))\n",
        "if A<B:\n",
        "    if B<C:\n",
        "        print(\"Los números están en orden creciente.\")\n",
        "    else:\n",
        "        print(\"Los números no están en orden creciente.\")\n",
        "else:\n",
        "    print(\"Los números no están en orden creciente.\")\n",
        "print(\"Fin del programa.\")"
      ],
      "execution_count": 62,
      "outputs": [
        {
          "output_type": "stream",
          "name": "stdout",
          "text": [
            "Ingrese un número entero: 8\n",
            "Ingrese otro número entero: 9\n",
            "Ingrese otro número entero: 10\n",
            "Los números están en orden creciente.\n",
            "Fin del programa.\n"
          ]
        }
      ]
    },
    {
      "cell_type": "code",
      "metadata": {
        "colab": {
          "base_uri": "https://localhost:8080/"
        },
        "id": "6sQIiftqOq_d",
        "outputId": "e77bafc2-b242-4d9c-a1d4-a0dc490a7279"
      },
      "source": [
        "# Problema 2.8\n",
        "COMPRA=float(input(\"Ingrese el monto de la compra: \"))\n",
        "if COMPRA<500:\n",
        "    PAGAR=COMPRA\n",
        "elif COMPRA<=1000:\n",
        "    PAGAR=COMPRA-(COMPRA*0.05)\n",
        "elif COMPRA<=7000:\n",
        "    PAGAR=COMPRA-(COMPRA*0.11)\n",
        "elif COMPRA<=15000:\n",
        "    PAGAR=COMPRA-(COMPRA*0.18)\n",
        "else:\n",
        "    PAGAR= COMPRA-(COMPRA*0.25)\n",
        "print(\"Su pago total es:\", round(PAGAR,2))"
      ],
      "execution_count": 66,
      "outputs": [
        {
          "output_type": "stream",
          "name": "stdout",
          "text": [
            "Ingrese el monto de la compra: 1318.50\n",
            "Su pago total es: 1173.46\n"
          ]
        }
      ]
    },
    {
      "cell_type": "code",
      "metadata": {
        "colab": {
          "base_uri": "https://localhost:8080/"
        },
        "id": "zm6E4US8Q6Pa",
        "outputId": "9d432bfa-cb02-4b62-e77e-de33b882538f"
      },
      "source": [
        "# Problema 2.9\n",
        "PREBAS=float(input(\"Ingrese el precio básico del artículo: \"))\n",
        "if PREBAS>500:\n",
        "    IMP=20*0.30+(PREBAS-40)*0.50\n",
        "elif PREBAS>40:\n",
        "    IMP=20*0.30+(PREBAS-40)*0.40\n",
        "elif PREBAS>20:\n",
        "    IMP=(PREBAS-20)*0.30\n",
        "else:\n",
        "    IMP=0\n",
        "PRETOT=PREBAS+IMP\n",
        "print(\"El precio básico es\", PREBAS,\"y el costo total es\", round(PRETOT,2))\n",
        "print(\"Fin del programa.\")"
      ],
      "execution_count": 68,
      "outputs": [
        {
          "output_type": "stream",
          "name": "stdout",
          "text": [
            "Ingrese el precio básico del artículo: 527.50\n",
            "El precio básico es 527.5 y el costo total es 777.25\n",
            "Fin del programa.\n"
          ]
        }
      ]
    },
    {
      "cell_type": "code",
      "metadata": {
        "colab": {
          "base_uri": "https://localhost:8080/"
        },
        "id": "7-78u7ajSzE_",
        "outputId": "2a0ba394-0e33-4af4-ea7d-a2d04938bddd"
      },
      "source": [
        "# Problema 2.10\n",
        "A=int(input(\"Ingrese un número entero: \"))\n",
        "B=int(input(\"Ingrese otro número entero: \"))\n",
        "C=int(input(\"Ingrese otro número entero: \"))\n",
        "if A>B:\n",
        "    if A>C:\n",
        "        print(\"A es el mayor.\")\n",
        "    elif A==C:\n",
        "        print(\"A y C son los mayores.\")\n",
        "    else:\n",
        "        print(\"C es el mayor.\")\n",
        "elif A==B:\n",
        "    if A>C:\n",
        "        print(\"A y B son los mayores.\")\n",
        "    elif A==C:\n",
        "        print(\"A,B y C son iguales.\")\n",
        "    else:\n",
        "        print(\"C es el mayor.\")\n",
        "elif B>C:\n",
        "    print(\"B es el mayor.\")\n",
        "elif B==C:\n",
        "    print(\"B y C son mayores.\")\n",
        "else:\n",
        "    print(\"C es el mayor.\")\n",
        "print(\"Fin del programa.\")"
      ],
      "execution_count": 72,
      "outputs": [
        {
          "output_type": "stream",
          "name": "stdout",
          "text": [
            "Ingrese un número entero: 15\n",
            "Ingrese otro número entero: 22\n",
            "Ingrese otro número entero: 15\n",
            "B es el mayor.\n",
            "Fin del programa.\n"
          ]
        }
      ]
    },
    {
      "cell_type": "code",
      "metadata": {
        "colab": {
          "base_uri": "https://localhost:8080/"
        },
        "id": "mF3gsGinXILv",
        "outputId": "8f1f14c9-5fee-436a-cdeb-f0e33f0802a8"
      },
      "source": [
        "# Problema 2.11\n",
        "CLAVE= int(input(\"Ingrese la clave de su zona geográfica: \"))\n",
        "NUMIN= int(input(\"Ingresa la duración de la llamada: \"))\n",
        "if CLAVE==12:\n",
        "    COST=NUMIN*2\n",
        "elif CLAVE==15:\n",
        "    COST= NUMIN*2.2\n",
        "elif CLAVE==18:\n",
        "    COST=NUMIN*4.5\n",
        "elif CLAVE==19:\n",
        "    COST=NUMIN*3.5\n",
        "elif CLAVE==23 or 25:\n",
        "    COST=NUMIN*6\n",
        "elif CLAVE==29:\n",
        "    COST=NUMIN*5\n",
        "print(\"El costo  total de la llamada es de\",\"$\",COST)\n",
        "print(\"Fin del programa.\")"
      ],
      "execution_count": 24,
      "outputs": [
        {
          "output_type": "stream",
          "name": "stdout",
          "text": [
            "Ingrese la clave de su zona geográfica: 29\n",
            "Ingresa la duración de la llamada: 8\n",
            "El costo  total de la llamada es de $ 48\n",
            "Fin del programa.\n"
          ]
        }
      ]
    },
    {
      "cell_type": "code",
      "metadata": {
        "colab": {
          "base_uri": "https://localhost:8080/"
        },
        "id": "VVjlNmpJirGg",
        "outputId": "e40b3465-ec84-4d69-c2b8-56da0118319b"
      },
      "source": [
        "# Problema 2.12\n",
        "SUE=float(input(\"Ingrese su sueldo: \"))\n",
        "CATE=int(input(\"Ingrese su categoría: \"))\n",
        "HE= int(input(\"Ingrese sus horas extra: \"))\n",
        "if CATE==1:\n",
        "    PHE=30\n",
        "elif CATE==2:\n",
        "    PHE=38\n",
        "elif CATE==3:\n",
        "    PHE=50\n",
        "elif CATE==4:\n",
        "    PHE=70\n",
        "elif CATE>4:\n",
        "    PHE=0\n",
        "print(PHE)\n",
        "if HE>30:\n",
        "    NSUE=SUE+(30*PHE)\n",
        "else:\n",
        "    NSUE=SUE+(HE*PHE)\n",
        "print(\"Su suelto total es $\",NSUE)\n",
        "print(\"Fin del programa.\")"
      ],
      "execution_count": 23,
      "outputs": [
        {
          "output_type": "stream",
          "name": "stdout",
          "text": [
            "Ingrese su sueldo: 5125\n",
            "Ingrese su categoría: 4\n",
            "Ingrese sus horas extra: 3\n",
            "70\n",
            "Su suelto total es $ 5335.0\n",
            "Fin del programa.\n"
          ]
        }
      ]
    },
    {
      "cell_type": "code",
      "metadata": {
        "colab": {
          "base_uri": "https://localhost:8080/"
        },
        "id": "JSqXpFw0ocnd",
        "outputId": "11b183c1-407d-42dc-db97-67c5be383fe1"
      },
      "source": [
        "# Problema 2.13\n",
        "MAT= int(input(\"Introduza su matrícula: \"))\n",
        "CARR= str(input(\"Introduzca el nombre de su carrera: \"))\n",
        "SEM= int(input(\"Introduzca su semestre: \"))\n",
        "PROM=float(input(\"Introduzca su promedio: \"))\n",
        "if CARR==\"Economía\":\n",
        "    if SEM>=6 and PROM>=8.8:\n",
        "        print(f\"Su matrícula es {MAT}, su carrera es {CARR} usted está ACEPTADO.\")\n",
        "if CARR==\"Computación\":\n",
        "    if SEM>6 and PROM>8.5:\n",
        "        print(f\"Su matrícula es {MAT}, su carrera es {CARR} usted está ACEPTADO.\")\n",
        "if CARR==\"Contabilidad\" or \"Administración\":\n",
        "    if SEM>5 and PROM>8.5:\n",
        "        print(f\"Su matrícula es {MAT}, su carrera es {CARR} usted está ACEPTADO.\")\n",
        "print(\"Fin del programa.\")"
      ],
      "execution_count": 22,
      "outputs": [
        {
          "output_type": "stream",
          "name": "stdout",
          "text": [
            "Introduza su matrícula: 26100\n",
            "Introduzca el nombre de su carrera: Computación\n",
            "Introduzca su semestre: 6\n",
            "Introduzca su promedio: 9.2\n",
            "Su matrícula es 26100, su carrera es Computación usted está ACEPTADO.\n",
            "Fin del programa.\n"
          ]
        }
      ]
    }
  ]
}