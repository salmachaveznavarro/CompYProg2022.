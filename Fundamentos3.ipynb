{
  "nbformat": 4,
  "nbformat_minor": 0,
  "metadata": {
    "colab": {
      "name": "Fundamentos3.ipynb",
      "provenance": [],
      "authorship_tag": "ABX9TyNNHizYcdj9JGITZCgdxL4G",
      "include_colab_link": true
    },
    "kernelspec": {
      "name": "python3",
      "display_name": "Python 3"
    },
    "language_info": {
      "name": "python"
    }
  },
  "cells": [
    {
      "cell_type": "markdown",
      "metadata": {
        "id": "view-in-github",
        "colab_type": "text"
      },
      "source": [
        "<a href=\"https://colab.research.google.com/github/salmachaveznavarro/CompYProg2022./blob/compyprog2022/Fundamentos3.ipynb\" target=\"_parent\"><img src=\"https://colab.research.google.com/assets/colab-badge.svg\" alt=\"Open In Colab\"/></a>"
      ]
    },
    {
      "cell_type": "markdown",
      "metadata": {
        "id": "eGDqgalKF5mI"
      },
      "source": [
        "Repetición:\n",
        "\n",
        "Este tipo de estructura nos permite automatizar la ejecución repetitiva de códico mientras ciertas condiciones se cumplan, tenemos 3 variantes de esta estructura en todos los lenguajes de programación:\n",
        "- desde... hasta (estructura for)\n",
        "- Haz mientras (estructura while)\n",
        "- haz y luego validez mientras (estructuras do-while)\n",
        "\n",
        "#FOR CON Python\n",
        "```\n",
        "for j in range(10):\n",
        "    print(f\"Hola {j}\")\n",
        "```\n",
        "#FOR CON Leng C Y/O Java\n",
        "```\n",
        "for( int j=0; j=j+1){\n",
        "    printf(\"Hola %i \\n\", j);\n",
        "}\n",
        "```\n",
        "En todos lo lenguajes de programación existe un tipo especial de for, conocido como **for each**.\n",
        "\n",
        "# For each EN Python\n",
        "```\n",
        "for color in colores:\n",
        "    print(f\"Este es el color { color }\")\n",
        "```\n"
      ]
    },
    {
      "cell_type": "code",
      "metadata": {
        "colab": {
          "base_uri": "https://localhost:8080/"
        },
        "id": "uLxnVZhQHjXn",
        "outputId": "4622255c-d232-44e8-e499-2472174ce131"
      },
      "source": [
        "# función range \n",
        "# range (<INICIO>,<STOP>,<INCREMENTO>)\n",
        "x = range(0,10,2)\n",
        "print(x)\n",
        "\n",
        "for j in range(0,10,1): #range(0,10,1)--> 0,1,2,3...9\n",
        "    print(f\"Hola {j}\")\n",
        "print(\"-.-.-.-.-\")\n",
        "for j in range(0,10,1): #range(0,10,2)--> 0,2,4,6,8\n",
        "    print(f\"Hola {j}\")\n",
        "print(\"-.-.-.-.-\")\n",
        "frutas= [\"uva\",\"aguacate\", \"pera\", \"manzana\",\"sandia\"]\n",
        "print(frutas[0])\n",
        "print(frutas[1])\n",
        "print(frutas[2])\n",
        "print(frutas[3])\n",
        "print(frutas[4])\n",
        "\n",
        "print(\"-.-.-.-.-\")\n",
        "for index in range(5):\n",
        "    print(frutas[index])\n",
        "\n",
        "print(\"-.-.-.-.-\")\n",
        "for s in range(5):\n",
        "    print(f\"+++++\")\n"
      ],
      "execution_count": null,
      "outputs": [
        {
          "output_type": "stream",
          "name": "stdout",
          "text": [
            "range(0, 10, 2)\n",
            "Hola 0\n",
            "Hola 1\n",
            "Hola 2\n",
            "Hola 3\n",
            "Hola 4\n",
            "Hola 5\n",
            "Hola 6\n",
            "Hola 7\n",
            "Hola 8\n",
            "Hola 9\n",
            "-.-.-.-.-\n",
            "Hola 0\n",
            "Hola 1\n",
            "Hola 2\n",
            "Hola 3\n",
            "Hola 4\n",
            "Hola 5\n",
            "Hola 6\n",
            "Hola 7\n",
            "Hola 8\n",
            "Hola 9\n",
            "-.-.-.-.-\n",
            "uva\n",
            "aguacate\n",
            "pera\n",
            "manzana\n",
            "sandia\n",
            "-.-.-.-.-\n",
            "uva\n",
            "aguacate\n",
            "pera\n",
            "manzana\n",
            "sandia\n",
            "-.-.-.-.-\n",
            "+++++\n",
            "+++++\n",
            "+++++\n",
            "+++++\n",
            "+++++\n"
          ]
        }
      ]
    },
    {
      "cell_type": "code",
      "metadata": {
        "colab": {
          "base_uri": "https://localhost:8080/"
        },
        "id": "w2vje_-JL6g5",
        "outputId": "f44ee59d-3a62-4d0f-9bed-32ed87ba37ae"
      },
      "source": [
        "for x in range (1,20,1):\n",
        "    print(x)\n",
        "print(\"fin del programa\")\n",
        "\n",
        "for x in range (19,0,-1):\n",
        "    print(x)\n",
        "print(\"fin del programa\")"
      ],
      "execution_count": null,
      "outputs": [
        {
          "output_type": "stream",
          "name": "stdout",
          "text": [
            "1\n",
            "2\n",
            "3\n",
            "4\n",
            "5\n",
            "6\n",
            "7\n",
            "8\n",
            "9\n",
            "10\n",
            "11\n",
            "12\n",
            "13\n",
            "14\n",
            "15\n",
            "16\n",
            "17\n",
            "18\n",
            "19\n",
            "fin del programa\n",
            "19\n",
            "18\n",
            "17\n",
            "16\n",
            "15\n",
            "14\n",
            "13\n",
            "12\n",
            "11\n",
            "10\n",
            "9\n",
            "8\n",
            "7\n",
            "6\n",
            "5\n",
            "4\n",
            "3\n",
            "2\n",
            "1\n",
            "fin del programa\n"
          ]
        }
      ]
    },
    {
      "cell_type": "code",
      "metadata": {
        "colab": {
          "base_uri": "https://localhost:8080/"
        },
        "id": "BA9Vinc5Npm6",
        "outputId": "d2adbf94-dad6-45f8-967b-6acfef6a4aa2"
      },
      "source": [
        "# Ejemplo 3.3\n",
        "CUECER=0\n",
        "N=0\n",
        "NUM=0\n",
        "N= int(input(\"Ingrese un valor numérico mayor a uno: \"))\n",
        "for I in range(1,N+1,1): # N+1 PQ EL STOP NO SE INCLUYE.\n",
        "    N=int(input(\"un valor numérico: \"))\n",
        "    if N == 0:\n",
        "        CUECER += 1\n",
        "print(\"CUECER=\", CUECER)"
      ],
      "execution_count": null,
      "outputs": [
        {
          "output_type": "stream",
          "name": "stdout",
          "text": [
            "Ingrese un valor numérico mayor a uno: 4\n",
            "un valor numérico: 14\n",
            "un valor numérico: 10\n",
            "un valor numérico: 10\n",
            "un valor numérico: 2\n",
            "CUECER= 0\n"
          ]
        }
      ]
    },
    {
      "cell_type": "code",
      "metadata": {
        "colab": {
          "base_uri": "https://localhost:8080/"
        },
        "id": "BsPnYgtnQuGd",
        "outputId": "3bbb99b5-433f-42f8-81b2-1345345b5551"
      },
      "source": [
        "for x in range(1,11,1):\n",
        "    print(\"7 x\",x,\"=\",7*x)"
      ],
      "execution_count": null,
      "outputs": [
        {
          "output_type": "stream",
          "name": "stdout",
          "text": [
            "7 x 1 = 7\n",
            "7 x 2 = 14\n",
            "7 x 3 = 21\n",
            "7 x 4 = 28\n",
            "7 x 5 = 35\n",
            "7 x 6 = 42\n",
            "7 x 7 = 49\n",
            "7 x 8 = 56\n",
            "7 x 9 = 63\n",
            "7 x 10 = 70\n"
          ]
        }
      ]
    },
    {
      "cell_type": "code",
      "metadata": {
        "colab": {
          "base_uri": "https://localhost:8080/"
        },
        "id": "_kAIbrMZR76Q",
        "outputId": "1bea7094-a5b2-467f-d80d-2a4d87580e8a"
      },
      "source": [
        "NUM1=int(input(\"dame un numero entre uno y cinco: \"))\n",
        "NUM2= int(input(f\"dame un numero entre {NUM1} y 10: \"))\n",
        "if 1<NUM1>5 or NUM1<NUM2>10:\n",
        "    print(\"escribe valores en los rangos\")\n",
        "else:\n",
        "    for y in range(NUM1,NUM2+1,1):\n",
        "        for x in range(1,11,1):\n",
        "            print(y,\"x\",x,\"=\", y*x)\n",
        "        for x in range(1,11,1):\n",
        "            print(y,\"x\",x,\"=\", y*x)"
      ],
      "execution_count": null,
      "outputs": [
        {
          "output_type": "stream",
          "name": "stdout",
          "text": [
            "dame un numero entre uno y cinco: 4\n",
            "dame un numero entre 4 y 10: 6\n",
            "4 x 1 = 4\n",
            "4 x 2 = 8\n",
            "4 x 3 = 12\n",
            "4 x 4 = 16\n",
            "4 x 5 = 20\n",
            "4 x 6 = 24\n",
            "4 x 7 = 28\n",
            "4 x 8 = 32\n",
            "4 x 9 = 36\n",
            "4 x 10 = 40\n",
            "4 x 1 = 4\n",
            "4 x 2 = 8\n",
            "4 x 3 = 12\n",
            "4 x 4 = 16\n",
            "4 x 5 = 20\n",
            "4 x 6 = 24\n",
            "4 x 7 = 28\n",
            "4 x 8 = 32\n",
            "4 x 9 = 36\n",
            "4 x 10 = 40\n",
            "5 x 1 = 5\n",
            "5 x 2 = 10\n",
            "5 x 3 = 15\n",
            "5 x 4 = 20\n",
            "5 x 5 = 25\n",
            "5 x 6 = 30\n",
            "5 x 7 = 35\n",
            "5 x 8 = 40\n",
            "5 x 9 = 45\n",
            "5 x 10 = 50\n",
            "5 x 1 = 5\n",
            "5 x 2 = 10\n",
            "5 x 3 = 15\n",
            "5 x 4 = 20\n",
            "5 x 5 = 25\n",
            "5 x 6 = 30\n",
            "5 x 7 = 35\n",
            "5 x 8 = 40\n",
            "5 x 9 = 45\n",
            "5 x 10 = 50\n",
            "6 x 1 = 6\n",
            "6 x 2 = 12\n",
            "6 x 3 = 18\n",
            "6 x 4 = 24\n",
            "6 x 5 = 30\n",
            "6 x 6 = 36\n",
            "6 x 7 = 42\n",
            "6 x 8 = 48\n",
            "6 x 9 = 54\n",
            "6 x 10 = 60\n",
            "6 x 1 = 6\n",
            "6 x 2 = 12\n",
            "6 x 3 = 18\n",
            "6 x 4 = 24\n",
            "6 x 5 = 30\n",
            "6 x 6 = 36\n",
            "6 x 7 = 42\n",
            "6 x 8 = 48\n",
            "6 x 9 = 54\n",
            "6 x 10 = 60\n",
            ".-.-.-.-\n"
          ]
        }
      ]
    },
    {
      "cell_type": "code",
      "metadata": {
        "colab": {
          "base_uri": "https://localhost:8080/"
        },
        "id": "oL6PJ_PGYR47",
        "outputId": "ca44dcc5-534e-464a-ca97-f36b1c0c34f3"
      },
      "source": [
        "suma= 0\n",
        "edades= [0 for x in range(5)]\n",
        "for x in range(5):\n",
        "    edades[x]= int(input(\"dame tu edad: \"))\n",
        "    suma= suma + edades[x]\n",
        "print(edades)\n",
        "print(\"promedio: \", suma/5)    "
      ],
      "execution_count": null,
      "outputs": [
        {
          "output_type": "stream",
          "name": "stdout",
          "text": [
            "dame tu edad: 20\n",
            "dame tu edad: 21\n",
            "dame tu edad: 33\n",
            "dame tu edad: 25\n",
            "dame tu edad: 19\n",
            "[20, 21, 33, 25, 19]\n",
            "promedio:  23.6\n"
          ]
        }
      ]
    },
    {
      "cell_type": "code",
      "metadata": {
        "colab": {
          "base_uri": "https://localhost:8080/"
        },
        "id": "Yzdf6NLScTve",
        "outputId": "1a01d972-8577-49fa-be5c-0718a687cbce"
      },
      "source": [
        "valores = 0\n",
        "val= 0\n",
        "import random\n",
        "print(random.random())\n",
        "print(random.uniform(5,11))\n",
        "val = [round(random.uniform(5,11),2)]\n",
        "print(val)\n",
        "\n",
        "valores = [round(random.uniform(5,11),2) for x in range(20)]\n",
        "print(valores)"
      ],
      "execution_count": 3,
      "outputs": [
        {
          "output_type": "stream",
          "name": "stdout",
          "text": [
            "0.2496695372819161\n",
            "6.883104263728267\n",
            "[7.94]\n",
            "[7.17, 8.3, 5.96, 7.73, 5.42, 5.1, 10.26, 9.05, 8.2, 6.6, 7.54, 7.43, 7.66, 7.31, 8.54, 9.81, 10.53, 5.24, 9.1, 9.98]\n"
          ]
        }
      ]
    }
  ]
}