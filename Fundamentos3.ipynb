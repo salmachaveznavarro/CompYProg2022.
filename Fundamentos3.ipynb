{
  "nbformat": 4,
  "nbformat_minor": 0,
  "metadata": {
    "colab": {
      "name": "Fundamentos3.ipynb",
      "provenance": [],
      "authorship_tag": "ABX9TyM9BwJ8bzZRpXCwa14f3NDo",
      "include_colab_link": true
    },
    "kernelspec": {
      "name": "python3",
      "display_name": "Python 3"
    },
    "language_info": {
      "name": "python"
    }
  },
  "cells": [
    {
      "cell_type": "markdown",
      "metadata": {
        "id": "view-in-github",
        "colab_type": "text"
      },
      "source": [
        "<a href=\"https://colab.research.google.com/github/salmachaveznavarro/CompYProg2022./blob/compyprog2022/Fundamentos3.ipynb\" target=\"_parent\"><img src=\"https://colab.research.google.com/assets/colab-badge.svg\" alt=\"Open In Colab\"/></a>"
      ]
    },
    {
      "cell_type": "markdown",
      "metadata": {
        "id": "eGDqgalKF5mI"
      },
      "source": [
        "Repetición:\n",
        "\n",
        "Este tipo de estructura nos permite automatizar la ejecución repetitiva de códico mientras ciertas condiciones se cumplan, tenemos 3 variantes de esta estructura en todos los lenguajes de programación:\n",
        "- desde... hasta (estructura for)\n",
        "- Haz mientras (estructura while)\n",
        "- haz y luego validez mientras (estructuras do-while)\n",
        "\n",
        "#FOR CON Python\n",
        "```\n",
        "for j in range(10):\n",
        "    print(f\"Hola {j}\")\n",
        "```\n",
        "#FOR CON Leng C Y/O Java\n",
        "```\n",
        "for( int j=0; j=j+1){\n",
        "    printf(\"Hola %i \\n\", j);\n",
        "}\n",
        "```\n",
        "En todos lo lenguajes de programación existe un tipo especial de for, conocido como **for each**.\n",
        "\n",
        "# For each EN Python\n",
        "```\n",
        "for color in colores:\n",
        "    print(f\"Este es el color { color }\")\n",
        "```\n"
      ]
    },
    {
      "cell_type": "code",
      "metadata": {
        "colab": {
          "base_uri": "https://localhost:8080/"
        },
        "id": "uLxnVZhQHjXn",
        "outputId": "4622255c-d232-44e8-e499-2472174ce131"
      },
      "source": [
        "# función range \n",
        "# range (<INICIO>,<STOP>,<INCREMENTO>)\n",
        "x = range(0,10,2)\n",
        "print(x)\n",
        "\n",
        "for j in range(0,10,1): #range(0,10,1)--> 0,1,2,3...9\n",
        "    print(f\"Hola {j}\")\n",
        "print(\"-.-.-.-.-\")\n",
        "for j in range(0,10,1): #range(0,10,2)--> 0,2,4,6,8\n",
        "    print(f\"Hola {j}\")\n",
        "print(\"-.-.-.-.-\")\n",
        "frutas= [\"uva\",\"aguacate\", \"pera\", \"manzana\",\"sandia\"]\n",
        "print(frutas[0])\n",
        "print(frutas[1])\n",
        "print(frutas[2])\n",
        "print(frutas[3])\n",
        "print(frutas[4])\n",
        "\n",
        "print(\"-.-.-.-.-\")\n",
        "for index in range(5):\n",
        "    print(frutas[index])\n",
        "\n",
        "print(\"-.-.-.-.-\")\n",
        "for s in range(5):\n",
        "    print(f\"+++++\")\n"
      ],
      "execution_count": 14,
      "outputs": [
        {
          "output_type": "stream",
          "name": "stdout",
          "text": [
            "range(0, 10, 2)\n",
            "Hola 0\n",
            "Hola 1\n",
            "Hola 2\n",
            "Hola 3\n",
            "Hola 4\n",
            "Hola 5\n",
            "Hola 6\n",
            "Hola 7\n",
            "Hola 8\n",
            "Hola 9\n",
            "-.-.-.-.-\n",
            "Hola 0\n",
            "Hola 1\n",
            "Hola 2\n",
            "Hola 3\n",
            "Hola 4\n",
            "Hola 5\n",
            "Hola 6\n",
            "Hola 7\n",
            "Hola 8\n",
            "Hola 9\n",
            "-.-.-.-.-\n",
            "uva\n",
            "aguacate\n",
            "pera\n",
            "manzana\n",
            "sandia\n",
            "-.-.-.-.-\n",
            "uva\n",
            "aguacate\n",
            "pera\n",
            "manzana\n",
            "sandia\n",
            "-.-.-.-.-\n",
            "+++++\n",
            "+++++\n",
            "+++++\n",
            "+++++\n",
            "+++++\n"
          ]
        }
      ]
    }
  ]
}