{
  "cells": [
    {
      "cell_type": "markdown",
      "metadata": {
        "id": "view-in-github",
        "colab_type": "text"
      },
      "source": [
        "<a href=\"https://colab.research.google.com/github/salmachaveznavarro/CompYProg2022./blob/compyprog2022/CyP_Extras.ipynb\" target=\"_parent\"><img src=\"https://colab.research.google.com/assets/colab-badge.svg\" alt=\"Open In Colab\"/></a>"
      ]
    },
    {
      "cell_type": "code",
      "execution_count": 4,
      "metadata": {
        "id": "FEPkQBMHDW0a"
      },
      "outputs": [],
      "source": [
        "habitaciones = []\n",
        "\n",
        "hx = {\"numero\": 0,\n",
        "      \"tipo\":\"sencilla\",\n",
        "      \"costo\": 0.0,\n",
        "      \"dias\":0,\n",
        "      \"huespedes\" :[],\n",
        "      \"comidas\" : 0\n",
        "      }\n",
        "\n",
        "def menu():\n",
        "    print(\"1.-) Check in\")\n",
        "    print(\"2.-) Registro alimentos\")\n",
        "    print(\"3.-) Check out\")\n",
        "    print(\"4.-) Reporte de ocupación\")\n",
        "    print(\"0.-) Salir del sistema\")\n",
        "    \n",
        "def menu_habitacion( hx ):\n",
        "    opcion = 1\n",
        "    while opcion != 0: # se puede mejorar\n",
        "        print(\"1) Hab. sencilla\")\n",
        "        print(\"2) Hab. doble\")\n",
        "        print(\"3) Junior suite\")\n",
        "        opcion = int(input(\"¿Tipo de habitación?: \"))   \n",
        "        if opcion == 1:\n",
        "            hx['costo'] = 800.0\n",
        "            hx['tipo']=\"sencilla\"\n",
        "        elif opcion == 2:\n",
        "            hx['costo'] = 1200.0\n",
        "            hx['tipo']=\"doble\"     \n",
        "        elif opcion == 3:\n",
        "            hx['costo'] = 1800.0\n",
        "            hx['tipo']=\"Junior suite\"  \n",
        "        else:\n",
        "            print(\"Opcion no valida\")  \n",
        "        # imprimir en pant. habitaciones ocupadas\n",
        "        hx['numero'] = int(input(\"Número de habitación:\"))\n",
        "        return hx\n",
        "\n",
        "def index_habitacion(num_habitacion):\n",
        "    hab= -1\n",
        "    for i in range(len(habitaciones)): \n",
        "        if habitaciones[i][\"numero\"]== num_habitacion:\n",
        "            hab = i\n",
        "            break\n",
        "    return hab\n"
      ]
    },
    {
      "cell_type": "code",
      "execution_count": null,
      "metadata": {
        "colab": {
          "base_uri": "https://localhost:8080/"
        },
        "id": "kTa4TfPXD-xI",
        "outputId": "a29aea05-8e26-49b1-acbb-390775edc7cb"
      },
      "outputs": [
        {
          "output_type": "stream",
          "name": "stdout",
          "text": [
            "1.-) Check in\n",
            "2.-) Registro alimentos\n",
            "3.-) Check out\n",
            "0.-) Salir del sistema\n",
            "Introduce tu elección: 1\n",
            "Elegiste 1 ...\n",
            "----- Realizando Check-In -----\n",
            "1) Hab. sencilla\n",
            "2) Hab. doble\n",
            "3) Junior suite\n",
            "¿Tipo de habitación?: 1\n",
            "Número de habitación:101\n",
            "¿ Cuantos días ?: 1\n",
            "Nombre del huesped: dd\n",
            "Apellido del huesped número: dd\n",
            "[{'numero': 104, 'tipo': 'sencilla', 'costo': 800.0, 'dias': 3, 'huespedes': [{'nombre': 'ss', 'paterno': 'aa'}], 'comidas': 3}, {'numero': 101, 'tipo': 'sencilla', 'costo': 800.0, 'dias': 2, 'huespedes': [{'nombre': 'oo', 'paterno': 'oo'}], 'comidas': 6}, {'numero': 101, 'tipo': 'sencilla', 'costo': 800.0, 'dias': 3, 'huespedes': [{'nombre': 'ss', 'paterno': 'cc'}], 'comidas': 0}, {'numero': 305, 'tipo': 'Junior suite', 'costo': 1800.0, 'dias': 1, 'huespedes': [], 'comidas': 3}, {'numero': 3, 'tipo': 'sencilla', 'costo': 0.0, 'dias': 3, 'huespedes': [{'nombre': '3', 'paterno': '3'}], 'comidas': 0}, {'numero': 101, 'tipo': 'sencilla', 'costo': 800.0, 'dias': 1, 'huespedes': [{'nombre': 'dd', 'paterno': 'dd'}], 'comidas': 0}]\n",
            "1.-) Check in\n",
            "2.-) Registro alimentos\n",
            "3.-) Check out\n",
            "0.-) Salir del sistema\n",
            "Introduce tu elección: 3\n",
            "Elegiste 3 ...\n",
            "----- Realizando check-out ------\n",
            "Cuál es su numero de habitacion? 101\n",
            "Su total a pagar es de 2500.0 pesos mexicanos.\n",
            "1.-) Check in\n",
            "2.-) Registro alimentos\n",
            "3.-) Check out\n",
            "0.-) Salir del sistema\n"
          ]
        }
      ],
      "source": [
        "opcion = 1\n",
        "while opcion != 0:\n",
        "    menu()\n",
        "    opcion = int(input(\"Introduce tu elección: \"))\n",
        "    print(f\"Elegiste {opcion} ...\")\n",
        "    # aqui va algo mas del problema\n",
        "    if opcion == 1:\n",
        "        print(\"----- Realizando Check-In -----\")\n",
        "        # Tipo de hab.\n",
        "        hab = menu_habitacion( hx.copy() ) # copia física\n",
        "        # Total de días\n",
        "        hab[\"dias\"]= int(input(\"¿ Cuantos días ?: \"))\n",
        "        # capturar , nombre y apellido paterno 1..3.\n",
        "        hab['huespedes']=[]\n",
        "        if hab['tipo'] == \"sencilla\":\n",
        "            huesped = {}\n",
        "            huesped['nombre'] = input(f\"Nombre del huesped: \")\n",
        "            huesped['paterno'] = input(f\"Apellido del huesped número: \")\n",
        "            hab['huespedes'].append(huesped)\n",
        "        elif hab['tipo'] == \"doble\":\n",
        "            for numero in range( 2 ):\n",
        "                huesped = {}\n",
        "                huesped['nombre'] = input(f\"Nombre del huesped número {numero}: \")\n",
        "                huesped['paterno'] = input(f\"Apellido del huesped número {numero}: \")\n",
        "                hab['huespedes'].append(huesped)\n",
        "        elif hab['tipo'] == \"JuniorSuite\":\n",
        "            for numero in range( 3 ):\n",
        "                huesped = {}\n",
        "                huesped['nombre'] = input(f\"Nombre del huesped número {numero}: \")\n",
        "                huesped['paterno'] = input(f\"Apellido del huesped número {numero}: \")\n",
        "                hab['huespedes'].append(huesped)        \n",
        "        # registrar en una variable global\n",
        "        habitaciones.append(hab)\n",
        "        print(habitaciones)\n",
        "    elif opcion == 2:\n",
        "        print(\"----- Realizando registro de alimentos ----\")\n",
        "        num_hab=int(input(\"Cuál es su numero de habitacion? \"))\n",
        "        idx= index_habitacion(num_hab)\n",
        "        if idx != -1:\n",
        "            habitaciones[idx]['comidas']= habitaciones[idx]['comidas']+ int(input(\"Cantidad: \"))\n",
        "            print(f\"El nuevo contador de comidas es {habitaciones[idx]['comidas']}.\")\n",
        "    elif opcion == 3:\n",
        "        print(\"----- Realizando check-out ------\")\n",
        "        num_hab=int(input(\"Cuál es su numero de habitacion? \"))\n",
        "        idx= index_habitacion(num_hab)\n",
        "        if idx != -1:\n",
        "            if habitaciones[idx]['dias'] == 4:\n",
        "                total= 3* habitaciones[idx]['costo'] + (habitaciones[idx]['costo']*0.75)\n",
        "            elif habitaciones[idx]['dias']== 5:\n",
        "                total= 4 * habitaciones[idx]['costo']\n",
        "            else:\n",
        "                total= habitaciones[idx]['dias']*habitaciones[idx]['costo']\n",
        "            total += habitaciones[idx]['comidas']* 150.0\n",
        "            print(f\"Su total a pagar es de {total} pesos mexicanos.\")\n",
        "            #habitaciones.remove(idx)\n",
        "            del habitaciones[idx]\n",
        "    elif opcion == 4:\n",
        "        for hab in habitaciones:\n",
        "            print(f\"#= {hab['numero']}\\n\\t dias= {hab['numero']} \")\n",
        "    elif opcion == 0:\n",
        "        print(\"--- Adios  ----\")\n",
        "\n",
        "    else:\n",
        "        print(\"---- OPCIÓN NO VÁLIDA ----\")"
      ]
    },
    {
      "cell_type": "code",
      "execution_count": null,
      "metadata": {
        "id": "RrVqREqiI_Nb"
      },
      "outputs": [],
      "source": [
        "=habitaciones= []\n",
        "hx= {\"numero\":101,\n",
        "     \"tipo\":\"sencilla\",\n",
        "     \"costo\": 800.0,\n",
        "     \"días\":3,\n",
        "     \"huespedes\":[{\"nombre\": \"Jose\",\"paterno\":\"Perez\"}],\n",
        "     \"comidas\": 0\n",
        "     }\n",
        "habitaciones.append(hx)\n",
        "print (habitaciones)\n",
        "\n",
        "hx2= {\"numero\":202,\n",
        "     \"tipo\":\"doble\",\n",
        "     \"costo\": 1200.0,\n",
        "     \"días\":4,\n",
        "     \"huespedes\":[{\"nombre\": \"Maria\",\"paterno\":\"Perez\"},{\"nombre\": \"Juana\",\"paterno\":\"Perez\"}],\n",
        "     \"comidas\": 0\n",
        "     }\n",
        "habitaciones.append(hx2)\n",
        "print (habitaciones)"
      ]
    },
    {
      "cell_type": "code",
      "source": [
        "[{'numero': 304, 'tipo': 'juniorsuite', 'costo': 1800.0, 'dias': 2, 'huespedes': [{'nombre': 'jj', 'paterno': 'jj'}, {'nombre': 'kk', 'paterno': 'kk'}, {'nombre': 'll', 'paterno': 'll'}], 'comidas': 0}]\n",
        "print(habitaciones)\n",
        "habitaciones[2]['comidas']= habitaciopnes[0]['comidas']+ int(input(\"Cantidad: \"))\n",
        "print(habitaciones)"
      ],
      "metadata": {
        "id": "r-Pehck0WCuZ"
      },
      "execution_count": null,
      "outputs": []
    }
  ],
  "metadata": {
    "colab": {
      "name": "CyP_Extras.ipynb",
      "provenance": [],
      "authorship_tag": "ABX9TyMEK/kFSulOHVfVAzjASUu0",
      "include_colab_link": true
    },
    "kernelspec": {
      "display_name": "Python 3",
      "name": "python3"
    },
    "language_info": {
      "name": "python"
    }
  },
  "nbformat": 4,
  "nbformat_minor": 0
}