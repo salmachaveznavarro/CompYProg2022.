{
  "nbformat": 4,
  "nbformat_minor": 0,
  "metadata": {
    "colab": {
      "name": "CyP_Extras.ipynb",
      "provenance": [],
      "authorship_tag": "ABX9TyNoKxpReyxU6HcBalPIg0qG",
      "include_colab_link": true
    },
    "kernelspec": {
      "name": "python3",
      "display_name": "Python 3"
    },
    "language_info": {
      "name": "python"
    }
  },
  "cells": [
    {
      "cell_type": "markdown",
      "metadata": {
        "id": "view-in-github",
        "colab_type": "text"
      },
      "source": [
        "<a href=\"https://colab.research.google.com/github/salmachaveznavarro/CompYProg2022./blob/compyprog2022/CyP_Extras.ipynb\" target=\"_parent\"><img src=\"https://colab.research.google.com/assets/colab-badge.svg\" alt=\"Open In Colab\"/></a>"
      ]
    },
    {
      "cell_type": "code",
      "execution_count": 1,
      "metadata": {
        "id": "FEPkQBMHDW0a"
      },
      "outputs": [],
      "source": [
        "habitaciones= []\n",
        "hx= {\"numero\":0,\n",
        "     \"tipo\":\"sencilla\",\n",
        "     \"costo\": 0.0,\n",
        "     \"días\":0,\n",
        "     \"huespedes\":[],\n",
        "     \"comidas\": 0\n",
        "     }\n",
        "def menu():\n",
        "    print(\"1. Check in\")\n",
        "    #tipo de hab.\n",
        "        #menú de tipo de habitacion\n",
        "    print(\"2. Registro alimentos\")\n",
        "    print(\"3. Check out\")\n",
        "    print(\"0. Salir del sistema\")\n",
        "\n",
        "def menu_habitacion(hx):\n",
        "    opcion =1\n",
        "    while opcion != 0:\n",
        "        print(\"1. habitación sencilla\")\n",
        "        print(\"2. habitación doble\")\n",
        "        print(\"3. Junior Suite\")\n",
        "        opcion= int(input(\"Tipo de habitación: \"))\n",
        "        if opcion == 1:\n",
        "            hx[\"costo\"]= 800.0\n",
        "            hx[\"tipo\"]= \"sencilla\"\n",
        "            # habitaciones ocupadas\n",
        "        elif opcion == 2:\n",
        "            hx[\"costo\"]= 1200.0\n",
        "            hx[\"tipo\"]= \"doble\"\n",
        "            # habitaciones ocupadas\n",
        "        elif opcion == 3:\n",
        "            hx[\"costo\"]= 1800.0\n",
        "            hx[\"tipo\"]= \"Junior suite\"\n",
        "            # habitaciones ocupadas\n",
        "        else:\n",
        "            print(\"Opción no valida \")\n",
        "        hx[\"numero\"]=int(input(\"Número de habitación: \"))\n",
        "        return hx"
      ]
    },
    {
      "cell_type": "code",
      "source": [
        "\n",
        "opcion= 1 \n",
        "while opcion != 0:\n",
        "    menu()\n",
        "    opcion= int(input(\"Introduce tu elección: \"))\n",
        "    if opcion == 1:\n",
        "        print(\"---- Realizando check in:\")\n",
        "        hab=menu_habitacion(hx.copy())\n",
        "        hab[\"dias\"]=int(input(\"Cantidad de días: \"))\n",
        "        if hab['tipo']==\"sencilla\":\n",
        "            huesped= {}\n",
        "            huesped[\"nombre\"]= input(\"nombre del huesped\")\n",
        "            huesped[\"paterno\"]= input(\"apellido del huesped\")\n",
        "            hab[\"huespedes\"].append(huesped)\n",
        "        elif hab['tipo']== \"doble\":\n",
        "            for numero in range (2):\n",
        "                huesped[\"nombre\"]= input(\"nombre del huesped\")\n",
        "                huesped[\"paterno\"]= input(\"apellido del huesped\")\n",
        "                hab[\"huespedes\"].append(huesped)\n",
        "        elif hab['tipo']== \"Junior Suite\":\n",
        "            for numero in range (3):\n",
        "                huesped[\"nombre\"]= input(\"nombre del huesped: \")\n",
        "                huesped[\"paterno\"]= input(\"apellido del huesped: \")\n",
        "                hab[\"huespedes\"].append(huesped)\n",
        "\n",
        "        habitaciones.append(hab)\n",
        "        print(habitaciones)\n",
        "        \n",
        "    elif opcion == 2:\n",
        "        print(\"---- Realizando registro de alimentos:\")\n",
        "    elif opcion == 3:\n",
        "        print(\"---- Realizando check out:\")\n",
        "    elif opcion == 0:\n",
        "        print(\"---- Adios...\")\n",
        "    else:\n",
        "        print(\"---- OPCIÓN NO VÁLIDA ----\")\n",
        "    \n",
        "    "
      ],
      "metadata": {
        "colab": {
          "base_uri": "https://localhost:8080/"
        },
        "id": "kTa4TfPXD-xI",
        "outputId": "3942e4c4-33ba-4901-b30f-645cbc05eca1"
      },
      "execution_count": null,
      "outputs": [
        {
          "metadata": {
            "tags": null
          },
          "name": "stdout",
          "output_type": "stream",
          "text": [
            "1. Check in\n",
            "2. Registro alimentos\n",
            "3. Check out\n",
            "0. Salir del sistema\n",
            "---- Realizando check in:\n",
            "1. habitación sencilla\n",
            "2. habitación doble\n",
            "3. Junior Suite\n"
          ]
        }
      ]
    },
    {
      "cell_type": "code",
      "source": [
        "habitaciones= []\n",
        "hx= {\"numero\":101,\n",
        "     \"tipo\":\"sencilla\",\n",
        "     \"costo\": 800.0,\n",
        "     \"días\":3,\n",
        "     \"huespedes\":[{\"nombre\": \"Jose\",\"paterno\":\"Perez\"}],\n",
        "     \"comidas\": 0\n",
        "     }\n",
        "habitaciones.append(hx)\n",
        "print (habitaciones)\n",
        "\n",
        "hx2= {\"numero\":202,\n",
        "     \"tipo\":\"doble\",\n",
        "     \"costo\": 1200.0,\n",
        "     \"días\":4,\n",
        "     \"huespedes\":[{\"nombre\": \"Maria\",\"paterno\":\"Perez\"},{\"nombre\": \"Juana\",\"paterno\":\"Perez\"}],\n",
        "     \"comidas\": 0\n",
        "     }\n",
        "habitaciones.append(hx2)\n",
        "print (habitaciones)"
      ],
      "metadata": {
        "colab": {
          "base_uri": "https://localhost:8080/"
        },
        "id": "RrVqREqiI_Nb",
        "outputId": "6d995295-098f-4c4e-9909-fb151fb7128f"
      },
      "execution_count": 7,
      "outputs": [
        {
          "output_type": "stream",
          "name": "stdout",
          "text": [
            "[{'numero': 101, 'tipo': 'sencilla', 'costo': 800.0, 'días': 3, 'huespedes': [{'nombre': 'Jose', 'paterno': 'Perez'}], 'comidas': 0}]\n",
            "[{'numero': 101, 'tipo': 'sencilla', 'costo': 800.0, 'días': 3, 'huespedes': [{'nombre': 'Jose', 'paterno': 'Perez'}], 'comidas': 0}, {'numero': 202, 'tipo': 'doble', 'costo': 1200.0, 'días': 4, 'huespedes': [{'nombre': 'Maria', 'paterno': 'Perez'}, {'nombre': 'Juana', 'paterno': 'Perez'}], 'comidas': 0}]\n"
          ]
        }
      ]
    }
  ]
}