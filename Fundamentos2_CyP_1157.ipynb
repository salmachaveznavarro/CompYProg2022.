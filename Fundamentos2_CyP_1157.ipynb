{
  "nbformat": 4,
  "nbformat_minor": 0,
  "metadata": {
    "colab": {
      "name": "Fundamentos2_CyP_1157.ipynb",
      "provenance": [],
      "authorship_tag": "ABX9TyNCFjjUp1QxWQCwYdwx1g92",
      "include_colab_link": true
    },
    "kernelspec": {
      "name": "python3",
      "display_name": "Python 3"
    },
    "language_info": {
      "name": "python"
    }
  },
  "cells": [
    {
      "cell_type": "markdown",
      "metadata": {
        "id": "view-in-github",
        "colab_type": "text"
      },
      "source": [
        "<a href=\"https://colab.research.google.com/github/salmachaveznavarro/CompYProg2022./blob/compyprog2022/Fundamentos2_CyP_1157.ipynb\" target=\"_parent\"><img src=\"https://colab.research.google.com/assets/colab-badge.svg\" alt=\"Open In Colab\"/></a>"
      ]
    },
    {
      "cell_type": "markdown",
      "metadata": {
        "id": "0EvMeWstFeKY"
      },
      "source": [
        "# Tipos de datos estructurados en python\n",
        "\n",
        "1. listas\n",
        "2. tuplas\n",
        "3. diccionarios\n",
        "4. conjuntos"
      ]
    },
    {
      "cell_type": "markdown",
      "metadata": {
        "id": "sUN8NPvGFpnm"
      },
      "source": [
        "#Listas\n",
        "\n",
        "- Tipo de dato que agrupa variables o valores.\n",
        "- Estructura secuencial (indexados empezando por 0).\n",
        "- Se declara de dos formas:\n",
        "    - usando[ ]\n",
        "    - usando list()\n",
        "    - usando un generador\n",
        "- Puede contener tipos de datos diversos (en otros lenguajes eso no es posible de forma directa).\n",
        "- Los elementos internos se seleccionan con corchetes [ ]\n",
        "- Por lo tanto soporta slicing\n",
        "- Son MUTABLES (modificables).\n",
        "- GENERADORES [var for x in range (10)]\n",
        "- Al ser una clase contiene muchos métodos útiles.\n",
        "\n",
        "\n"
      ]
    },
    {
      "cell_type": "code",
      "metadata": {
        "colab": {
          "base_uri": "https://localhost:8080/"
        },
        "id": "qa3HYXMhGqvw",
        "outputId": "002af589-d595-45a3-ba75-91dfcdb38046"
      },
      "source": [
        "numeros = [ 10, 5,3,2,1]\n",
        "print(numeros)\n",
        "numeros2=list()\n",
        "numeros2.append(10)\n",
        "numeros2.append(5)\n",
        "numeros2.append(8)\n",
        "numeros2.append(3)\n",
        "print(numeros2)\n",
        "numeros[2]=20\n",
        "print(numeros)\n",
        "numeros[-1]=33\n",
        "numeros.append(88)\n",
        "print(numeros) "
      ],
      "execution_count": null,
      "outputs": [
        {
          "output_type": "stream",
          "name": "stdout",
          "text": [
            "[10, 5, 3, 2, 1]\n",
            "[10, 5, 8, 3]\n",
            "[10, 5, 20, 2, 1]\n",
            "[10, 5, 20, 2, 33, 88]\n"
          ]
        }
      ]
    },
    {
      "cell_type": "code",
      "metadata": {
        "colab": {
          "base_uri": "https://localhost:8080/"
        },
        "id": "pEgZqtqkIhle",
        "outputId": "51e27035-859a-4579-ab9f-53dd831703a6"
      },
      "source": [
        "# tipos diversos\n",
        "\n",
        "cosas= [ 12, 2, 2.34, True, \"José\", [\"pera\",\"kiwi\", \"uva\"]]\n",
        "print(cosas[2])\n",
        "print(cosas[1])\n",
        "print(cosas[4])\n",
        "print(cosas [5])\n",
        "print(cosas [5][1])\n",
        "print(cosas[4][1:2])\n",
        "cosas[4]=cosas[4].upper()\n",
        "print(cosas)\n"
      ],
      "execution_count": null,
      "outputs": [
        {
          "output_type": "stream",
          "name": "stdout",
          "text": [
            "2.34\n",
            "2\n",
            "José\n",
            "['pera', 'kiwi', 'uva']\n",
            "kiwi\n",
            "o\n",
            "[12, 2, 2.34, True, 'JOSÉ', ['pera', 'kiwi', 'uva']]\n"
          ]
        }
      ]
    },
    {
      "cell_type": "code",
      "metadata": {
        "colab": {
          "base_uri": "https://localhost:8080/"
        },
        "id": "0z0l_ix2L2oh",
        "outputId": "30f47392-9003-424b-bf03-eb612984b079"
      },
      "source": [
        "numeros = [1,2,3,4,5,6,7,8,9,10,11] \n",
        "print(numeros)\n",
        "#slicing\n",
        "# 1.- del 4 al 8\n",
        "print(numeros[3:8])\n",
        "# 2: [9,10]\n",
        "print(numeros[8:10])\n",
        "print(numeros[-3:-1])\n",
        "# imprimir la lista en orden inverso\n",
        "print(numeros[-1:-12:-1])\n",
        "# ó\n",
        "print(numeros[::-1])\n"
      ],
      "execution_count": null,
      "outputs": [
        {
          "output_type": "stream",
          "name": "stdout",
          "text": [
            "[1, 2, 3, 4, 5, 6, 7, 8, 9, 10, 11]\n",
            "[4, 5, 6, 7, 8]\n",
            "[9, 10]\n",
            "[9, 10]\n",
            "[11, 10, 9, 8, 7, 6, 5, 4, 3, 2, 1]\n",
            "[11, 10, 9, 8, 7, 6, 5, 4, 3, 2, 1]\n"
          ]
        }
      ]
    },
    {
      "cell_type": "code",
      "metadata": {
        "colab": {
          "base_uri": "https://localhost:8080/"
        },
        "id": "ZVghqBb5Po-W",
        "outputId": "e89f12e8-0cd5-4b62-d850-118f064c07a2"
      },
      "source": [
        "# Crear una lista con un generador\n",
        "numeros=[x*3 for x in range (101)]\n",
        "print (numeros)"
      ],
      "execution_count": null,
      "outputs": [
        {
          "output_type": "stream",
          "name": "stdout",
          "text": [
            "[0, 3, 6, 9, 12, 15, 18, 21, 24, 27, 30, 33, 36, 39, 42, 45, 48, 51, 54, 57, 60, 63, 66, 69, 72, 75, 78, 81, 84, 87, 90, 93, 96, 99, 102, 105, 108, 111, 114, 117, 120, 123, 126, 129, 132, 135, 138, 141, 144, 147, 150, 153, 156, 159, 162, 165, 168, 171, 174, 177, 180, 183, 186, 189, 192, 195, 198, 201, 204, 207, 210, 213, 216, 219, 222, 225, 228, 231, 234, 237, 240, 243, 246, 249, 252, 255, 258, 261, 264, 267, 270, 273, 276, 279, 282, 285, 288, 291, 294, 297, 300]\n"
          ]
        }
      ]
    },
    {
      "cell_type": "markdown",
      "metadata": {
        "id": "VR_1pNwkQsQ0"
      },
      "source": [
        "#funcion range()\n",
        "Tiene los mismos componentes que slicing.\n",
        "ini, stop, incremento\n",
        "range(1,101,1)\n"
      ]
    },
    {
      "cell_type": "code",
      "metadata": {
        "colab": {
          "base_uri": "https://localhost:8080/"
        },
        "id": "OW4-6-XIQqwQ",
        "outputId": "990274e5-6d46-4926-b6e7-af9c1d3f50fd"
      },
      "source": [
        "numeros=[x for x in range (50,101,2)]\n",
        "print (numeros)"
      ],
      "execution_count": null,
      "outputs": [
        {
          "output_type": "stream",
          "name": "stdout",
          "text": [
            "[50, 52, 54, 56, 58, 60, 62, 64, 66, 68, 70, 72, 74, 76, 78, 80, 82, 84, 86, 88, 90, 92, 94, 96, 98, 100]\n"
          ]
        }
      ]
    },
    {
      "cell_type": "markdown",
      "metadata": {
        "id": "cU9mghfRROcD"
      },
      "source": [
        "# Métodos de las listas"
      ]
    },
    {
      "cell_type": "code",
      "metadata": {
        "colab": {
          "base_uri": "https://localhost:8080/"
        },
        "id": "q24UfI8mRXcR",
        "outputId": "519d0e66-232e-4b3a-e031-d4edb367e688"
      },
      "source": [
        "dir(list)"
      ],
      "execution_count": null,
      "outputs": [
        {
          "output_type": "execute_result",
          "data": {
            "text/plain": [
              "['__add__',\n",
              " '__class__',\n",
              " '__contains__',\n",
              " '__delattr__',\n",
              " '__delitem__',\n",
              " '__dir__',\n",
              " '__doc__',\n",
              " '__eq__',\n",
              " '__format__',\n",
              " '__ge__',\n",
              " '__getattribute__',\n",
              " '__getitem__',\n",
              " '__gt__',\n",
              " '__hash__',\n",
              " '__iadd__',\n",
              " '__imul__',\n",
              " '__init__',\n",
              " '__init_subclass__',\n",
              " '__iter__',\n",
              " '__le__',\n",
              " '__len__',\n",
              " '__lt__',\n",
              " '__mul__',\n",
              " '__ne__',\n",
              " '__new__',\n",
              " '__reduce__',\n",
              " '__reduce_ex__',\n",
              " '__repr__',\n",
              " '__reversed__',\n",
              " '__rmul__',\n",
              " '__setattr__',\n",
              " '__setitem__',\n",
              " '__sizeof__',\n",
              " '__str__',\n",
              " '__subclasshook__',\n",
              " 'append',\n",
              " 'clear',\n",
              " 'copy',\n",
              " 'count',\n",
              " 'extend',\n",
              " 'index',\n",
              " 'insert',\n",
              " 'pop',\n",
              " 'remove',\n",
              " 'reverse',\n",
              " 'sort']"
            ]
          },
          "metadata": {},
          "execution_count": 51
        }
      ]
    },
    {
      "cell_type": "code",
      "metadata": {
        "colab": {
          "base_uri": "https://localhost:8080/"
        },
        "id": "05KcOQ_VSXV9",
        "outputId": "ba15858f-cd1a-4e8d-e30e-e460afacc526"
      },
      "source": [
        "numeros = [ 4,1,15,15,8,22,34,50]\n",
        "print(numeros)\n",
        "numeros.append(99)\n",
        "print(numeros)\n",
        "numeros.clear()\n",
        "print(numeros)\n",
        "# Otra forma de hacer clear\n",
        "numeros = [ 4,1,15,8,22,34,50]\n",
        "print(numeros)\n",
        "numeros =[]\n",
        "print(numeros)\n",
        "\n",
        "frutas= [\"uvas\", \"kiwi\", \"manzana\"]\n",
        "copia = frutas\n",
        "print(frutas)\n",
        "print(copia)\n",
        "frutas.append(\"naranja\")\n",
        "print(frutas)\n",
        "print(copia)\n",
        "\n",
        "colores = [\"rojo\", \"azul\", \"blanco\"]\n",
        "copia2=colores.copy()\n",
        "print(copia2)\n",
        "colores.append(\"verde\")\n",
        "print(colores)\n",
        "print(copia2)\n",
        "\n",
        "numeros = [ 4,1,15,8,22,34,50]\n",
        "print(\"números de veces que aparece el 15= \", numeros.count(15))\n",
        "\n",
        "# extend\n",
        "\n",
        "nombre =[\"jose\", \"pedro\", \"karina\"]\n",
        "print(nombre)\n",
        "otrosnombres=[\"josue\", \"diana\", \"dalia\"]\n",
        "print(otrosnombres)\n",
        "nombres = nombre + otrosnombres\n",
        "print(nombres)\n",
        "\n",
        "\n",
        "otrosnombres.extend([\"Jesus\", \"Maria\", \"Jose\"])\n",
        "print(otrosnombres)\n",
        " \n",
        "#index\n",
        "\n",
        "print(\"Jesus está en la posición: \", otrosnombres.index(\"Jesus\"))\n",
        "\n",
        "#insert\n",
        "otrosnombres.insert(4,\"Espiritú Santo\")\n",
        "print(otrosnombres)\n",
        "\n",
        "#pop\n",
        "resultado= otrosnombres.pop()\n",
        "print(resultado)\n",
        " "
      ],
      "execution_count": null,
      "outputs": [
        {
          "output_type": "stream",
          "name": "stdout",
          "text": [
            "[4, 1, 15, 15, 8, 22, 34, 50]\n",
            "[4, 1, 15, 15, 8, 22, 34, 50, 99]\n",
            "[]\n",
            "[4, 1, 15, 8, 22, 34, 50]\n",
            "[]\n",
            "['uvas', 'kiwi', 'manzana']\n",
            "['uvas', 'kiwi', 'manzana']\n",
            "['uvas', 'kiwi', 'manzana', 'naranja']\n",
            "['uvas', 'kiwi', 'manzana', 'naranja']\n",
            "['rojo', 'azul', 'blanco']\n",
            "['rojo', 'azul', 'blanco', 'verde']\n",
            "['rojo', 'azul', 'blanco']\n",
            "números de veces que aparece el 15=  1\n",
            "['jose', 'pedro', 'karina']\n",
            "['josue', 'diana', 'dalia']\n",
            "['jose', 'pedro', 'karina', 'josue', 'diana', 'dalia']\n",
            "['josue', 'diana', 'dalia', 'Jesus', 'Maria', 'Jose']\n",
            "Jesus está en la posición:  3\n",
            "['josue', 'diana', 'dalia', 'Jesus', 'Espiritú Santo', 'Maria', 'Jose']\n",
            "Jose\n"
          ]
        }
      ]
    },
    {
      "cell_type": "markdown",
      "metadata": {
        "id": "IluuSOckv7rg"
      },
      "source": [
        "# Tuplas \n",
        "\n",
        "### Características\n",
        "\n",
        "- Son datos agrupados.\n",
        "- Se declara usando:\n",
        "  -( )\n",
        "  -tuple()\n",
        "- Es una estructura secuencial, indexada a partir de 0.\n",
        "-Pueden tener de 0 a n elementos.\n",
        "- NO SON MUTABLES (no se puede eliminar y/o cambiar).\n",
        "- Son buenas para almacenar información de consulta.\n",
        "- Pueden almacenar información de diferentes tipos de dato.\n",
        "- Pueden estar anidadas.\n",
        "- Tienen métodos útiles.\n",
        "\n",
        "\n"
      ]
    },
    {
      "cell_type": "code",
      "metadata": {
        "colab": {
          "base_uri": "https://localhost:8080/"
        },
        "id": "5qnb_45Fw9Qc",
        "outputId": "2a500653-bc9d-4115-af97-e7227c724dee"
      },
      "source": [
        "info= (\"juan23\", \"dios1234\", \"123.232.1.12\")\n",
        "print(info)\n",
        "print(info[1])\n",
        "#info[1]= \"patito23\"= ERROR -->no mutables\n",
        "\n",
        "numeros = (0,1,2,3,4,5,6,7,8,9,10,11,12,13,14,15)\n",
        "print(numeros)\n",
        "print(numeros[5:11:1])\n",
        "\n",
        "cosas=(info, numeros)\n",
        "print(cosas)\n",
        "print(cosas[1][5:11])\n",
        "print(cosas[0][2][4:7])\n",
        "print(cosas[0][2])\n"
      ],
      "execution_count": 8,
      "outputs": [
        {
          "output_type": "stream",
          "name": "stdout",
          "text": [
            "('juan23', 'dios1234', '123.232.1.12')\n",
            "dios1234\n",
            "(0, 1, 2, 3, 4, 5, 6, 7, 8, 9, 10, 11, 12, 13, 14, 15)\n",
            "(5, 6, 7, 8, 9, 10)\n",
            "(('juan23', 'dios1234', '123.232.1.12'), (0, 1, 2, 3, 4, 5, 6, 7, 8, 9, 10, 11, 12, 13, 14, 15))\n",
            "(5, 6, 7, 8, 9, 10)\n",
            "232\n"
          ]
        }
      ]
    },
    {
      "cell_type": "markdown",
      "metadata": {
        "id": "lODQwk8X0ohB"
      },
      "source": [
        "# Métodos de las tuplas \n",
        "\n",
        "Son los mismos de las listas pero los que no involucren mutabilidad."
      ]
    },
    {
      "cell_type": "code",
      "metadata": {
        "colab": {
          "base_uri": "https://localhost:8080/"
        },
        "id": "QSbXTwd71QCy",
        "outputId": "65a31b2f-bd52-4b44-9ac6-14483931cfb1"
      },
      "source": [
        "dir(tuple)"
      ],
      "execution_count": 9,
      "outputs": [
        {
          "output_type": "execute_result",
          "data": {
            "text/plain": [
              "['__add__',\n",
              " '__class__',\n",
              " '__contains__',\n",
              " '__delattr__',\n",
              " '__dir__',\n",
              " '__doc__',\n",
              " '__eq__',\n",
              " '__format__',\n",
              " '__ge__',\n",
              " '__getattribute__',\n",
              " '__getitem__',\n",
              " '__getnewargs__',\n",
              " '__gt__',\n",
              " '__hash__',\n",
              " '__init__',\n",
              " '__init_subclass__',\n",
              " '__iter__',\n",
              " '__le__',\n",
              " '__len__',\n",
              " '__lt__',\n",
              " '__mul__',\n",
              " '__ne__',\n",
              " '__new__',\n",
              " '__reduce__',\n",
              " '__reduce_ex__',\n",
              " '__repr__',\n",
              " '__rmul__',\n",
              " '__setattr__',\n",
              " '__sizeof__',\n",
              " '__str__',\n",
              " '__subclasshook__',\n",
              " 'count',\n",
              " 'index']"
            ]
          },
          "metadata": {},
          "execution_count": 9
        }
      ]
    },
    {
      "cell_type": "markdown",
      "metadata": {
        "id": "6a5cS0872xrD"
      },
      "source": [
        "# Diccionarios\n",
        "### Características de los diccionarios\n",
        "\n",
        "- Agrupan datos pero de forma no lineal.\n",
        "-Se declaran con:\n",
        "    - {}\n",
        "    - dict()\n",
        "- Formados por pares del tipo llave: valor, donde:\n",
        "    - llave es de tipo string (siempre)\n",
        "    - valor puede ser de cualquier tipo de datos incluyendo los diccionarios.\n",
        "- Se seleccionan con la llave de la forma: [\"id_llave\"] .\n",
        "- Son mutables.\n",
        "- Son anidables.\n",
        "- Son equivalentes al tipo de dato JSON del lenguaje Java (JS).\n"
      ]
    },
    {
      "cell_type": "code",
      "metadata": {
        "colab": {
          "base_uri": "https://localhost:8080/"
        },
        "id": "nkkN0XYp2uXu",
        "outputId": "547e443c-9418-47c7-fffa-d50796345a2b"
      },
      "source": [
        "alumno= {\"nombre\": \"José\"}\n",
        "print(alumno)\n",
        "print(alumno[\"nombre\"])\n",
        "alumno={\"nombre\": \"José\", \"nc\":\"2129229292\", \"edad\":18}\n",
        "print(\"edad del alumno:\",alumno[\"edad\"])\n",
        "print(\"nombre del alumno:\", alumno[\"nombre\"].upper())\n",
        "print(alumno)\n",
        "\n",
        "print(\"Alumno 2:\")\n",
        "alumno2= dict() #{}\n",
        "print(alumno2)\n",
        "alumno2[\"nombre\"]= \"jose\"\n",
        "print(alumno2)\n",
        "alumno2[\"nc\"]=\"2191919122\"\n",
        "alumno2[\"edad\"]=18\n",
        "print(alumno2)\n",
        "alumno2[\"edad\"]= alumno2[\"edad\"]+1\n",
        "print(alumno2)"
      ],
      "execution_count": 21,
      "outputs": [
        {
          "output_type": "stream",
          "name": "stdout",
          "text": [
            "{'nombre': 'José'}\n",
            "José\n",
            "edad del alumno: 18\n",
            "nombre del alumno: JOSÉ\n",
            "{'nombre': 'José', 'nc': '2129229292', 'edad': 18}\n",
            "Alumno 2:\n",
            "{}\n",
            "{'nombre': 'jose'}\n",
            "{'nombre': 'jose', 'nc': '2191919122', 'edad': 18}\n",
            "{'nombre': 'jose', 'nc': '2191919122', 'edad': 19}\n"
          ]
        }
      ]
    },
    {
      "cell_type": "code",
      "metadata": {
        "colab": {
          "base_uri": "https://localhost:8080/"
        },
        "id": "oF-NzTgm8Puk",
        "outputId": "527c4048-2637-468a-8b9d-92537f40411e"
      },
      "source": [
        "cliente={ \"id\": \"CT2121\", \n",
        "         \"nombre\" : \"José Pedroza Rosales\", \n",
        "         \"teléfono\": { \"casa\": \"5544566565\",\n",
        "                      \"trabajo\": \"5544676767\",\n",
        "                      \"celular\": \"04455232323\"\n",
        "          }\n",
        "}\n",
        "print(cliente)\n",
        "\n",
        "cliente={ \"id\": \"CT2121\", \n",
        "         \"nombre\" : {\n",
        "             \"nombres\": [\"José\", \"Eduardo\"],\n",
        "             \"paterno\": \"Pedroza\",\n",
        "             \"materno\": \"Rosales\"\n",
        "         }, \n",
        "            \"telefono\": { \"casa\": \"5544566565\",\n",
        "                      \"trabajo\": \"5544676767\",\n",
        "                      \"celular\": \"04455232323\" },\n",
        "         \"productos\": {\n",
        "          \"ahorro\": {\"numero_cuenta\":\"7788\", \"ahorro\": 2500.50},\n",
        "          \"tarjeta\":[\n",
        "                       {\"tipo\": \"débito\", \"saldo\": 10000.50},\n",
        "                       {\"tipo\": \"crédito preferente\",\"límite\":250000.50},\n",
        "                       {\"tipo\": \"lite\", \"límite\": 15000.5}\n",
        "          ]\n",
        "          },\n",
        "          \"dirección\": {\n",
        "              \"calle\":\"Av. central\",\n",
        "              \"numero\": 1245,\n",
        "              \"colonia\": \"impulsora\",\n",
        "              \"delegación\": \"nezahualcoyotl\",\n",
        "              \"estado\": {\n",
        "                  \"clave\": 15,\n",
        "                  \"nombre_corto\":\"EdoMex\",\n",
        "                  \"nombre\": \"Estado de México\"\n",
        "              }\n",
        "          }          \n",
        "         } \n",
        "\n",
        "print(cliente)\n",
        "print(cliente[\"telefono\"][\"casa\"])\n",
        "print(cliente[\"productos\"][\"ahorro\"],[\"ahorro\"])\n",
        "print(cliente[\"productos\"][\"tarjeta\"][2][\"límite\"])\n",
        "print(cliente[\"dirección\"][\"estado\"][\"nombre\"].upper())"
      ],
      "execution_count": 43,
      "outputs": [
        {
          "output_type": "stream",
          "name": "stdout",
          "text": [
            "{'id': 'CT2121', 'nombre': 'José Pedroza Rosales', 'teléfono': {'casa': '5544566565', 'trabajo': '5544676767', 'celular': '04455232323'}}\n",
            "{'id': 'CT2121', 'nombre': {'nombres': ['José', 'Eduardo'], 'paterno': 'Pedroza', 'materno': 'Rosales'}, 'telefono': {'casa': '5544566565', 'trabajo': '5544676767', 'celular': '04455232323'}, 'productos': {'ahorro': {'numero_cuenta': '7788', 'ahorro': 2500.5}, 'tarjeta': [{'tipo': 'débito', 'saldo': 10000.5}, {'tipo': 'crédito preferente', 'límite': 250000.5}, {'tipo': 'lite', 'límite': 15000.5}]}, 'dirección': {'calle': 'Av. central', 'numero': 1245, 'colonia': 'impulsora', 'delegación': 'nezahualcoyotl', 'estado': {'clave': 15, 'nombre_corto': 'EdoMex', 'nombre': 'Estado de México'}}}\n",
            "5544566565\n",
            "{'numero_cuenta': '7788', 'ahorro': 2500.5} ['ahorro']\n",
            "15000.5\n",
            "ESTADO DE MÉXICO\n"
          ]
        }
      ]
    }
  ]
}