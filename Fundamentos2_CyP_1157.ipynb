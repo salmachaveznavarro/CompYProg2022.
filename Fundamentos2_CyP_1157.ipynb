{
  "nbformat": 4,
  "nbformat_minor": 0,
  "metadata": {
    "colab": {
      "name": "Fundamentos2_CyP_1157.ipynb",
      "provenance": [],
      "authorship_tag": "ABX9TyOFv+3oEwb+HUeZHTaQWAwc",
      "include_colab_link": true
    },
    "kernelspec": {
      "name": "python3",
      "display_name": "Python 3"
    },
    "language_info": {
      "name": "python"
    }
  },
  "cells": [
    {
      "cell_type": "markdown",
      "metadata": {
        "id": "view-in-github",
        "colab_type": "text"
      },
      "source": [
        "<a href=\"https://colab.research.google.com/github/salmachaveznavarro/CompYProg2022./blob/compyprog2022/Fundamentos2_CyP_1157.ipynb\" target=\"_parent\"><img src=\"https://colab.research.google.com/assets/colab-badge.svg\" alt=\"Open In Colab\"/></a>"
      ]
    },
    {
      "cell_type": "markdown",
      "metadata": {
        "id": "0EvMeWstFeKY"
      },
      "source": [
        "# Tipos de datos estructurados en python\n",
        "\n",
        "1. listas\n",
        "2. tuplas\n",
        "3. diccionarios\n",
        "4. conjuntos"
      ]
    },
    {
      "cell_type": "markdown",
      "metadata": {
        "id": "sUN8NPvGFpnm"
      },
      "source": [
        "#Listas\n",
        "\n",
        "- Tipo de dato que agrupa variables o valores.\n",
        "- Estructura secuencial (indexados empezando por 0).\n",
        "- Se declara de dos formas:\n",
        "    - usando[ ]\n",
        "    - usando list()\n",
        "    - usando un generador\n",
        "- Puede contener tipos de datos diversos (en otros lenguajes eso no es posible de forma directa).\n",
        "- Los elementos internos se seleccionan con corchetes [ ]\n",
        "- Por lo tanto soporta slicing\n",
        "- Son MUTABLES (modificables).\n",
        "- GENERADORES [var for x in range (10)]\n",
        "- Al ser una clase contiene muchos métodos útiles.\n",
        "\n",
        "\n"
      ]
    },
    {
      "cell_type": "code",
      "metadata": {
        "colab": {
          "base_uri": "https://localhost:8080/"
        },
        "id": "qa3HYXMhGqvw",
        "outputId": "002af589-d595-45a3-ba75-91dfcdb38046"
      },
      "source": [
        "numeros = [ 10, 5,3,2,1]\n",
        "print(numeros)\n",
        "numeros2=list()\n",
        "numeros2.append(10)\n",
        "numeros2.append(5)\n",
        "numeros2.append(8)\n",
        "numeros2.append(3)\n",
        "print(numeros2)\n",
        "numeros[2]=20\n",
        "print(numeros)\n",
        "numeros[-1]=33\n",
        "numeros.append(88)\n",
        "print(numeros) "
      ],
      "execution_count": 21,
      "outputs": [
        {
          "output_type": "stream",
          "name": "stdout",
          "text": [
            "[10, 5, 3, 2, 1]\n",
            "[10, 5, 8, 3]\n",
            "[10, 5, 20, 2, 1]\n",
            "[10, 5, 20, 2, 33, 88]\n"
          ]
        }
      ]
    },
    {
      "cell_type": "code",
      "metadata": {
        "colab": {
          "base_uri": "https://localhost:8080/"
        },
        "id": "pEgZqtqkIhle",
        "outputId": "51e27035-859a-4579-ab9f-53dd831703a6"
      },
      "source": [
        "# tipos diversos\n",
        "\n",
        "cosas= [ 12, 2, 2.34, True, \"José\", [\"pera\",\"kiwi\", \"uva\"]]\n",
        "print(cosas[2])\n",
        "print(cosas[1])\n",
        "print(cosas[4])\n",
        "print(cosas [5])\n",
        "print(cosas [5][1])\n",
        "print(cosas[4][1:2])\n",
        "cosas[4]=cosas[4].upper()\n",
        "print(cosas)\n"
      ],
      "execution_count": 25,
      "outputs": [
        {
          "output_type": "stream",
          "name": "stdout",
          "text": [
            "2.34\n",
            "2\n",
            "José\n",
            "['pera', 'kiwi', 'uva']\n",
            "kiwi\n",
            "o\n",
            "[12, 2, 2.34, True, 'JOSÉ', ['pera', 'kiwi', 'uva']]\n"
          ]
        }
      ]
    },
    {
      "cell_type": "code",
      "metadata": {
        "colab": {
          "base_uri": "https://localhost:8080/"
        },
        "id": "0z0l_ix2L2oh",
        "outputId": "30f47392-9003-424b-bf03-eb612984b079"
      },
      "source": [
        "numeros = [1,2,3,4,5,6,7,8,9,10,11] \n",
        "print(numeros)\n",
        "#slicing\n",
        "# 1.- del 4 al 8\n",
        "print(numeros[3:8])\n",
        "# 2: [9,10]\n",
        "print(numeros[8:10])\n",
        "print(numeros[-3:-1])\n",
        "# imprimir la lista en orden inverso\n",
        "print(numeros[-1:-12:-1])\n",
        "# ó\n",
        "print(numeros[::-1])\n"
      ],
      "execution_count": 36,
      "outputs": [
        {
          "output_type": "stream",
          "name": "stdout",
          "text": [
            "[1, 2, 3, 4, 5, 6, 7, 8, 9, 10, 11]\n",
            "[4, 5, 6, 7, 8]\n",
            "[9, 10]\n",
            "[9, 10]\n",
            "[11, 10, 9, 8, 7, 6, 5, 4, 3, 2, 1]\n",
            "[11, 10, 9, 8, 7, 6, 5, 4, 3, 2, 1]\n"
          ]
        }
      ]
    },
    {
      "cell_type": "code",
      "metadata": {
        "colab": {
          "base_uri": "https://localhost:8080/"
        },
        "id": "ZVghqBb5Po-W",
        "outputId": "e89f12e8-0cd5-4b62-d850-118f064c07a2"
      },
      "source": [
        "# Crear una lista con un generador\n",
        "numeros=[x*3 for x in range (101)]\n",
        "print (numeros)"
      ],
      "execution_count": 47,
      "outputs": [
        {
          "output_type": "stream",
          "name": "stdout",
          "text": [
            "[0, 3, 6, 9, 12, 15, 18, 21, 24, 27, 30, 33, 36, 39, 42, 45, 48, 51, 54, 57, 60, 63, 66, 69, 72, 75, 78, 81, 84, 87, 90, 93, 96, 99, 102, 105, 108, 111, 114, 117, 120, 123, 126, 129, 132, 135, 138, 141, 144, 147, 150, 153, 156, 159, 162, 165, 168, 171, 174, 177, 180, 183, 186, 189, 192, 195, 198, 201, 204, 207, 210, 213, 216, 219, 222, 225, 228, 231, 234, 237, 240, 243, 246, 249, 252, 255, 258, 261, 264, 267, 270, 273, 276, 279, 282, 285, 288, 291, 294, 297, 300]\n"
          ]
        }
      ]
    },
    {
      "cell_type": "markdown",
      "metadata": {
        "id": "VR_1pNwkQsQ0"
      },
      "source": [
        "#funcion range()\n",
        "Tiene los mismos componentes que slicing.\n",
        "ini, stop, incremento\n",
        "range(1,101,1)\n"
      ]
    },
    {
      "cell_type": "code",
      "metadata": {
        "colab": {
          "base_uri": "https://localhost:8080/"
        },
        "id": "OW4-6-XIQqwQ",
        "outputId": "990274e5-6d46-4926-b6e7-af9c1d3f50fd"
      },
      "source": [
        "numeros=[x for x in range (50,101,2)]\n",
        "print (numeros)"
      ],
      "execution_count": 50,
      "outputs": [
        {
          "output_type": "stream",
          "name": "stdout",
          "text": [
            "[50, 52, 54, 56, 58, 60, 62, 64, 66, 68, 70, 72, 74, 76, 78, 80, 82, 84, 86, 88, 90, 92, 94, 96, 98, 100]\n"
          ]
        }
      ]
    },
    {
      "cell_type": "markdown",
      "metadata": {
        "id": "cU9mghfRROcD"
      },
      "source": [
        "# Métodos de las listas"
      ]
    },
    {
      "cell_type": "code",
      "metadata": {
        "colab": {
          "base_uri": "https://localhost:8080/"
        },
        "id": "q24UfI8mRXcR",
        "outputId": "519d0e66-232e-4b3a-e031-d4edb367e688"
      },
      "source": [
        "dir(list)"
      ],
      "execution_count": 51,
      "outputs": [
        {
          "output_type": "execute_result",
          "data": {
            "text/plain": [
              "['__add__',\n",
              " '__class__',\n",
              " '__contains__',\n",
              " '__delattr__',\n",
              " '__delitem__',\n",
              " '__dir__',\n",
              " '__doc__',\n",
              " '__eq__',\n",
              " '__format__',\n",
              " '__ge__',\n",
              " '__getattribute__',\n",
              " '__getitem__',\n",
              " '__gt__',\n",
              " '__hash__',\n",
              " '__iadd__',\n",
              " '__imul__',\n",
              " '__init__',\n",
              " '__init_subclass__',\n",
              " '__iter__',\n",
              " '__le__',\n",
              " '__len__',\n",
              " '__lt__',\n",
              " '__mul__',\n",
              " '__ne__',\n",
              " '__new__',\n",
              " '__reduce__',\n",
              " '__reduce_ex__',\n",
              " '__repr__',\n",
              " '__reversed__',\n",
              " '__rmul__',\n",
              " '__setattr__',\n",
              " '__setitem__',\n",
              " '__sizeof__',\n",
              " '__str__',\n",
              " '__subclasshook__',\n",
              " 'append',\n",
              " 'clear',\n",
              " 'copy',\n",
              " 'count',\n",
              " 'extend',\n",
              " 'index',\n",
              " 'insert',\n",
              " 'pop',\n",
              " 'remove',\n",
              " 'reverse',\n",
              " 'sort']"
            ]
          },
          "metadata": {},
          "execution_count": 51
        }
      ]
    },
    {
      "cell_type": "code",
      "metadata": {
        "colab": {
          "base_uri": "https://localhost:8080/"
        },
        "id": "05KcOQ_VSXV9",
        "outputId": "ba15858f-cd1a-4e8d-e30e-e460afacc526"
      },
      "source": [
        "numeros = [ 4,1,15,15,8,22,34,50]\n",
        "print(numeros)\n",
        "numeros.append(99)\n",
        "print(numeros)\n",
        "numeros.clear()\n",
        "print(numeros)\n",
        "# Otra forma de hacer clear\n",
        "numeros = [ 4,1,15,8,22,34,50]\n",
        "print(numeros)\n",
        "numeros =[]\n",
        "print(numeros)\n",
        "\n",
        "frutas= [\"uvas\", \"kiwi\", \"manzana\"]\n",
        "copia = frutas\n",
        "print(frutas)\n",
        "print(copia)\n",
        "frutas.append(\"naranja\")\n",
        "print(frutas)\n",
        "print(copia)\n",
        "\n",
        "colores = [\"rojo\", \"azul\", \"blanco\"]\n",
        "copia2=colores.copy()\n",
        "print(copia2)\n",
        "colores.append(\"verde\")\n",
        "print(colores)\n",
        "print(copia2)\n",
        "\n",
        "numeros = [ 4,1,15,8,22,34,50]\n",
        "print(\"números de veces que aparece el 15= \", numeros.count(15))\n",
        "\n",
        "# extend\n",
        "\n",
        "nombre =[\"jose\", \"pedro\", \"karina\"]\n",
        "print(nombre)\n",
        "otrosnombres=[\"josue\", \"diana\", \"dalia\"]\n",
        "print(otrosnombres)\n",
        "nombres = nombre + otrosnombres\n",
        "print(nombres)\n",
        "\n",
        "\n",
        "otrosnombres.extend([\"Jesus\", \"Maria\", \"Jose\"])\n",
        "print(otrosnombres)\n",
        " \n",
        "#index\n",
        "\n",
        "print(\"Jesus está en la posición: \", otrosnombres.index(\"Jesus\"))\n",
        "\n",
        "#insert\n",
        "otrosnombres.insert(4,\"Espiritú Santo\")\n",
        "print(otrosnombres)\n",
        "\n",
        "#pop\n",
        "resultado= otrosnombres.pop()\n",
        "print(resultado)\n",
        " "
      ],
      "execution_count": 81,
      "outputs": [
        {
          "output_type": "stream",
          "name": "stdout",
          "text": [
            "[4, 1, 15, 15, 8, 22, 34, 50]\n",
            "[4, 1, 15, 15, 8, 22, 34, 50, 99]\n",
            "[]\n",
            "[4, 1, 15, 8, 22, 34, 50]\n",
            "[]\n",
            "['uvas', 'kiwi', 'manzana']\n",
            "['uvas', 'kiwi', 'manzana']\n",
            "['uvas', 'kiwi', 'manzana', 'naranja']\n",
            "['uvas', 'kiwi', 'manzana', 'naranja']\n",
            "['rojo', 'azul', 'blanco']\n",
            "['rojo', 'azul', 'blanco', 'verde']\n",
            "['rojo', 'azul', 'blanco']\n",
            "números de veces que aparece el 15=  1\n",
            "['jose', 'pedro', 'karina']\n",
            "['josue', 'diana', 'dalia']\n",
            "['jose', 'pedro', 'karina', 'josue', 'diana', 'dalia']\n",
            "['josue', 'diana', 'dalia', 'Jesus', 'Maria', 'Jose']\n",
            "Jesus está en la posición:  3\n",
            "['josue', 'diana', 'dalia', 'Jesus', 'Espiritú Santo', 'Maria', 'Jose']\n",
            "Jose\n"
          ]
        }
      ]
    }
  ]
}