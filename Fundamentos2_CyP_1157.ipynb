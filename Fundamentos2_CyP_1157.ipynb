{
  "nbformat": 4,
  "nbformat_minor": 0,
  "metadata": {
    "colab": {
      "name": "Fundamentos2_CyP_1157.ipynb",
      "provenance": [],
      "authorship_tag": "ABX9TyOUdox8z/QB1hieM9gNahnZ",
      "include_colab_link": true
    },
    "kernelspec": {
      "name": "python3",
      "display_name": "Python 3"
    },
    "language_info": {
      "name": "python"
    }
  },
  "cells": [
    {
      "cell_type": "markdown",
      "metadata": {
        "id": "view-in-github",
        "colab_type": "text"
      },
      "source": [
        "<a href=\"https://colab.research.google.com/github/salmachaveznavarro/CompYProg2022./blob/compyprog2022/Fundamentos2_CyP_1157.ipynb\" target=\"_parent\"><img src=\"https://colab.research.google.com/assets/colab-badge.svg\" alt=\"Open In Colab\"/></a>"
      ]
    },
    {
      "cell_type": "markdown",
      "metadata": {
        "id": "0EvMeWstFeKY"
      },
      "source": [
        "# Tipos de datos estructurados en python\n",
        "\n",
        "1. listas\n",
        "2. tuplas\n",
        "3. diccionarios\n",
        "4. conjuntos"
      ]
    },
    {
      "cell_type": "markdown",
      "metadata": {
        "id": "sUN8NPvGFpnm"
      },
      "source": [
        "#Listas\n",
        "\n",
        "- Tipo de dato que agrupa variables o valores.\n",
        "- Estructura secuencial (indexados empezando por 0).\n",
        "- Se declara de dos formas:\n",
        "    - usando[ ]\n",
        "    - usando list()\n",
        "    - usando un generador\n",
        "- Puede contener tipos de datos diversos (en otros lenguajes eso no es posible de forma directa).\n",
        "- Los elementos internos se seleccionan con corchetes [ ]\n",
        "- Por lo tanto soporta slicing\n",
        "- Son MUTABLES (modificables).\n",
        "- GENERADORES [var for x in range (10)]\n",
        "- Al ser una clase contiene muchos métodos útiles.\n",
        "\n",
        "\n"
      ]
    },
    {
      "cell_type": "code",
      "metadata": {
        "colab": {
          "base_uri": "https://localhost:8080/"
        },
        "id": "qa3HYXMhGqvw",
        "outputId": "002af589-d595-45a3-ba75-91dfcdb38046"
      },
      "source": [
        "numeros = [ 10, 5,3,2,1]\n",
        "print(numeros)\n",
        "numeros2=list()\n",
        "numeros2.append(10)\n",
        "numeros2.append(5)\n",
        "numeros2.append(8)\n",
        "numeros2.append(3)\n",
        "print(numeros2)\n",
        "numeros[2]=20\n",
        "print(numeros)\n",
        "numeros[-1]=33\n",
        "numeros.append(88)\n",
        "print(numeros) "
      ],
      "execution_count": null,
      "outputs": [
        {
          "output_type": "stream",
          "name": "stdout",
          "text": [
            "[10, 5, 3, 2, 1]\n",
            "[10, 5, 8, 3]\n",
            "[10, 5, 20, 2, 1]\n",
            "[10, 5, 20, 2, 33, 88]\n"
          ]
        }
      ]
    },
    {
      "cell_type": "code",
      "metadata": {
        "colab": {
          "base_uri": "https://localhost:8080/"
        },
        "id": "pEgZqtqkIhle",
        "outputId": "51e27035-859a-4579-ab9f-53dd831703a6"
      },
      "source": [
        "# tipos diversos\n",
        "\n",
        "cosas= [ 12, 2, 2.34, True, \"José\", [\"pera\",\"kiwi\", \"uva\"]]\n",
        "print(cosas[2])\n",
        "print(cosas[1])\n",
        "print(cosas[4])\n",
        "print(cosas [5])\n",
        "print(cosas [5][1])\n",
        "print(cosas[4][1:2])\n",
        "cosas[4]=cosas[4].upper()\n",
        "print(cosas)\n"
      ],
      "execution_count": null,
      "outputs": [
        {
          "output_type": "stream",
          "name": "stdout",
          "text": [
            "2.34\n",
            "2\n",
            "José\n",
            "['pera', 'kiwi', 'uva']\n",
            "kiwi\n",
            "o\n",
            "[12, 2, 2.34, True, 'JOSÉ', ['pera', 'kiwi', 'uva']]\n"
          ]
        }
      ]
    },
    {
      "cell_type": "code",
      "metadata": {
        "colab": {
          "base_uri": "https://localhost:8080/"
        },
        "id": "0z0l_ix2L2oh",
        "outputId": "30f47392-9003-424b-bf03-eb612984b079"
      },
      "source": [
        "numeros = [1,2,3,4,5,6,7,8,9,10,11] \n",
        "print(numeros)\n",
        "#slicing\n",
        "# 1.- del 4 al 8\n",
        "print(numeros[3:8])\n",
        "# 2: [9,10]\n",
        "print(numeros[8:10])\n",
        "print(numeros[-3:-1])\n",
        "# imprimir la lista en orden inverso\n",
        "print(numeros[-1:-12:-1])\n",
        "# ó\n",
        "print(numeros[::-1])\n"
      ],
      "execution_count": null,
      "outputs": [
        {
          "output_type": "stream",
          "name": "stdout",
          "text": [
            "[1, 2, 3, 4, 5, 6, 7, 8, 9, 10, 11]\n",
            "[4, 5, 6, 7, 8]\n",
            "[9, 10]\n",
            "[9, 10]\n",
            "[11, 10, 9, 8, 7, 6, 5, 4, 3, 2, 1]\n",
            "[11, 10, 9, 8, 7, 6, 5, 4, 3, 2, 1]\n"
          ]
        }
      ]
    },
    {
      "cell_type": "code",
      "metadata": {
        "colab": {
          "base_uri": "https://localhost:8080/"
        },
        "id": "ZVghqBb5Po-W",
        "outputId": "e89f12e8-0cd5-4b62-d850-118f064c07a2"
      },
      "source": [
        "# Crear una lista con un generador\n",
        "numeros=[x*3 for x in range (101)]\n",
        "print (numeros)"
      ],
      "execution_count": null,
      "outputs": [
        {
          "output_type": "stream",
          "name": "stdout",
          "text": [
            "[0, 3, 6, 9, 12, 15, 18, 21, 24, 27, 30, 33, 36, 39, 42, 45, 48, 51, 54, 57, 60, 63, 66, 69, 72, 75, 78, 81, 84, 87, 90, 93, 96, 99, 102, 105, 108, 111, 114, 117, 120, 123, 126, 129, 132, 135, 138, 141, 144, 147, 150, 153, 156, 159, 162, 165, 168, 171, 174, 177, 180, 183, 186, 189, 192, 195, 198, 201, 204, 207, 210, 213, 216, 219, 222, 225, 228, 231, 234, 237, 240, 243, 246, 249, 252, 255, 258, 261, 264, 267, 270, 273, 276, 279, 282, 285, 288, 291, 294, 297, 300]\n"
          ]
        }
      ]
    },
    {
      "cell_type": "markdown",
      "metadata": {
        "id": "VR_1pNwkQsQ0"
      },
      "source": [
        "#funcion range()\n",
        "Tiene los mismos componentes que slicing.\n",
        "ini, stop, incremento\n",
        "range(1,101,1)\n"
      ]
    },
    {
      "cell_type": "code",
      "metadata": {
        "colab": {
          "base_uri": "https://localhost:8080/"
        },
        "id": "OW4-6-XIQqwQ",
        "outputId": "990274e5-6d46-4926-b6e7-af9c1d3f50fd"
      },
      "source": [
        "numeros=[x for x in range (50,101,2)]\n",
        "print (numeros)"
      ],
      "execution_count": null,
      "outputs": [
        {
          "output_type": "stream",
          "name": "stdout",
          "text": [
            "[50, 52, 54, 56, 58, 60, 62, 64, 66, 68, 70, 72, 74, 76, 78, 80, 82, 84, 86, 88, 90, 92, 94, 96, 98, 100]\n"
          ]
        }
      ]
    },
    {
      "cell_type": "markdown",
      "metadata": {
        "id": "cU9mghfRROcD"
      },
      "source": [
        "# Métodos de las listas"
      ]
    },
    {
      "cell_type": "code",
      "metadata": {
        "colab": {
          "base_uri": "https://localhost:8080/"
        },
        "id": "q24UfI8mRXcR",
        "outputId": "519d0e66-232e-4b3a-e031-d4edb367e688"
      },
      "source": [
        "dir(list)"
      ],
      "execution_count": null,
      "outputs": [
        {
          "output_type": "execute_result",
          "data": {
            "text/plain": [
              "['__add__',\n",
              " '__class__',\n",
              " '__contains__',\n",
              " '__delattr__',\n",
              " '__delitem__',\n",
              " '__dir__',\n",
              " '__doc__',\n",
              " '__eq__',\n",
              " '__format__',\n",
              " '__ge__',\n",
              " '__getattribute__',\n",
              " '__getitem__',\n",
              " '__gt__',\n",
              " '__hash__',\n",
              " '__iadd__',\n",
              " '__imul__',\n",
              " '__init__',\n",
              " '__init_subclass__',\n",
              " '__iter__',\n",
              " '__le__',\n",
              " '__len__',\n",
              " '__lt__',\n",
              " '__mul__',\n",
              " '__ne__',\n",
              " '__new__',\n",
              " '__reduce__',\n",
              " '__reduce_ex__',\n",
              " '__repr__',\n",
              " '__reversed__',\n",
              " '__rmul__',\n",
              " '__setattr__',\n",
              " '__setitem__',\n",
              " '__sizeof__',\n",
              " '__str__',\n",
              " '__subclasshook__',\n",
              " 'append',\n",
              " 'clear',\n",
              " 'copy',\n",
              " 'count',\n",
              " 'extend',\n",
              " 'index',\n",
              " 'insert',\n",
              " 'pop',\n",
              " 'remove',\n",
              " 'reverse',\n",
              " 'sort']"
            ]
          },
          "metadata": {},
          "execution_count": 51
        }
      ]
    },
    {
      "cell_type": "code",
      "metadata": {
        "colab": {
          "base_uri": "https://localhost:8080/"
        },
        "id": "05KcOQ_VSXV9",
        "outputId": "ba15858f-cd1a-4e8d-e30e-e460afacc526"
      },
      "source": [
        "numeros = [ 4,1,15,15,8,22,34,50]\n",
        "print(numeros)\n",
        "numeros.append(99)\n",
        "print(numeros)\n",
        "numeros.clear()\n",
        "print(numeros)\n",
        "# Otra forma de hacer clear\n",
        "numeros = [ 4,1,15,8,22,34,50]\n",
        "print(numeros)\n",
        "numeros =[]\n",
        "print(numeros)\n",
        "\n",
        "frutas= [\"uvas\", \"kiwi\", \"manzana\"]\n",
        "copia = frutas\n",
        "print(frutas)\n",
        "print(copia)\n",
        "frutas.append(\"naranja\")\n",
        "print(frutas)\n",
        "print(copia)\n",
        "\n",
        "colores = [\"rojo\", \"azul\", \"blanco\"]\n",
        "copia2=colores.copy()\n",
        "print(copia2)\n",
        "colores.append(\"verde\")\n",
        "print(colores)\n",
        "print(copia2)\n",
        "\n",
        "numeros = [ 4,1,15,8,22,34,50]\n",
        "print(\"números de veces que aparece el 15= \", numeros.count(15))\n",
        "\n",
        "# extend\n",
        "\n",
        "nombre =[\"jose\", \"pedro\", \"karina\"]\n",
        "print(nombre)\n",
        "otrosnombres=[\"josue\", \"diana\", \"dalia\"]\n",
        "print(otrosnombres)\n",
        "nombres = nombre + otrosnombres\n",
        "print(nombres)\n",
        "\n",
        "\n",
        "otrosnombres.extend([\"Jesus\", \"Maria\", \"Jose\"])\n",
        "print(otrosnombres)\n",
        " \n",
        "#index\n",
        "\n",
        "print(\"Jesus está en la posición: \", otrosnombres.index(\"Jesus\"))\n",
        "\n",
        "#insert\n",
        "otrosnombres.insert(4,\"Espiritú Santo\")\n",
        "print(otrosnombres)\n",
        "\n",
        "#pop\n",
        "resultado= otrosnombres.pop()\n",
        "print(resultado)\n",
        " "
      ],
      "execution_count": null,
      "outputs": [
        {
          "output_type": "stream",
          "name": "stdout",
          "text": [
            "[4, 1, 15, 15, 8, 22, 34, 50]\n",
            "[4, 1, 15, 15, 8, 22, 34, 50, 99]\n",
            "[]\n",
            "[4, 1, 15, 8, 22, 34, 50]\n",
            "[]\n",
            "['uvas', 'kiwi', 'manzana']\n",
            "['uvas', 'kiwi', 'manzana']\n",
            "['uvas', 'kiwi', 'manzana', 'naranja']\n",
            "['uvas', 'kiwi', 'manzana', 'naranja']\n",
            "['rojo', 'azul', 'blanco']\n",
            "['rojo', 'azul', 'blanco', 'verde']\n",
            "['rojo', 'azul', 'blanco']\n",
            "números de veces que aparece el 15=  1\n",
            "['jose', 'pedro', 'karina']\n",
            "['josue', 'diana', 'dalia']\n",
            "['jose', 'pedro', 'karina', 'josue', 'diana', 'dalia']\n",
            "['josue', 'diana', 'dalia', 'Jesus', 'Maria', 'Jose']\n",
            "Jesus está en la posición:  3\n",
            "['josue', 'diana', 'dalia', 'Jesus', 'Espiritú Santo', 'Maria', 'Jose']\n",
            "Jose\n"
          ]
        }
      ]
    },
    {
      "cell_type": "markdown",
      "metadata": {
        "id": "IluuSOckv7rg"
      },
      "source": [
        "# Tuplas \n",
        "\n",
        "### Características\n",
        "\n",
        "- Son datos agrupados.\n",
        "- Se declara usando:\n",
        "  -( )\n",
        "  -tuple()\n",
        "- Es una estructura secuencial, indexada a partir de 0.\n",
        "-Pueden tener de 0 a n elementos.\n",
        "- NO SON MUTABLES (no se puede eliminar y/o cambiar).\n",
        "- Son buenas para almacenar información de consulta.\n",
        "- Pueden almacenar información de diferentes tipos de dato.\n",
        "- Pueden estar anidadas.\n",
        "- Tienen métodos útiles.\n",
        "\n",
        "\n"
      ]
    },
    {
      "cell_type": "code",
      "metadata": {
        "colab": {
          "base_uri": "https://localhost:8080/"
        },
        "id": "5qnb_45Fw9Qc",
        "outputId": "2a500653-bc9d-4115-af97-e7227c724dee"
      },
      "source": [
        "info= (\"juan23\", \"dios1234\", \"123.232.1.12\")\n",
        "print(info)\n",
        "print(info[1])\n",
        "#info[1]= \"patito23\"= ERROR -->no mutables\n",
        "\n",
        "numeros = (0,1,2,3,4,5,6,7,8,9,10,11,12,13,14,15)\n",
        "print(numeros)\n",
        "print(numeros[5:11:1])\n",
        "\n",
        "cosas=(info, numeros)\n",
        "print(cosas)\n",
        "print(cosas[1][5:11])\n",
        "print(cosas[0][2][4:7])\n",
        "print(cosas[0][2])\n"
      ],
      "execution_count": null,
      "outputs": [
        {
          "output_type": "stream",
          "name": "stdout",
          "text": [
            "('juan23', 'dios1234', '123.232.1.12')\n",
            "dios1234\n",
            "(0, 1, 2, 3, 4, 5, 6, 7, 8, 9, 10, 11, 12, 13, 14, 15)\n",
            "(5, 6, 7, 8, 9, 10)\n",
            "(('juan23', 'dios1234', '123.232.1.12'), (0, 1, 2, 3, 4, 5, 6, 7, 8, 9, 10, 11, 12, 13, 14, 15))\n",
            "(5, 6, 7, 8, 9, 10)\n",
            "232\n"
          ]
        }
      ]
    },
    {
      "cell_type": "markdown",
      "metadata": {
        "id": "lODQwk8X0ohB"
      },
      "source": [
        "# Métodos de las tuplas \n",
        "\n",
        "Son los mismos de las listas pero los que no involucren mutabilidad."
      ]
    },
    {
      "cell_type": "code",
      "metadata": {
        "colab": {
          "base_uri": "https://localhost:8080/"
        },
        "id": "QSbXTwd71QCy",
        "outputId": "65a31b2f-bd52-4b44-9ac6-14483931cfb1"
      },
      "source": [
        "dir(tuple)"
      ],
      "execution_count": null,
      "outputs": [
        {
          "output_type": "execute_result",
          "data": {
            "text/plain": [
              "['__add__',\n",
              " '__class__',\n",
              " '__contains__',\n",
              " '__delattr__',\n",
              " '__dir__',\n",
              " '__doc__',\n",
              " '__eq__',\n",
              " '__format__',\n",
              " '__ge__',\n",
              " '__getattribute__',\n",
              " '__getitem__',\n",
              " '__getnewargs__',\n",
              " '__gt__',\n",
              " '__hash__',\n",
              " '__init__',\n",
              " '__init_subclass__',\n",
              " '__iter__',\n",
              " '__le__',\n",
              " '__len__',\n",
              " '__lt__',\n",
              " '__mul__',\n",
              " '__ne__',\n",
              " '__new__',\n",
              " '__reduce__',\n",
              " '__reduce_ex__',\n",
              " '__repr__',\n",
              " '__rmul__',\n",
              " '__setattr__',\n",
              " '__sizeof__',\n",
              " '__str__',\n",
              " '__subclasshook__',\n",
              " 'count',\n",
              " 'index']"
            ]
          },
          "metadata": {},
          "execution_count": 9
        }
      ]
    },
    {
      "cell_type": "markdown",
      "metadata": {
        "id": "6a5cS0872xrD"
      },
      "source": [
        "# Diccionarios\n",
        "### Características de los diccionarios\n",
        "\n",
        "- Agrupan datos pero de forma no lineal.\n",
        "-Se declaran con:\n",
        "    - {}\n",
        "    - dict()\n",
        "- Formados por pares del tipo llave: valor, donde:\n",
        "    - llave es de tipo string (siempre)\n",
        "    - valor puede ser de cualquier tipo de datos incluyendo los diccionarios.\n",
        "- Se seleccionan con la llave de la forma: [\"id_llave\"] .\n",
        "- Son mutables.\n",
        "- Son anidables.\n",
        "- Son equivalentes al tipo de dato JSON del lenguaje Java (JS).\n"
      ]
    },
    {
      "cell_type": "code",
      "metadata": {
        "colab": {
          "base_uri": "https://localhost:8080/"
        },
        "id": "nkkN0XYp2uXu",
        "outputId": "547e443c-9418-47c7-fffa-d50796345a2b"
      },
      "source": [
        "alumno= {\"nombre\": \"José\"}\n",
        "print(alumno)\n",
        "print(alumno[\"nombre\"])\n",
        "alumno={\"nombre\": \"José\", \"nc\":\"2129229292\", \"edad\":18}\n",
        "print(\"edad del alumno:\",alumno[\"edad\"])\n",
        "print(\"nombre del alumno:\", alumno[\"nombre\"].upper())\n",
        "print(alumno)\n",
        "\n",
        "print(\"Alumno 2:\")\n",
        "alumno2= dict() #{}\n",
        "print(alumno2)\n",
        "alumno2[\"nombre\"]= \"jose\"\n",
        "print(alumno2)\n",
        "alumno2[\"nc\"]=\"2191919122\"\n",
        "alumno2[\"edad\"]=18\n",
        "print(alumno2)\n",
        "alumno2[\"edad\"]= alumno2[\"edad\"]+1\n",
        "print(alumno2)"
      ],
      "execution_count": null,
      "outputs": [
        {
          "output_type": "stream",
          "name": "stdout",
          "text": [
            "{'nombre': 'José'}\n",
            "José\n",
            "edad del alumno: 18\n",
            "nombre del alumno: JOSÉ\n",
            "{'nombre': 'José', 'nc': '2129229292', 'edad': 18}\n",
            "Alumno 2:\n",
            "{}\n",
            "{'nombre': 'jose'}\n",
            "{'nombre': 'jose', 'nc': '2191919122', 'edad': 18}\n",
            "{'nombre': 'jose', 'nc': '2191919122', 'edad': 19}\n"
          ]
        }
      ]
    },
    {
      "cell_type": "code",
      "metadata": {
        "colab": {
          "base_uri": "https://localhost:8080/"
        },
        "id": "oF-NzTgm8Puk",
        "outputId": "c3bd619f-5674-4c84-d794-6b40d339eb37"
      },
      "source": [
        "cliente={ \"id\": \"CT2121\", \n",
        "         \"nombre\" : \"José Pedroza Rosales\", \n",
        "         \"teléfono\": { \"casa\": \"5544566565\",\n",
        "                      \"trabajo\": \"5544676767\",\n",
        "                      \"celular\": \"04455232323\"\n",
        "          }\n",
        "}\n",
        "print(cliente)\n",
        "\n",
        "cliente={ \"id\": \"CT2121\", \n",
        "         \"nombre\" : {\n",
        "             \"nombres\": [\"José\", \"Eduardo\"],\n",
        "             \"paterno\": \"Pedroza\",\n",
        "             \"materno\": \"Rosales\"\n",
        "         }, \n",
        "            \"telefono\": { \"casa\": \"5544566565\",\n",
        "                      \"trabajo\": \"5544676767\",\n",
        "                      \"celular\": \"04455232323\" },\n",
        "         \"productos\": {\n",
        "          \"ahorro\": {\"numero_cuenta\":\"7788\", \"ahorro\": 2500.50},\n",
        "          \"tarjeta\":[\n",
        "                       {\"tipo\": \"débito\", \"saldo\": 10000.50},\n",
        "                       {\"tipo\": \"crédito preferente\",\"límite\":250000.50},\n",
        "                       {\"tipo\": \"lite\", \"límite\": 15000.5}\n",
        "          ]\n",
        "          },\n",
        "          \"dirección\": {\n",
        "              \"calle\":\"Av. central\",\n",
        "              \"numero\": 1245,\n",
        "              \"colonia\": \"impulsora\",\n",
        "              \"delegación\": \"nezahualcoyotl\",\n",
        "              \"estado\": {\n",
        "                  \"clave\": 15,\n",
        "                  \"nombre_corto\":\"EdoMex\",\n",
        "                  \"nombre\": \"Estado de México\"\n",
        "              }\n",
        "          }          \n",
        "         } \n",
        "\n",
        "print(cliente)\n",
        "print(cliente[\"telefono\"][\"casa\"])\n",
        "print(cliente[\"productos\"][\"ahorro\"],[\"ahorro\"])\n",
        "print(cliente[\"productos\"][\"tarjeta\"][2][\"límite\"])\n",
        "print(cliente[\"dirección\"][\"estado\"][\"nombre\"].upper())\n",
        "cliente[\"productos\"][\"ahorro\"][\"ahorro\"]-=1500\n",
        "print(cliente[\"productos\"])"
      ],
      "execution_count": null,
      "outputs": [
        {
          "output_type": "stream",
          "name": "stdout",
          "text": [
            "{'id': 'CT2121', 'nombre': 'José Pedroza Rosales', 'teléfono': {'casa': '5544566565', 'trabajo': '5544676767', 'celular': '04455232323'}}\n",
            "{'id': 'CT2121', 'nombre': {'nombres': ['José', 'Eduardo'], 'paterno': 'Pedroza', 'materno': 'Rosales'}, 'telefono': {'casa': '5544566565', 'trabajo': '5544676767', 'celular': '04455232323'}, 'productos': {'ahorro': {'numero_cuenta': '7788', 'ahorro': 2500.5}, 'tarjeta': [{'tipo': 'débito', 'saldo': 10000.5}, {'tipo': 'crédito preferente', 'límite': 250000.5}, {'tipo': 'lite', 'límite': 15000.5}]}, 'dirección': {'calle': 'Av. central', 'numero': 1245, 'colonia': 'impulsora', 'delegación': 'nezahualcoyotl', 'estado': {'clave': 15, 'nombre_corto': 'EdoMex', 'nombre': 'Estado de México'}}}\n",
            "5544566565\n",
            "{'numero_cuenta': '7788', 'ahorro': 2500.5} ['ahorro']\n",
            "15000.5\n",
            "ESTADO DE MÉXICO\n",
            "{'ahorro': {'numero_cuenta': '7788', 'ahorro': 1000.5}, 'tarjeta': [{'tipo': 'débito', 'saldo': 10000.5}, {'tipo': 'crédito preferente', 'límite': 250000.5}, {'tipo': 'lite', 'límite': 15000.5}]}\n"
          ]
        }
      ]
    },
    {
      "cell_type": "markdown",
      "metadata": {
        "id": "6YMIi3_SJXLz"
      },
      "source": [
        "# TAREA DICC. PELÍCULA\n"
      ]
    },
    {
      "cell_type": "code",
      "metadata": {
        "colab": {
          "base_uri": "https://localhost:8080/"
        },
        "id": "4nIvavucJM_7",
        "outputId": "19634f73-2acf-4804-b6fe-4f2d0a6e09ba"
      },
      "source": [
        "pelicula= {\n",
        "    \"nombre\": \"gladiador\",\n",
        "    \"personajeprincipal\":\"maximo\",\n",
        "    \"añodesalida\":2000,\n",
        "    \"género\": \"acción\",\n",
        "    \"premios\":\"oscar a mejor actor\"\n",
        "}\n",
        "print(pelicula)"
      ],
      "execution_count": null,
      "outputs": [
        {
          "output_type": "stream",
          "name": "stdout",
          "text": [
            "{'nombre': 'gladiador', 'personajeprincipal': 'maximo', 'añodesalida': 2000, 'género': 'acción', 'premios': 'oscar a mejor actor'}\n"
          ]
        }
      ]
    },
    {
      "cell_type": "markdown",
      "metadata": {
        "id": "6jfMUIHGMiGW"
      },
      "source": [
        "# Estructuras de control de programación\n",
        "\n",
        "Se puede crear cualquier tipo de algoritmo empleando solamente 3 estructuras de control:\n",
        "\n",
        "1. Secuencia: \n",
        "    - La representación de la memoria de programa (Vonn Newman).\n",
        "\n",
        "2. Selección: \n",
        "    - La estructura de control que decide si un bloque de programa se ejecuta o no se ejecuta. También permite seleccionar ejecutar un bloque entre un conjunto de opciones. \n",
        "    En resumen tenemos: selección simple, con bifurcación y múltiple.  \n",
        "3. Repetición:\n",
        "    - Esta tipo de estructura nos permite automatizar la ejecución repetitiva de código mientras ciertas condiciones se cumplan tenemos 3 variantes de esta estructura en todos los lenguajes de programación:\n",
        "    - Desde... hasta (estructura for)\n",
        "    - Haz mientras (estructura while)\n",
        "    - Haz y luego validas mientras (estructura do-while)"
      ]
    },
    {
      "cell_type": "markdown",
      "metadata": {
        "id": "9P62l6TnSHnK"
      },
      "source": [
        "# Selección simple\n",
        "La estructura del if\n",
        "```\n",
        "if <CONDICION> \n",
        "    <Cuerpo del if>\n",
        "```\n",
        "** NOTA ** Para establecer el cuerpo de una estructura de control en Python se usan los tabuladores a la izquierda.\n",
        "En otros lenguajes de programación como Java, C y C++... se usan las llaves { }.\n",
        "```\n",
        "int edad=0\n",
        "printf(\"dame tu edad\");\n",
        "scand(\"%i\",&edad);\n",
        "if(edad >=18){\n",
        "  printf(\"Eres mayor de edad\");\n",
        "}\n",
        "printf(\"fin del programa\")\n",
        "```"
      ]
    },
    {
      "cell_type": "code",
      "metadata": {
        "colab": {
          "base_uri": "https://localhost:8080/"
        },
        "id": "Ga2dd53MPkqL",
        "outputId": "d8ea9e50-a26a-4e98-ae7f-a6db0b5f0735"
      },
      "source": [
        "edad= int(input(\"dame tu edad: \" ))\n",
        "print(f\"tecleaste {edad} años\" )\n",
        "if edad >=18 :\n",
        "    print(\"Eres mayor de edad\")\n",
        "    print(\"Algo\")\n",
        "print(\"Otra cosa\")\n",
        "print(\"Fin del programa\")"
      ],
      "execution_count": null,
      "outputs": [
        {
          "output_type": "stream",
          "name": "stdout",
          "text": [
            "dame tu edad: 18\n",
            "tecleaste 18 años\n",
            "Eres mayor de edad\n",
            "Algo\n",
            "Otra cosa\n",
            "Fin del programa\n"
          ]
        }
      ]
    },
    {
      "cell_type": "code",
      "metadata": {
        "colab": {
          "base_uri": "https://localhost:8080/"
        },
        "id": "wQKLtrp_WUVs",
        "outputId": "2f1896c9-3341-4bc9-8eaa-a4f91cd1be58"
      },
      "source": [
        "# Ejemplo 2.1\n",
        "CAL=float(input(\"dame tu calificación: \"))\n",
        "if CAL > 8:\n",
        "    print(\"Aprobado\")\n",
        "print(\"Fin del programa\")"
      ],
      "execution_count": null,
      "outputs": [
        {
          "output_type": "stream",
          "name": "stdout",
          "text": [
            "dame tu calificación: 8.15\n",
            "Aprobado\n",
            "Fin del programa\n"
          ]
        }
      ]
    },
    {
      "cell_type": "code",
      "metadata": {
        "colab": {
          "base_uri": "https://localhost:8080/"
        },
        "id": "ohvjSd55Ya7I",
        "outputId": "0ea357af-6127-479d-f4c6-8bc4b488d7e6"
      },
      "source": [
        "# Ejemplo 2.2\n",
        "SUE = float(input(\"Escribe el sueldo: \"))\n",
        "if SUE < 1000 :\n",
        "    AUM = SUE* 0.15\n",
        "    NSUE = SUE + AUM\n",
        "    print(NSUE)\n",
        "print(\"fin del programa\")"
      ],
      "execution_count": null,
      "outputs": [
        {
          "output_type": "stream",
          "name": "stdout",
          "text": [
            "Escribe el sueldo: 785\n",
            "902.75\n",
            "fin del programa\n"
          ]
        }
      ]
    },
    {
      "cell_type": "markdown",
      "metadata": {
        "id": "EVqIGB1vGtPr"
      },
      "source": [
        "# Estructura de selección con bifurcación (if-else)\n",
        "Esta estructura selecciona una de dos opciones d eejecución, se ejecuta un bloque si la condición se cumple o se ejecuta otro bloque si la condición no se cumple.\n",
        "```\n",
        "if <condicion>:\n",
        "    <bloque de ejecución>\n",
        "else:\n",
        "    <bloque de ejcución alterno>\n",
        "```"
      ]
    },
    {
      "cell_type": "code",
      "metadata": {
        "colab": {
          "base_uri": "https://localhost:8080/"
        },
        "id": "vuMz82MCHlUD",
        "outputId": "90a33fbe-6fed-4388-f879-a97a393aedec"
      },
      "source": [
        "edad= int(input(\"Ingresa tu edad: \"))\n",
        "print(f\"tecleaste {edad} años\" )\n",
        "if edad >=18 :\n",
        "    print(\"Eres mayor de edad, ten tu cheve\")\n",
        "else: \n",
        "    print(\"Eres menor de edad, ten tu boing\")\n",
        "print(\"Fin del programa\")"
      ],
      "execution_count": 4,
      "outputs": [
        {
          "output_type": "stream",
          "name": "stdout",
          "text": [
            "Ingresa tu edad: 4\n",
            "tecleaste 4 años\n",
            "Eres menor de edad, ten tu boing\n",
            "Fin del programa\n"
          ]
        }
      ]
    },
    {
      "cell_type": "code",
      "metadata": {
        "colab": {
          "base_uri": "https://localhost:8080/"
        },
        "id": "TD2vsKXIJK4u",
        "outputId": "4a1024ad-d101-41dc-bfca-a9f399af2acf"
      },
      "source": [
        "edad= int(input(\"Ingresa tu edad: \"))\n",
        "dinero=float(input(\"Ingresa tu cantidad de dinero: \"))\n",
        "print(f\"tecleaste {edad} años\" )\n",
        "print(f\"tecleaste {dinero} pesos\" )\n",
        "if edad >=18 and dinero >=36 :\n",
        "    print(\"Eres mayor de edad, ten tu cheve\")\n",
        "else: \n",
        "    print(\"Eres menor de edad, ten tu boing\")\n",
        "print(\"Fin del programa\")"
      ],
      "execution_count": 6,
      "outputs": [
        {
          "output_type": "stream",
          "name": "stdout",
          "text": [
            "Ingresa tu edad: 19\n",
            "Ingresa tu cantidad de dinero: 69\n",
            "tecleaste 19 años\n",
            "tecleaste 69.0 pesos\n",
            "Eres mayor de edad, ten tu cheve\n",
            "Fin del programa\n"
          ]
        }
      ]
    },
    {
      "cell_type": "code",
      "metadata": {
        "colab": {
          "base_uri": "https://localhost:8080/"
        },
        "id": "7fR-JyaOKTCe",
        "outputId": "10bac951-13d5-4a9b-edc9-11e59eba5bcf"
      },
      "source": [
        "edad = int (input(\"Dame tu edad: \"))\n",
        "dinero = int (input(\"¿Cuánto dinero tienes? \"))\n",
        "if edad >= 18:\n",
        "    if dinero >=35:\n",
        "        print(\"Eres mayor de edad y tienes dinero, ten tu cheve\")\n",
        "    else:\n",
        "        print(\"No tienes suficiente dinero\")\n",
        "else:\n",
        "    print(\"Eres menor de edad o no te alcanza, ten tu Boing\")\n",
        "print(\"Fin del programa\")"
      ],
      "execution_count": 10,
      "outputs": [
        {
          "output_type": "stream",
          "name": "stdout",
          "text": [
            "Dame tu edad: 19\n",
            "¿Cuánto dinero tienes? 89\n",
            "Eres mayor de edad y tienes dinero, ten tu cheve\n",
            "Fin del programa\n"
          ]
        }
      ]
    },
    {
      "cell_type": "code",
      "metadata": {
        "colab": {
          "base_uri": "https://localhost:8080/"
        },
        "id": "OEz9I7cxNUfc",
        "outputId": "bae59219-d228-4129-c925-70427f601121"
      },
      "source": [
        "edad = int(input(\"Dame tu edad: \"))\n",
        "dinero = float(input(\"Cuanto dinero tienes: \"))\n",
        "print(f\"Tecleaste {edad} años\")\n",
        "print(f\"Tecleaste {dinero} dinero\")\n",
        "if edad >= 18 :\n",
        "    if dinero >=36 :\n",
        "        print(\"Ten tu cheve\")\n",
        "    else:\n",
        "        print(\"tienes la edad pero no tienes dinero suficiente\")\n",
        "else:\n",
        "    if dinero >= 36 :\n",
        "        print(\"Tienes dinero suficiente pero no tienes la edad\")\n",
        "    else:\n",
        "        print(\"No tienes la edad ni el dinero, ve a jugar roblox a tu casa\")"
      ],
      "execution_count": 14,
      "outputs": [
        {
          "output_type": "stream",
          "name": "stdout",
          "text": [
            "Dame tu edad: 18\n",
            "Cuanto dinero tienes: 50\n",
            "Tecleaste 18 años\n",
            "Tecleaste 50.0 dinero\n",
            "Ten tu cheve\n"
          ]
        }
      ]
    },
    {
      "cell_type": "markdown",
      "metadata": {
        "id": "Vs6j_JruMvUZ"
      },
      "source": [
        "El codigo anterior se puede simplificar usando una palabra reservada especial que existe en algunos lenguajes de programación:\n",
        "```\n",
        "elif:\n",
        "``"
      ]
    },
    {
      "cell_type": "code",
      "metadata": {
        "colab": {
          "base_uri": "https://localhost:8080/"
        },
        "id": "M5bj0OtwMtRZ",
        "outputId": "9c8774a2-a518-4bcc-983a-222e59a13175"
      },
      "source": [
        "edad = int(input(\"Dame tu edad: \"))\n",
        "dinero = float(input(\"Cuanto dinero tienes: \"))\n",
        "print(f\"Tecleaste {edad} años\")\n",
        "print(f\"Tecleaste {dinero} dinero\")\n",
        "if edad >= 18 :\n",
        "    if dinero >=36 :\n",
        "        print(\"Ten tu cheve\")\n",
        "    else:\n",
        "        print(\"tienes la edad pero no tienes dinero suficiente\")\n",
        "elif dinero >= 36 :\n",
        "    print(\"Tienes dinero suficiente pero no tienes la edad\")\n",
        "else:\n",
        "    print(\"No tienes la edad ni el dinero, ve a jugar roblox a tu casa.\")\n"
      ],
      "execution_count": 19,
      "outputs": [
        {
          "output_type": "stream",
          "name": "stdout",
          "text": [
            "Dame tu edad: 8\n",
            "Cuanto dinero tienes: 8\n",
            "Tecleaste 8 años\n",
            "Tecleaste 8.0 dinero\n",
            "No tienes la edad ni el dinero, ve a jugar roblox a tu casa.\n"
          ]
        }
      ]
    },
    {
      "cell_type": "code",
      "metadata": {
        "id": "JoogZPQTPJip"
      },
      "source": [
        "CAL= float(input(\"Escribe tu calificiación: \"))\n",
        "if CAL >= 8 :\n",
        "    print(\"Aprobado\")\n",
        "else: \n",
        "    print(\"Reprobado\")"
      ],
      "execution_count": null,
      "outputs": []
    },
    {
      "cell_type": "code",
      "metadata": {
        "colab": {
          "base_uri": "https://localhost:8080/"
        },
        "id": "EMkggpQSPXnq",
        "outputId": "ed338fe4-096f-4212-9cec-d75bb39f6e08"
      },
      "source": [
        "SUE= float(input(\"Escribe tu sueldo: \"))\n",
        "NSUE= 0\n",
        "AUM=0\n",
        "if SUE < 1000 :\n",
        "    AUM= SUE* 0.15\n",
        "    NSUE= SUE + AUM\n",
        "    print(NSUE)\n",
        "else:\n",
        "    AUM= SUE* 0.12\n",
        "    NSUE = SUE +AUM\n",
        "    print(f\"tu nuevo sueldo es: {NSUE}\")"
      ],
      "execution_count": 25,
      "outputs": [
        {
          "output_type": "stream",
          "name": "stdout",
          "text": [
            "Escribe tu sueldo: 680.70\n",
            "782.8050000000001\n"
          ]
        }
      ]
    },
    {
      "cell_type": "markdown",
      "metadata": {
        "id": "XT7bQRlGSFfA"
      },
      "source": [
        "# ejercicio if-else.\n",
        "### Hacer un program aque solicite el día de la semana en un valor numerico entero del 1 al 7 (avisarle al usuario si proporcionñi un valor fuera del rango).\n",
        "### Posteriormente imprimira el dia de la semana correspondiente al numero capturado.\n",
        "1. lunes\n",
        "2. martes\n",
        "...\n",
        "7. domingo"
      ]
    },
    {
      "cell_type": "code",
      "metadata": {
        "colab": {
          "base_uri": "https://localhost:8080/"
        },
        "id": "iqoKIU8dSCbR",
        "outputId": "83cc2dbf-f212-4a5a-bff8-bede89430b18"
      },
      "source": [
        "dia=int(input(\"Dame el día de la semana del 1-7: \"))\n",
        "if dia is 1:\n",
        "    print(\"LUNES\")\n",
        "elif dia is 2:\n",
        "    print(\"MARTES\")\n",
        "elif dia is 3:\n",
        "    print(\"MIERCOLES\")\n",
        "elif dia is 4:\n",
        "    print(\"JUEVES\")\n",
        "elif dia is 5:\n",
        "    print(\"VIERNES\")\n",
        "elif dia is 6:\n",
        "    print(\"SÁBADO\")\n",
        "elif dia is 7:\n",
        "    print(\"DOMINGO\")\n",
        "else:\n",
        "    print(\"Debe ser un numero del 1 al 7, ingresa nuevamente\")"
      ],
      "execution_count": 27,
      "outputs": [
        {
          "output_type": "stream",
          "name": "stdout",
          "text": [
            "Dame el día de la semana del 1-7: 7\n",
            "DOMINGO\n"
          ]
        }
      ]
    },
    {
      "cell_type": "code",
      "metadata": {
        "colab": {
          "base_uri": "https://localhost:8080/"
        },
        "id": "hvoZ7kyJVall",
        "outputId": "d344bf08-17f4-464f-e2a3-414cea630f05"
      },
      "source": [
        "dia= int(input(\"ingresa un número entre 1 y 7: \"))\n",
        "print(f\"capturaste el número {dia}\")\n",
        "\n",
        "if dia >=1 and dia <= 7:\n",
        "    if dia== 1:\n",
        "        print(\"lunes\")\n",
        "    else:\n",
        "        if dia== 2:\n",
        "            print(\"martes\")\n",
        "        else:\n",
        "            if dia== 3:\n",
        "                 print(\"miercoles\")\n",
        "            else:\n",
        "                if dia== 4:\n",
        "                    print(\"jueves\")\n",
        "                else:\n",
        "                    if dia== 5:\n",
        "                         print(\"viernes\")\n",
        "                    else:\n",
        "                        if dia== 6:\n",
        "                            print(\"sabado\")\n",
        "                        else:\n",
        "                            print(\"domingo\")\n",
        "else:\n",
        "    print(\"ese numero no esta dentro del rango solicitado\")"
      ],
      "execution_count": 32,
      "outputs": [
        {
          "output_type": "stream",
          "name": "stdout",
          "text": [
            "ingresa un número entre 1 y 7: 7\n",
            "capturaste el número 7\n",
            "domingo\n"
          ]
        }
      ]
    },
    {
      "cell_type": "code",
      "metadata": {
        "colab": {
          "base_uri": "https://localhost:8080/"
        },
        "id": "VmhDIeVTcFuO",
        "outputId": "d5646eee-4c4c-442b-81d6-c28869e97b2e"
      },
      "source": [
        "dia=int(input(\"Dame el día de la semana del 1-7: \"))\n",
        "if dia is 1:\n",
        "    print(\"LUNES\")\n",
        "elif dia is 2:\n",
        "    print(\"MARTES\")\n",
        "elif dia is 3:\n",
        "    print(\"MIERCOLES\")\n",
        "elif dia is 4:\n",
        "    print(\"JUEVES\")\n",
        "elif dia is 5:\n",
        "    print(\"VIERNES\")\n",
        "elif dia is 6:\n",
        "    print(\"SÁBADO\")\n",
        "elif dia is 7:\n",
        "    print(\"DOMINGO\")\n",
        "else:\n",
        "    print(\"Debe ser un numero entre el 1 y el 7\")"
      ],
      "execution_count": 36,
      "outputs": [
        {
          "output_type": "stream",
          "name": "stdout",
          "text": [
            "Dame el día de la semana del 1-7: 7\n",
            "DOMINGO\n"
          ]
        }
      ]
    },
    {
      "cell_type": "markdown",
      "metadata": {
        "id": "hJjFnVKzZ7ZT"
      },
      "source": [
        "1. hacer un programa que pida dos numero enteros y que imprima en pantalla lo sig. cual de ellos es el numero mayor, cual es el menor o en su defecto imprimir que los valores son iguales.\n",
        "2. hacer un programa que solicite 3 numeros enteros diferentes entre si y que imprima cual de los 3 es el menor.\n",
        "3. hacer un programa que solicite 4 numeros enteros diferentes entre si e imprima a la salida cual de ellos es el menor y cual de ellos es el mayor."
      ]
    },
    {
      "cell_type": "markdown",
      "metadata": {
        "id": "QllujTkta6yl"
      },
      "source": [
        "# selección múltiple (switch)\n",
        "En python no existe la estructura de selección switch, en su lugar se emplea la palabra reservada:\n",
        "\n",
        "```\n",
        "elif <condicion>\n",
        "```\n"
      ]
    },
    {
      "cell_type": "code",
      "metadata": {
        "colab": {
          "base_uri": "https://localhost:8080/"
        },
        "id": "8JzAdTgWZknf",
        "outputId": "67d299b5-935d-429d-b255-a12e9c22bec3"
      },
      "source": [
        "NUM= int(input(\"dame un valor entre 1 y 3: \"))\n",
        "V= float(input(\"dame un valor float\"))\n",
        "VAL=0\n",
        "if NUM ==1:\n",
        "    VAL= 100 * V\n",
        "elif NUM == 2:\n",
        "    VAL =100 ** V\n",
        "elif NUM == 3:\n",
        "    VAL= 100/V\n",
        "else:\n",
        "    VAL= 0\n",
        "print(VAL)"
      ],
      "execution_count": 37,
      "outputs": [
        {
          "output_type": "stream",
          "name": "stdout",
          "text": [
            "dame un valor entre 1 y 3: 3\n",
            "dame un valor float8.9\n",
            "11.235955056179774\n"
          ]
        }
      ]
    }
  ]
}