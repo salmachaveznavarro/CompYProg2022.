{
  "nbformat": 4,
  "nbformat_minor": 0,
  "metadata": {
    "colab": {
      "name": "ejercicio2.12.ipynb",
      "provenance": [],
      "authorship_tag": "ABX9TyOE3D4Hw+xERE0XakQZo2js",
      "include_colab_link": true
    },
    "kernelspec": {
      "name": "python3",
      "display_name": "Python 3"
    },
    "language_info": {
      "name": "python"
    }
  },
  "cells": [
    {
      "cell_type": "markdown",
      "metadata": {
        "id": "view-in-github",
        "colab_type": "text"
      },
      "source": [
        "<a href=\"https://colab.research.google.com/github/salmachaveznavarro/CompYProg2022./blob/compyprog2022/ejercicio2_12.ipynb\" target=\"_parent\"><img src=\"https://colab.research.google.com/assets/colab-badge.svg\" alt=\"Open In Colab\"/></a>"
      ]
    },
    {
      "cell_type": "markdown",
      "metadata": {
        "id": "mic4lw12NNb7"
      },
      "source": [
        "Salma Chavez Navarro"
      ]
    },
    {
      "cell_type": "code",
      "metadata": {
        "id": "PPktTEJ2NE6Y"
      },
      "source": [
        "# Ejemplo 2.12\n",
        "\n",
        "A=0\n",
        "B=0\n",
        "C=0\n",
        "A= int(input(\"Ingresa un número entero: \"))\n",
        "B= int(input(\"Ingresa otro número entero: \"))\n",
        "C= int(input(\"Ingresa otro número entero: \"))\n",
        "if A==B==C or A==B or B==C:\n",
        "        print(\"Los números deben de ser diferentes entre sí\")\n",
        "if A>B:\n",
        "    if A>C:\n",
        "        if B>C:\n",
        "            print(f\"ORDEN DE MAYOR A MENOR: {A},{B},{C}\")\n",
        "        else:\n",
        "            print(f\"ORDEN DE MAYOR A MENOR: {A},{C},{B}\")\n",
        "    else:\n",
        "        print(f\"ORDEN DE MAYOR A MENOR: {C},{A},{B}\")\n",
        "else:\n",
        "    if B>C:\n",
        "        if A>C:\n",
        "            print(f\"ORDEN DE MAYOR A MENOR: {B},{A},{C}\")\n",
        "        else:\n",
        "            print(f\"ORDEN DE MAYOR A MENOR: {B},{C},{A}\")\n",
        "    else:\n",
        "        print(f\"ORDEN DE MAYOR A MENOR: {C},{B},{A}\")\n",
        "print(\"Fin del programa\")"
      ],
      "execution_count": null,
      "outputs": []
    }
  ]
}