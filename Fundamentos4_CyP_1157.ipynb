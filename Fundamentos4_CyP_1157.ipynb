{
  "nbformat": 4,
  "nbformat_minor": 0,
  "metadata": {
    "colab": {
      "name": "Fundamentos4_CyP_1157.ipynb",
      "provenance": [],
      "collapsed_sections": [],
      "authorship_tag": "ABX9TyOHSdMsPq5qcCrVL+pEQcBz",
      "include_colab_link": true
    },
    "kernelspec": {
      "name": "python3",
      "display_name": "Python 3"
    },
    "language_info": {
      "name": "python"
    }
  },
  "cells": [
    {
      "cell_type": "markdown",
      "metadata": {
        "id": "view-in-github",
        "colab_type": "text"
      },
      "source": [
        "<a href=\"https://colab.research.google.com/github/salmachaveznavarro/CompYProg2022./blob/compyprog2022/Fundamentos4_CyP_1157.ipynb\" target=\"_parent\"><img src=\"https://colab.research.google.com/assets/colab-badge.svg\" alt=\"Open In Colab\"/></a>"
      ]
    },
    {
      "cell_type": "markdown",
      "metadata": {
        "id": "AYovQC3hVLD0"
      },
      "source": [
        "Una función es una unidad de código reutilizable, además de ser un mecanismo para organizar código.\n",
        "\n",
        "La gran ventaja de usar funciones es simplificar la porgramación.\n",
        "\n",
        "### Estructura\n",
        "Una función puede tomar cualquier cantidad de parametros de entrada (de cualquier tipo) y retorna unicamente un sólo valor.\n",
        "Un parámetro de entrada es un vakir que recibe la función para realizar sus operaciones.\n",
        "\n",
        "Con una función se pueden hacer 2 cosas:\n",
        "1. Definirla\n",
        "2. Invocarla (ejcutarla)\n",
        "\n",
        "La gran ventaja de tener una función declarada es que la podemos reutilizar cuando se desee."
      ]
    },
    {
      "cell_type": "markdown",
      "metadata": {
        "id": "EsMGfDnRUIF5"
      },
      "source": [
        "# Modularidad (Funciones)\n",
        "![fotocolab.jpg](data:image/jpeg;base64,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)"
      ]
    },
    {
      "cell_type": "code",
      "metadata": {
        "colab": {
          "base_uri": "https://localhost:8080/"
        },
        "id": "PXBdagSFUBpB",
        "outputId": "6859bd76-ed19-446e-a36b-86051fc06068"
      },
      "source": [
        "def sumar( op1 , op2 ):\n",
        "    res= op1 + op2\n",
        "    return res\n",
        "sumar(1,2)"
      ],
      "execution_count": null,
      "outputs": [
        {
          "output_type": "execute_result",
          "data": {
            "text/plain": [
              "3"
            ]
          },
          "metadata": {},
          "execution_count": 11
        }
      ]
    },
    {
      "cell_type": "code",
      "metadata": {
        "colab": {
          "base_uri": "https://localhost:8080/"
        },
        "id": "zgfbE1g2aI0H",
        "outputId": "c5299503-09f4-4230-c1e3-1c467e22c2e5"
      },
      "source": [
        "def salma( op1 , op2 ):\n",
        "    res= op1 + op2\n",
        "    return res\n",
        "salma(1,2)"
      ],
      "execution_count": null,
      "outputs": [
        {
          "output_type": "execute_result",
          "data": {
            "text/plain": [
              "3"
            ]
          },
          "metadata": {},
          "execution_count": 12
        }
      ]
    },
    {
      "cell_type": "code",
      "metadata": {
        "colab": {
          "base_uri": "https://localhost:8080/"
        },
        "id": "CooKnipCYGlr",
        "outputId": "56082275-946d-43b9-fc4d-0e05e8d70baa"
      },
      "source": [
        "res = sumar(2, 5)\n",
        "print(res)"
      ],
      "execution_count": null,
      "outputs": [
        {
          "output_type": "stream",
          "name": "stdout",
          "text": [
            "7\n"
          ]
        }
      ]
    },
    {
      "cell_type": "code",
      "metadata": {
        "colab": {
          "base_uri": "https://localhost:8080/"
        },
        "id": "0Fs-sLbgZroy",
        "outputId": "0f99881d-3e16-4854-e2e4-eebdc0678c1a"
      },
      "source": [
        "print(\"hola\",\"salma\",sep=\"-\")"
      ],
      "execution_count": null,
      "outputs": [
        {
          "output_type": "stream",
          "name": "stdout",
          "text": [
            "hola-salma\n"
          ]
        }
      ]
    },
    {
      "cell_type": "code",
      "metadata": {
        "colab": {
          "base_uri": "https://localhost:8080/"
        },
        "id": "S0QCZhCCabKn",
        "outputId": "8ca8b27e-fde7-4f10-a027-15bb685dfe58"
      },
      "source": [
        "def imprime_cuadro():\n",
        "    print(\"*****\")\n",
        "    print(\"*****\")\n",
        "    print(\"*****\")\n",
        "    print(\"*****\")\n",
        "    # return none\n",
        "imprime_cuadro()"
      ],
      "execution_count": null,
      "outputs": [
        {
          "output_type": "stream",
          "name": "stdout",
          "text": [
            "*****\n",
            "*****\n",
            "*****\n",
            "*****\n"
          ]
        }
      ]
    },
    {
      "cell_type": "markdown",
      "metadata": {
        "id": "LGbwLQ8la--o"
      },
      "source": [
        "# Valor de retorno d una función\n",
        "\n",
        "Regla de oro.- una función siempre retorna un solo valor. Incluso si el valor es el vacío."
      ]
    },
    {
      "cell_type": "code",
      "metadata": {
        "colab": {
          "base_uri": "https://localhost:8080/"
        },
        "id": "uwHz9w96bNUr",
        "outputId": "60981323-3d5a-447c-e28b-b2abd685cc21"
      },
      "source": [
        "# invocar sumar\n",
        "res= sumar(7,8)\n",
        "print(res)\n",
        "#invocar la función pintar cuadro\n",
        "res= imprime_cuadro()\n",
        "print(res)"
      ],
      "execution_count": null,
      "outputs": [
        {
          "output_type": "stream",
          "name": "stdout",
          "text": [
            "15\n",
            "*****\n",
            "*****\n",
            "*****\n",
            "*****\n",
            "None\n"
          ]
        }
      ]
    },
    {
      "cell_type": "markdown",
      "metadata": {
        "id": "CyYoMPvudFPV"
      },
      "source": [
        "# La palabra reservada none de python\n",
        "Esta palabra reservada significa vacío, es equivalente a la palabra reservada void del lenguaje C, C++ y Java.\n",
        "\n",
        "Se usa para indicar ya sea un return vacío o que se recibe como parámetro un vacío."
      ]
    },
    {
      "cell_type": "code",
      "metadata": {
        "id": "pQfdjjA1d3z1"
      },
      "source": [
        "def multiplicar(valor,veces): \n",
        "    c= valor * veces\n",
        "    return c"
      ],
      "execution_count": null,
      "outputs": []
    },
    {
      "cell_type": "code",
      "metadata": {
        "colab": {
          "base_uri": "https://localhost:8080/"
        },
        "id": "sc1e1jwdeJSG",
        "outputId": "8ccb58ac-ff75-4754-b7ea-cce277e4e8fc"
      },
      "source": [
        "res= multiplicar(10,10)\n",
        "print(res)"
      ],
      "execution_count": null,
      "outputs": [
        {
          "output_type": "stream",
          "name": "stdout",
          "text": [
            "100\n"
          ]
        }
      ]
    },
    {
      "cell_type": "code",
      "metadata": {
        "id": "kaZRCtFmesRH"
      },
      "source": [
        "def multiplicar(valor,veces): #parámetro\n",
        "    if valor== None:\n",
        "        c=-1\n",
        "    else:\n",
        "        c= valor * veces\n",
        "    return c"
      ],
      "execution_count": null,
      "outputs": []
    },
    {
      "cell_type": "code",
      "metadata": {
        "colab": {
          "base_uri": "https://localhost:8080/"
        },
        "id": "48TUzpsLe0mz",
        "outputId": "bd94e34e-b398-4522-97f1-8940636d6ab9"
      },
      "source": [
        "res= multiplicar(None,10) #argumento\n",
        "print(res)"
      ],
      "execution_count": null,
      "outputs": [
        {
          "output_type": "stream",
          "name": "stdout",
          "text": [
            "-1\n"
          ]
        }
      ]
    },
    {
      "cell_type": "markdown",
      "metadata": {
        "id": "ZtmkElELfgOX"
      },
      "source": [
        "# Parámetros y argumentos\n",
        "Son conceptos relacionados y su diferencia está centrada en el momento en que se emplean en una función.\n",
        "\n",
        "Es decir en la función sumar de arriba, cuando se declara se le llama parámetro y cuando se invoca se le llama argumento."
      ]
    },
    {
      "cell_type": "markdown",
      "metadata": {
        "id": "bAxUqwDrfZhZ"
      },
      "source": [
        "# Argumentos posicionales\n",
        "En python es posible determinar a que parámetros están dirigidos los argumentos, según su posición."
      ]
    },
    {
      "cell_type": "code",
      "metadata": {
        "id": "5qEOkZOPgoUB"
      },
      "source": [
        "def dividir(op1,op2):\n",
        "    c= op1 / op2\n",
        "    return c"
      ],
      "execution_count": null,
      "outputs": []
    },
    {
      "cell_type": "code",
      "metadata": {
        "colab": {
          "base_uri": "https://localhost:8080/"
        },
        "id": "I5nUpEZ5g18N",
        "outputId": "30f8c21c-3c91-45e0-eebb-792626443d5f"
      },
      "source": [
        "num1= 25\n",
        "num2=5\n",
        "res= dividir(num1,num2)\n",
        "print(res)\n",
        "#.-.-.-.--.-.\n",
        "num1= 25\n",
        "num2=5\n",
        "res= dividir(num2,num1)\n",
        "print(res)"
      ],
      "execution_count": null,
      "outputs": [
        {
          "output_type": "stream",
          "name": "stdout",
          "text": [
            "5.0\n",
            "0.2\n"
          ]
        }
      ]
    },
    {
      "cell_type": "markdown",
      "metadata": {
        "id": "4oGTw2mrhTGU"
      },
      "source": [
        "# Argumentos con palabras clave (keywords)\n",
        "\n",
        "Es la posibilidad de indicarle a la función en tiempo de ejecución a que parámetro va dirigido un argumento de entrada.\n",
        "\n",
        "Solo disponible en Python."
      ]
    },
    {
      "cell_type": "code",
      "metadata": {
        "colab": {
          "base_uri": "https://localhost:8080/"
        },
        "id": "fRjz3IkFhqwt",
        "outputId": "0ed09697-1f99-4130-bfc8-d7e18b343083"
      },
      "source": [
        "res= dividir(op2= num2, op1=num1)\n",
        "print(res)\n"
      ],
      "execution_count": null,
      "outputs": [
        {
          "output_type": "stream",
          "name": "stdout",
          "text": [
            "5.0\n"
          ]
        }
      ]
    },
    {
      "cell_type": "markdown",
      "source": [
        "# Argumento por defecto\n",
        "\n",
        "Es la capacidad de las funciones de establecer un valor por defecto (default). Si no se envía un argumento a dicho parámetro entonces se le asigna un valor por defecto."
      ],
      "metadata": {
        "id": "h9q99q2C-fRH"
      }
    },
    {
      "cell_type": "code",
      "source": [
        "def dividir(op1,op2=2):\n",
        "    c= op1/op2\n",
        "    return c\n",
        "print(dividir(25))"
      ],
      "metadata": {
        "colab": {
          "base_uri": "https://localhost:8080/"
        },
        "id": "h2PN1TNV-H3I",
        "outputId": "a3709107-5b00-4fec-d64a-a5a4bb32f4df"
      },
      "execution_count": null,
      "outputs": [
        {
          "output_type": "stream",
          "name": "stdout",
          "text": [
            "12.5\n"
          ]
        }
      ]
    },
    {
      "cell_type": "markdown",
      "source": [
        "Este concepto se puede ejemplificar con la función **print**."
      ],
      "metadata": {
        "id": "S7iEJfgJ_H8l"
      }
    },
    {
      "cell_type": "code",
      "source": [
        "help(print)"
      ],
      "metadata": {
        "colab": {
          "base_uri": "https://localhost:8080/"
        },
        "id": "oi_QqLXH_P56",
        "outputId": "76ee150a-95ca-4b33-9420-be435390d82c"
      },
      "execution_count": null,
      "outputs": [
        {
          "output_type": "stream",
          "name": "stdout",
          "text": [
            "Help on built-in function print in module builtins:\n",
            "\n",
            "print(...)\n",
            "    print(value, ..., sep=' ', end='\\n', file=sys.stdout, flush=False)\n",
            "    \n",
            "    Prints the values to a stream, or to sys.stdout by default.\n",
            "    Optional keyword arguments:\n",
            "    file:  a file-like object (stream); defaults to the current sys.stdout.\n",
            "    sep:   string inserted between values, default a space.\n",
            "    end:   string appended after the last value, default a newline.\n",
            "    flush: whether to forcibly flush the stream.\n",
            "\n"
          ]
        }
      ]
    },
    {
      "cell_type": "code",
      "source": [
        "nombre= \"Salma\"\n",
        "edad= 18\n",
        "print(nombre, edad, sep=':,)')\n",
        "print(\"hola\", end=' ')\n",
        "print(\"---------\")"
      ],
      "metadata": {
        "colab": {
          "base_uri": "https://localhost:8080/"
        },
        "id": "mo0Xq6Hz_yXV",
        "outputId": "07aafc37-dab2-4029-c633-cd8dbb61a8a3"
      },
      "execution_count": null,
      "outputs": [
        {
          "output_type": "stream",
          "name": "stdout",
          "text": [
            "Salma:,)18\n",
            "hola ---------\n"
          ]
        }
      ]
    },
    {
      "cell_type": "markdown",
      "source": [
        "# Ejercicios de argumentos posicionales"
      ],
      "metadata": {
        "id": "LIrQIKOKAqCc"
      }
    },
    {
      "cell_type": "code",
      "source": [
        "def comanda(comensal=1,primer=\"consome\",segundo=\"arroz rojo\", tercero= \"enchiladas\"):\n",
        "    print(f\"el comensal {comensal} quiere:\")\n",
        "    print(\"\\t entrada:\", primer)\n",
        "    print(\"\\t medio:\", segundo)\n",
        "    print(\"\\t plato fuerte:\", tercero)\n",
        "\n",
        "comanda()\n",
        "comanda(3,\"ensalada\",\"arroz blanco\",\"espárragos al horno\")\n",
        "comanda(segundo=\"arroz blanco\",tercero=\" esparragos al horno\", primer=\"ensalada\",comensal=3)"
      ],
      "metadata": {
        "colab": {
          "base_uri": "https://localhost:8080/"
        },
        "id": "HIuuyUHYAiKV",
        "outputId": "3e305144-06c8-47e8-e519-5f5bc2cc80fe"
      },
      "execution_count": null,
      "outputs": [
        {
          "output_type": "stream",
          "name": "stdout",
          "text": [
            "el comensal 1 quiere:\n",
            "\t entrada: consome\n",
            "\t medio: arroz rojo\n",
            "\t plato fuerte: enchiladas\n",
            "el comensal 3 quiere:\n",
            "\t entrada: ensalada\n",
            "\t medio: arroz blanco\n",
            "\t plato fuerte: espárragos al horno\n",
            "el comensal 3 quiere:\n",
            "\t entrada: ensalada\n",
            "\t medio: arroz blanco\n",
            "\t plato fuerte:  esparragos al horno\n"
          ]
        }
      ]
    },
    {
      "cell_type": "markdown",
      "source": [
        "# Argumento enviados en grupo en una tupla.\n",
        "Esto sirve para enviar múltiples argumentos a una función empleando el comodín *.\n",
        "```\n",
        "def mi fun(args*):\n",
        "    <cuerpo de la función>\n",
        "```"
      ],
      "metadata": {
        "id": "NYUrGFwmDeZ8"
      }
    },
    {
      "cell_type": "code",
      "source": [
        "def comanda2( *opciones ):\n",
        "    print(f\"El comensal {opciones[0]} pidió:\")\n",
        "    print(\"\\tEntrada: \", opciones[1])\n",
        "    print(\"\\tSegunda: \", opciones[2])\n",
        "    print(\"\\tPlato fuerte: \", opciones[3])\n",
        "    print(\"Indicaciones extra:\")\n",
        "    for instruccion in opciones[4::]:\n",
        "        print(\"\\n\",instruccion)\n",
        "\n",
        "comanda2(1, \"sopa de fideo\", \"arroz\",\"arrachera\", \"la arrachera que aún se mueva\",\"postre gelatina\")"
      ],
      "metadata": {
        "colab": {
          "base_uri": "https://localhost:8080/"
        },
        "id": "LGi6dczDELR2",
        "outputId": "43a162fa-d0a1-4f1a-d2b0-274a9bee36a1"
      },
      "execution_count": null,
      "outputs": [
        {
          "output_type": "stream",
          "name": "stdout",
          "text": [
            "El comensal 1 pidió:\n",
            "\tEntrada:  sopa de fideo\n",
            "\tSegunda:  arroz\n",
            "\tPlato fuerte:  arrachera\n",
            "Indicaciones extra:\n",
            "\n",
            " la arrachera que aún se mueva\n",
            "\n",
            " postre gelatina\n"
          ]
        }
      ]
    },
    {
      "cell_type": "markdown",
      "source": [
        "# Argumentos enviados en grupo en un diccionario\n",
        "Es el mismo concepto que el anterior pero se usa el comodin ** y se mapea a un diccionario."
      ],
      "metadata": {
        "id": "uZ09SH7jG4OE"
      }
    },
    {
      "cell_type": "code",
      "source": [
        "def comanda3(**opciones):\n",
        "    print(opciones)\n",
        "    print(f\"El comensal {opciones['comensal']} pidió: \")\n",
        "    \n",
        "\n",
        "\n",
        "comanda3(segundo=\"arroz blanco\",tercero=\"Esparragos al horno\",primer=\"Ensalada\",comensal=3)\n"
      ],
      "metadata": {
        "colab": {
          "base_uri": "https://localhost:8080/"
        },
        "id": "858KPUa9HE4u",
        "outputId": "b67c8989-e1c9-4d16-bfbe-2ceaa424ed38"
      },
      "execution_count": null,
      "outputs": [
        {
          "output_type": "stream",
          "name": "stdout",
          "text": [
            "{'segundo': 'arroz blanco', 'tercero': 'Esparragos al horno', 'primer': 'Ensalada', 'comensal': 3}\n",
            "El comensal 3 pidió: \n"
          ]
        }
      ]
    },
    {
      "cell_type": "code",
      "source": [
        "def comanda3(**opciones):\n",
        "    ops= opciones.keys()\n",
        "    for key in ops:\n",
        "        print(f\"{key}= {opciones[key]}\")\n",
        "\n",
        "comanda3(segundo=\"arroz blanco\",tercero=\"Esparragos al horno\",primer=\"Ensalada\",comensal=3)\n"
      ],
      "metadata": {
        "colab": {
          "base_uri": "https://localhost:8080/"
        },
        "id": "v2W6xnQ3I64l",
        "outputId": "14f49a86-da56-42bc-ede2-b236b466ed80"
      },
      "execution_count": null,
      "outputs": [
        {
          "output_type": "stream",
          "name": "stdout",
          "text": [
            "segundo= arroz blanco\n",
            "tercero= Esparragos al horno\n",
            "primer= Ensalada\n",
            "comensal= 3\n"
          ]
        }
      ]
    },
    {
      "cell_type": "markdown",
      "source": [
        "# Modularidad y bibliotecas\n",
        "Todos los lenguajes de programación tienen la capacidad de compartir código entre la comunidad de programadores.\n",
        "Para ello cada lenguaje establece un mecanismo para ecribir y compartir bibliotecas."
      ],
      "metadata": {
        "id": "huaOJu1DJp_b"
      }
    },
    {
      "cell_type": "code",
      "source": [
        "!pip install simple_chalk"
      ],
      "metadata": {
        "colab": {
          "base_uri": "https://localhost:8080/"
        },
        "id": "NixfwG4mMBZ5",
        "outputId": "7df5f346-fb86-4bd0-ffee-1a738ddf9084"
      },
      "execution_count": null,
      "outputs": [
        {
          "output_type": "stream",
          "name": "stdout",
          "text": [
            "Collecting simple_chalk\n",
            "  Downloading simple_chalk-0.1.0.tar.gz (13 kB)\n",
            "Building wheels for collected packages: simple-chalk\n",
            "  Building wheel for simple-chalk (setup.py) ... \u001b[?25l\u001b[?25hdone\n",
            "  Created wheel for simple-chalk: filename=simple_chalk-0.1.0-py3-none-any.whl size=22163 sha256=428b7117ccfc059e1b06f163e49ba6fff898f61997c165c28df7c34e219de5bf\n",
            "  Stored in directory: /root/.cache/pip/wheels/24/e2/84/d54838032016039eef79df1137b91defaa6db068d825dfcdcd\n",
            "Successfully built simple-chalk\n",
            "Installing collected packages: simple-chalk\n",
            "Successfully installed simple-chalk-0.1.0\n"
          ]
        }
      ]
    },
    {
      "cell_type": "code",
      "source": [
        "print(\"hola en color amarillo\")"
      ],
      "metadata": {
        "colab": {
          "base_uri": "https://localhost:8080/"
        },
        "id": "Ifk0bxbEJlxU",
        "outputId": "6ce5580e-4845-4b67-f57f-c9b995e001c9"
      },
      "execution_count": null,
      "outputs": [
        {
          "output_type": "stream",
          "name": "stdout",
          "text": [
            "hola en color amarillo\n"
          ]
        }
      ]
    },
    {
      "cell_type": "code",
      "source": [
        "from simple_chalk import chalk, yellow\n",
        "print(chalk.yellow(\"hola en color amarillo\"))"
      ],
      "metadata": {
        "colab": {
          "base_uri": "https://localhost:8080/"
        },
        "id": "VsAMLBkvMwAs",
        "outputId": "d0401735-88aa-4ea6-ce65-45a61e1bf681"
      },
      "execution_count": null,
      "outputs": [
        {
          "output_type": "stream",
          "name": "stdout",
          "text": [
            "\u001b[33mhola en color amarillo\u001b[0m\n"
          ]
        }
      ]
    },
    {
      "cell_type": "markdown",
      "source": [
        "# ¿Cómo escribo un módulo (biblioteca)?\n",
        "Se define en un archivo de biblioteca."
      ],
      "metadata": {
        "id": "cHEy1brOPFhV"
      }
    },
    {
      "cell_type": "code",
      "source": [
        "!cat Mi_módulo.py"
      ],
      "metadata": {
        "colab": {
          "base_uri": "https://localhost:8080/"
        },
        "id": "zsX5rU2mPQvl",
        "outputId": "74a87520-7981-4732-f324-56c671e8650e"
      },
      "execution_count": null,
      "outputs": [
        {
          "output_type": "stream",
          "name": "stdout",
          "text": [
            "def sumar(a,b):\n",
            "    return a+ b\n",
            "\n",
            "def mi_print( texto, final):\n",
            "    print(\"super:\", texto, end= final)\n",
            "\n"
          ]
        }
      ]
    },
    {
      "cell_type": "code",
      "source": [
        "import Mi_módulo\n",
        "\n",
        "res= Mi_módulo.sumar(7,5)\n",
        "print(res)\n",
        "Mi_módulo.mi_print(\"Salma\",\"\\n\")"
      ],
      "metadata": {
        "colab": {
          "base_uri": "https://localhost:8080/"
        },
        "id": "Z90ZuygWRuV7",
        "outputId": "28c1ba8a-4137-4697-868f-451b763056fc"
      },
      "execution_count": null,
      "outputs": [
        {
          "output_type": "stream",
          "name": "stdout",
          "text": [
            "12\n",
            "super: Salma\n"
          ]
        }
      ]
    },
    {
      "cell_type": "code",
      "source": [
        "from Mi_módulo import sumar, mi_print\n",
        "res=sumar(5,3)\n",
        "print(res)\n",
        "mi_print(\"Jesús\",\"\\n\")"
      ],
      "metadata": {
        "colab": {
          "base_uri": "https://localhost:8080/"
        },
        "id": "HaRN485rR7Jh",
        "outputId": "5c3f4d24-fddc-4836-b164-0dd678349260"
      },
      "execution_count": null,
      "outputs": [
        {
          "output_type": "stream",
          "name": "stdout",
          "text": [
            "8\n",
            "super: Jesús\n"
          ]
        }
      ]
    },
    {
      "cell_type": "code",
      "source": [
        "archivo= open(\"salida.txt\",\"wt\")\n",
        "archivo.write(\"hola mundo\")\n",
        "archivo.close()"
      ],
      "metadata": {
        "id": "95WjC2aVS3JP"
      },
      "execution_count": null,
      "outputs": []
    },
    {
      "cell_type": "code",
      "source": [
        "!cat salida.txt"
      ],
      "metadata": {
        "colab": {
          "base_uri": "https://localhost:8080/"
        },
        "id": "9klJWGG6TM0D",
        "outputId": "bca4ebcd-e35f-4e3c-c548-c1e524146636"
      },
      "execution_count": null,
      "outputs": [
        {
          "output_type": "stream",
          "name": "stdout",
          "text": [
            "hola mundo"
          ]
        }
      ]
    },
    {
      "cell_type": "markdown",
      "source": [
        "Para abrir un archivo ya sea para lectura o escritura se usa la función open.\n",
        "```\n",
        "open(fileobj,'XY')\n",
        "```\n",
        "Donde fileobj es el nombre del archivo a abrir y el segundo argumento de la función está formado por un par de letras. La primer letra establece el tipo de apertura del archivo:\n",
        "1. ***r*** Lectura\n",
        "2. ***w*** Escritura\n",
        "3. ***x*** Escritura exclusiva, es decir solo en caso que el archivo no exista.\n",
        "4. ***a*** Append\n",
        "\n",
        "El segundo caracter indica el formato del archivo:\n",
        "1. ***t*** Formato de texto\n",
        "2. ***b*** Formato binario"
      ],
      "metadata": {
        "id": "IG5uxO1-PsXM"
      }
    },
    {
      "cell_type": "code",
      "source": [
        "archivo= open(\"ejemplo1.txt\",\"wt\")\n",
        "for x in range (10):\n",
        "    archivo.write(\"Hola mundo \"+ str(x) + \"\\n\")\n",
        "cont= archivo.write(\"Otra cosa\")\n",
        "\n",
        "print(\"Escritos: \", cont )"
      ],
      "metadata": {
        "colab": {
          "base_uri": "https://localhost:8080/"
        },
        "id": "wjITBQ_DRBQJ",
        "outputId": "4aa82c02-6e13-4d02-cfa3-6263cb404439"
      },
      "execution_count": 31,
      "outputs": [
        {
          "output_type": "stream",
          "name": "stdout",
          "text": [
            "Escritos:  9\n"
          ]
        }
      ]
    },
    {
      "cell_type": "code",
      "source": [
        "from google.colab import drive\n",
        "drive.mount('/content/drive')"
      ],
      "metadata": {
        "id": "YmJOEgzhVpSl"
      },
      "execution_count": null,
      "outputs": []
    },
    {
      "cell_type": "markdown",
      "source": [
        "# La función write\n",
        "La función escribe datos en un archivo abierto para escritura, para ello utiliza un cursor (apuntador) al siguiente byte dentro del archivo.\n",
        "\n",
        "Cuando el archivo se abre, se crea este apuntador y se posiciona para moverse de forma autómatica cada vez que escribimos.\n",
        "\n",
        "La función write regresa un valor entero indica el numero de caracteres en el archivo.\n"
      ],
      "metadata": {
        "id": "Dsdz0eDqR4Vi"
      }
    },
    {
      "cell_type": "markdown",
      "source": [
        "# Lectura de un archivo\n",
        "Para leer un archivo con programación se puede emplear una de tres opciones (funciones):\n",
        "1. read() Lee todo el archiv y lo regresa como texto.\n",
        "2. readline() Lee una sola línea (hata encontrar \\n) y la regresa como string.\n",
        "3. Realines() Lee todo el archivo y lo regresa como una lista de texto separada por saltos de línea.\n"
      ],
      "metadata": {
        "id": "i1nhoN8MTVSH"
      }
    },
    {
      "cell_type": "code",
      "source": [
        "!cat ejemplo1.txt"
      ],
      "metadata": {
        "colab": {
          "base_uri": "https://localhost:8080/"
        },
        "id": "FPyDKsfgR30Z",
        "outputId": "5d876b32-19ed-4405-8ff5-a8139467062f"
      },
      "execution_count": 9,
      "outputs": [
        {
          "output_type": "stream",
          "name": "stdout",
          "text": [
            "Hola mundo 0\n",
            "Hola mundo 1\n",
            "Hola mundo 2\n",
            "Hola mundo 3\n",
            "Hola mundo 4\n",
            "Hola mundo 5\n",
            "Hola mundo 6\n",
            "Hola mundo 7\n",
            "Hola mundo 8\n",
            "Hola mundo 9\n",
            "Otra cosa"
          ]
        }
      ]
    },
    {
      "cell_type": "code",
      "source": [
        "archivo1= open(\"ejemplo1.txt\", \"rt\")\n",
        "datos = archivo1.read()\n",
        "separado= datos.split(\"\\n\")\n",
        "print(separado)\n",
        "for index in range(len(separado)):\n",
        "    if index % 2 == 0:\n",
        "        print(separado[index].upper())\n",
        "    else:\n",
        "        print(separado[index].lower())\n",
        "print(\"--->\"+ datos+ \"<---\")"
      ],
      "metadata": {
        "colab": {
          "base_uri": "https://localhost:8080/",
          "height": 258
        },
        "id": "JdOgesRNUVA7",
        "outputId": "5aadadc9-ecb1-42c9-caa3-45ce368e1679"
      },
      "execution_count": 33,
      "outputs": [
        {
          "output_type": "error",
          "ename": "UnsupportedOperation",
          "evalue": "ignored",
          "traceback": [
            "\u001b[0;31m---------------------------------------------------------------------------\u001b[0m",
            "\u001b[0;31mUnsupportedOperation\u001b[0m                      Traceback (most recent call last)",
            "\u001b[0;32m<ipython-input-33-81a18d78f1de>\u001b[0m in \u001b[0;36m<module>\u001b[0;34m()\u001b[0m\n\u001b[1;32m      1\u001b[0m \u001b[0marchivo\u001b[0m\u001b[0;34m=\u001b[0m \u001b[0mopen\u001b[0m\u001b[0;34m(\u001b[0m\u001b[0;34m\"ejemplo1.txt\"\u001b[0m\u001b[0;34m,\u001b[0m \u001b[0;34m\"rt\"\u001b[0m\u001b[0;34m)\u001b[0m\u001b[0;34m\u001b[0m\u001b[0;34m\u001b[0m\u001b[0m\n\u001b[0;32m----> 2\u001b[0;31m \u001b[0mdatos\u001b[0m \u001b[0;34m=\u001b[0m \u001b[0marchivo1\u001b[0m\u001b[0;34m.\u001b[0m\u001b[0mread\u001b[0m\u001b[0;34m(\u001b[0m\u001b[0;34m)\u001b[0m\u001b[0;34m\u001b[0m\u001b[0;34m\u001b[0m\u001b[0m\n\u001b[0m\u001b[1;32m      3\u001b[0m \u001b[0mseparado\u001b[0m\u001b[0;34m=\u001b[0m \u001b[0mdatos\u001b[0m\u001b[0;34m.\u001b[0m\u001b[0msplit\u001b[0m\u001b[0;34m(\u001b[0m\u001b[0;34m\"\\n\"\u001b[0m\u001b[0;34m)\u001b[0m\u001b[0;34m\u001b[0m\u001b[0;34m\u001b[0m\u001b[0m\n\u001b[1;32m      4\u001b[0m \u001b[0mprint\u001b[0m\u001b[0;34m(\u001b[0m\u001b[0mseparado\u001b[0m\u001b[0;34m)\u001b[0m\u001b[0;34m\u001b[0m\u001b[0;34m\u001b[0m\u001b[0m\n\u001b[1;32m      5\u001b[0m \u001b[0;32mfor\u001b[0m \u001b[0mindex\u001b[0m \u001b[0;32min\u001b[0m \u001b[0mrange\u001b[0m\u001b[0;34m(\u001b[0m\u001b[0mlen\u001b[0m\u001b[0;34m(\u001b[0m\u001b[0mseparado\u001b[0m\u001b[0;34m)\u001b[0m\u001b[0;34m)\u001b[0m\u001b[0;34m:\u001b[0m\u001b[0;34m\u001b[0m\u001b[0;34m\u001b[0m\u001b[0m\n",
            "\u001b[0;31mUnsupportedOperation\u001b[0m: not readable"
          ]
        }
      ]
    },
    {
      "cell_type": "code",
      "source": [
        "archivo2= open (\"ejemplo1.txt\", \"rt\")\n",
        "linea = archivo.readline()\n",
        "print(linea)"
      ],
      "metadata": {
        "colab": {
          "base_uri": "https://localhost:8080/"
        },
        "id": "hoWasQQVaKT5",
        "outputId": "469fd4da-ac11-4020-cff6-f5a77c12b4a2"
      },
      "execution_count": 41,
      "outputs": [
        {
          "output_type": "stream",
          "name": "stdout",
          "text": [
            "Hola mundo 3\n",
            "\n"
          ]
        }
      ]
    },
    {
      "cell_type": "code",
      "source": [
        "archivo2= open (\"ejemplo1.txt\", \"rt\")\n",
        "for x in range(11):\n",
        "    if x%2==0:\n",
        "        print(archivo2.readline().upper())\n",
        "    else:\n",
        "        print(archivo2.readline().lower())"
      ],
      "metadata": {
        "colab": {
          "base_uri": "https://localhost:8080/"
        },
        "id": "OHeEPXHmalw-",
        "outputId": "bef2ccb8-52c1-4538-b726-536a10668481"
      },
      "execution_count": 46,
      "outputs": [
        {
          "output_type": "stream",
          "name": "stdout",
          "text": [
            "HOLA MUNDO 0\n",
            "\n",
            "hola mundo 1\n",
            "\n",
            "HOLA MUNDO 2\n",
            "\n",
            "hola mundo 3\n",
            "\n",
            "HOLA MUNDO 4\n",
            "\n",
            "hola mundo 5\n",
            "\n",
            "HOLA MUNDO 6\n",
            "\n",
            "hola mundo 7\n",
            "\n",
            "HOLA MUNDO 8\n",
            "\n",
            "hola mundo 9\n",
            "\n",
            "OTRA COSA\n"
          ]
        }
      ]
    },
    {
      "cell_type": "code",
      "source": [
        "archivo3= open(\"ejemplo1.txt\" , \"rt\")\n",
        "lineas= archivo3.readlines()\n",
        "print(lineas)\n",
        "\n",
        "for texto in lineas:\n",
        "    print(texto.rstrip())"
      ],
      "metadata": {
        "colab": {
          "base_uri": "https://localhost:8080/"
        },
        "id": "-CP8koVGcH_w",
        "outputId": "8b83fb68-a983-4986-e055-8ba10d84c957"
      },
      "execution_count": 61,
      "outputs": [
        {
          "output_type": "stream",
          "name": "stdout",
          "text": [
            "['Hola mundo 0\\n', 'Hola mundo 1\\n', 'Hola mundo 2\\n', 'Hola mundo 3\\n', 'Hola mundo 4\\n', 'Hola mundo 5\\n', 'Hola mundo 6\\n', 'Hola mundo 7\\n', 'Hola mundo 8\\n', 'Hola mundo 9\\n', 'Otra cosa']\n",
            "Hola mundo 0\n",
            "Hola mundo 1\n",
            "Hola mundo 2\n",
            "Hola mundo 3\n",
            "Hola mundo 4\n",
            "Hola mundo 5\n",
            "Hola mundo 6\n",
            "Hola mundo 7\n",
            "Hola mundo 8\n",
            "Hola mundo 9\n",
            "Otra cosa\n"
          ]
        }
      ]
    },
    {
      "cell_type": "code",
      "source": [
        "texto=\"       mi frase jsjjsjsjsj\\n\"\n",
        "print(\"-->\"+texto.strip()+\"<--\")\n",
        "print(\"-->\"+texto.rstrip()+\"<--\")\n",
        "print(\"-->\"+texto.lstrip()+\"<--\")"
      ],
      "metadata": {
        "colab": {
          "base_uri": "https://localhost:8080/"
        },
        "id": "c_4MQDL9dOwV",
        "outputId": "c17def46-b4f6-4a1f-a438-65ca259d8f0c"
      },
      "execution_count": 53,
      "outputs": [
        {
          "output_type": "stream",
          "name": "stdout",
          "text": [
            "-->mi frase jsjjsjsjsj<--\n",
            "-->       mi frase jsjjsjsjsj<--\n",
            "-->mi frase jsjjsjsjsj\n",
            "<--\n"
          ]
        }
      ]
    },
    {
      "cell_type": "code",
      "source": [
        "archivo4 = open(\"ejemplo2.twt.txt\" , \"rt\")\n",
        "lineas = archivo4.readlines()\n",
        "print(lineas)\n",
        "suma=0\n",
        "for lineas in lineas[:len(lineas)-1:]:\n",
        "    for numero in linea.strip().split(','):\n",
        "        suma+= int(numero.strip())\n",
        "print(suma)"
      ],
      "metadata": {
        "colab": {
          "base_uri": "https://localhost:8080/"
        },
        "id": "TdHxTWrsdwhX",
        "outputId": "12aa182a-56dd-434c-8ff9-955fe9bdb9e6"
      },
      "execution_count": 77,
      "outputs": [
        {
          "output_type": "stream",
          "name": "stdout",
          "text": [
            "[]\n",
            "0\n"
          ]
        }
      ]
    }
  ]
}