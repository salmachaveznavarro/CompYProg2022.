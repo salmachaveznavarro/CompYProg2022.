{
  "nbformat": 4,
  "nbformat_minor": 0,
  "metadata": {
    "colab": {
      "name": "Proyectofinal_cálculo.ipynb",
      "provenance": [],
      "authorship_tag": "ABX9TyNxSlY7pvfeu9dDH5DqsDP8",
      "include_colab_link": true
    },
    "kernelspec": {
      "name": "python3",
      "display_name": "Python 3"
    },
    "language_info": {
      "name": "python"
    }
  },
  "cells": [
    {
      "cell_type": "markdown",
      "metadata": {
        "id": "view-in-github",
        "colab_type": "text"
      },
      "source": [
        "<a href=\"https://colab.research.google.com/github/salmachaveznavarro/CompYProg2022./blob/main/Proyectofinal_c%C3%A1lculo.ipynb\" target=\"_parent\"><img src=\"https://colab.research.google.com/assets/colab-badge.svg\" alt=\"Open In Colab\"/></a>"
      ]
    },
    {
      "cell_type": "code",
      "execution_count": 90,
      "metadata": {
        "colab": {
          "base_uri": "https://localhost:8080/"
        },
        "id": "EMWsVdtTxMrY",
        "outputId": "db88f550-91a7-4b2d-937c-4e45d147dfcd"
      },
      "outputs": [
        {
          "output_type": "stream",
          "name": "stdout",
          "text": [
            "Ingrese el número de rectángulos: 5\n",
            "El area del rectángulo 1 es de 0.22103\n",
            "El area del rectángulo 2 es de 0.26997\n",
            "El area del rectángulo 3 es de 0.32974\n",
            "El area del rectángulo 4 es de 0.40275\n",
            "El area del rectángulo 5 es de 0.49192\n",
            "El área total de los rectángulos es 1.71541 .\n"
          ]
        }
      ],
      "source": [
        "from math import e\n",
        "num= int(input(\"Ingrese el número de rectángulos: \"))\n",
        "base= 1/num\n",
        "areatot=[]\n",
        "for x in range (num):\n",
        "    bas= round(((base)* (x))+ 0.1,2)\n",
        "    func=e**bas\n",
        "    area= round((base)*(func),5)\n",
        "    print(f\"El area del rectángulo {x+1} es de {area}\")\n",
        "    areatot.insert(0,area)\n",
        "suma= sum(areatot)\n",
        "print(\"El área total de los rectángulos es\",suma,\".\")"
      ]
    }
  ]
}