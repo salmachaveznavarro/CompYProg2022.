{
  "nbformat": 4,
  "nbformat_minor": 0,
  "metadata": {
    "colab": {
      "name": "TAREA5.ipynb",
      "provenance": [],
      "authorship_tag": "ABX9TyNaRVu4NtupbMhpooel1nmx",
      "include_colab_link": true
    },
    "kernelspec": {
      "name": "python3",
      "display_name": "Python 3"
    },
    "language_info": {
      "name": "python"
    }
  },
  "cells": [
    {
      "cell_type": "markdown",
      "metadata": {
        "id": "view-in-github",
        "colab_type": "text"
      },
      "source": [
        "<a href=\"https://colab.research.google.com/github/salmachaveznavarro/CompYProg2022./blob/compyprog2022/TAREA5.ipynb\" target=\"_parent\"><img src=\"https://colab.research.google.com/assets/colab-badge.svg\" alt=\"Open In Colab\"/></a>"
      ]
    },
    {
      "cell_type": "markdown",
      "metadata": {
        "id": "hZ2-ALqcCbYC"
      },
      "source": [
        "## Salma Chavez Navarro\n",
        "# TAREA 5\n"
      ]
    },
    {
      "cell_type": "markdown",
      "metadata": {
        "id": "sFtfVf_LClvb"
      },
      "source": [
        "1. Hacer un programa que\n",
        "pida dos números enteros y que imprima en pantalla lo siguiente: \n",
        "\n",
        "    ¿Cuál de ellos es el número mayor?\n",
        "    ¿Cuál de ellos es el número menor?\n",
        "\n",
        "    o en su defecto\n",
        "    ¿Imprimir que los valores son iguales?"
      ]
    },
    {
      "cell_type": "code",
      "metadata": {
        "colab": {
          "base_uri": "https://localhost:8080/"
        },
        "id": "oyAqCC7AC6P6",
        "outputId": "f931df6a-c449-4a44-ba9e-617a8de1baf3"
      },
      "source": [
        "# PROGRAMA 1\n",
        "NUM1=int(input(\"Inserte un número entero: \"))\n",
        "NUM2=int(input(\"Inserte otro número entero: \"))\n",
        "print(f\"Usted ingresó el número {NUM1} y el número {NUM2}\")\n",
        "if NUM1 > NUM2:\n",
        "    print(f\"El número {NUM1} es el mayor, y el número {NUM2} es el número menor.\")\n",
        "elif NUM1 < NUM2:\n",
        "    print(f\"El número {NUM2} es mayor, y el número {NUM1} es el número menor.\")\n",
        "else:\n",
        "    print(f\"Los números {NUM1} y {NUM2} son iguales.\")    "
      ],
      "execution_count": 43,
      "outputs": [
        {
          "output_type": "stream",
          "name": "stdout",
          "text": [
            "Inserte un número entero: 89079\n",
            "Inserte otro número entero: 909709\n",
            "Usted ingresó el número 89079 y el número 909709\n",
            "El número 909709 es mayor, y el número 89079 es el número menor.\n"
          ]
        }
      ]
    },
    {
      "cell_type": "markdown",
      "metadata": {
        "id": "-lj_YDawF9In"
      },
      "source": [
        "2. Hacer un programa que solicite 3 números enteros diferentes entre sí y que imprima cuál de los 3 es el mayor."
      ]
    },
    {
      "cell_type": "code",
      "metadata": {
        "colab": {
          "base_uri": "https://localhost:8080/"
        },
        "id": "B1UTxxt9GCMR",
        "outputId": "168f675e-7051-4c7f-dc15-8bf717b2c5e6"
      },
      "source": [
        "# PROGRAMA 2\n",
        "NUM1=int(input(\"Ingrese un número entero: \"))\n",
        "NUM2=int(input(\"Ingrese otro número entero: \"))\n",
        "NUM3=int(input(\"Ingrese otro número entero: \"))\n",
        "print(f\"Usted ingresó los números {NUM1}, {NUM2} y {NUM3}\")\n",
        "if NUM1 == NUM2 or NUM3 == NUM1 or NUM2 == NUM3:\n",
        "    print(\"Los números tienen que ser diferentes entre sí, intente de nuevo.\")\n",
        "elif NUM2 < NUM1 > NUM3:\n",
        "    print(f\"El número mayor es {NUM1}.\")\n",
        "elif NUM3 < NUM2 > NUM1:\n",
        "    print(f\"El número mayor es {NUM2}.\")\n",
        "elif NUM1 < NUM3 > NUM2:\n",
        "    print(f\"El número mayor es {NUM3}.\")"
      ],
      "execution_count": 45,
      "outputs": [
        {
          "output_type": "stream",
          "name": "stdout",
          "text": [
            "Ingrese un número entero: 90990\n",
            "Ingrese otro número entero: 006967\n",
            "Ingrese otro número entero: 546465\n",
            "Usted ingresó los números 90990, 6967 y 546465\n",
            "El número mayor es 546465.\n"
          ]
        }
      ]
    },
    {
      "cell_type": "markdown",
      "metadata": {
        "id": "XbaVmMZYOAEi"
      },
      "source": [
        "3. Hacer un programa que solicite 3 números enteros diferentes entre sí y que imprima cuál de los 3 es el menor."
      ]
    },
    {
      "cell_type": "code",
      "metadata": {
        "colab": {
          "base_uri": "https://localhost:8080/"
        },
        "id": "VFLTHuiXN_n_",
        "outputId": "730c652e-0fca-4393-f542-7dfa7e0cc127"
      },
      "source": [
        "# PROGRAMA 3\n",
        "NUM1=int(input(\"Ingrese un número entero: \"))\n",
        "NUM2=int(input(\"Ingrese otro número entero: \"))\n",
        "NUM3=int(input(\"Ingrese otro número entero: \"))\n",
        "print(f\"Usted ingresó los números {NUM1}, {NUM2} y {NUM3}\")\n",
        "if NUM1 == NUM2 or NUM3 == NUM1 or NUM2 == NUM3:\n",
        "    print(\"Los números tienen que ser diferentes entre sí, intente de nuevo.\")\n",
        "elif NUM2 > NUM1 < NUM3:\n",
        "    print(f\"El número menor es {NUM1}.\")\n",
        "elif NUM3 > NUM2 < NUM1:\n",
        "    print(f\"El número menor es {NUM2}.\")\n",
        "elif NUM1 > NUM3 < NUM2:\n",
        "    print(f\"El número menor es {NUM3}.\")"
      ],
      "execution_count": 41,
      "outputs": [
        {
          "output_type": "stream",
          "name": "stdout",
          "text": [
            "Ingrese un número entero: 80\n",
            "Ingrese otro número entero: 95894894\n",
            "Ingrese otro número entero: 8988\n",
            "Usted ingresó los números 80, 95894894 y 8988\n",
            "El número menor es 80.\n"
          ]
        }
      ]
    },
    {
      "cell_type": "markdown",
      "metadata": {
        "id": "RNX1FkSvOYCY"
      },
      "source": [
        " 4. Hacer un programa que solicite 4 números enteros diferentes entre sí y que imprima a la salida cuál de ellos es el menor y cuál de ellos es el mayor."
      ]
    },
    {
      "cell_type": "code",
      "metadata": {
        "colab": {
          "base_uri": "https://localhost:8080/"
        },
        "id": "-CZ0mWyBOlQ7",
        "outputId": "c344cc41-f8a4-43fa-cfe9-7f0ed1d43ee6"
      },
      "source": [
        "# PROGRAMA 4\n",
        "NUM1=int(input(\"Ingrese un número entero: \"))\n",
        "NUM2=int(input(\"Ingrese otro número entero: \"))\n",
        "NUM3=int(input(\"Ingrese otro número entero: \"))\n",
        "NUM4=int(input(\"Ingrese otro número entero: \"))\n",
        "print(f\"Usted ingresó los números {NUM1}, {NUM2}, {NUM3}, {NUM4}.\")\n",
        "if NUM1 == NUM2 or NUM3 == NUM1 or NUM2 == NUM3 or NUM1 == NUM4 or NUM4 == NUM2 or NUM3 == NUM4:\n",
        "    print(\"Los números tienen que ser diferentes entre sí, intente de nuevo.\")\n",
        "elif NUM2 > NUM1 < NUM3 and NUM1 < NUM4:\n",
        "    print(f\"El número menor es {NUM1}.\")\n",
        "elif NUM3 > NUM2 < NUM1 and NUM2 < NUM4:\n",
        "    print(f\"El número menor es {NUM2}.\")\n",
        "elif NUM1 > NUM3 < NUM2 and NUM3 < NUM4:\n",
        "    print(f\"El número menor es {NUM3}.\")\n",
        "else:\n",
        "    print(f\"El número menor es {NUM4}.\")\n",
        "if NUM2 < NUM1 > NUM3 and NUM1 > NUM4:\n",
        "    print(f\"El número mayor es {NUM1}.\")\n",
        "elif NUM3 < NUM2 > NUM1 and NUM2 > NUM4:\n",
        "    print(f\"El número mayor es {NUM2}.\")\n",
        "elif NUM1 < NUM3 > NUM2 and NUM3 > NUM4:\n",
        "    print(f\"El número mayor es {NUM3}.\")\n",
        "else:\n",
        "    print(f\"El número mayor es {NUM4}.\")"
      ],
      "execution_count": 40,
      "outputs": [
        {
          "output_type": "stream",
          "name": "stdout",
          "text": [
            "Ingrese un número entero: 90\n",
            "Ingrese otro número entero: 78797\n",
            "Ingrese otro número entero: 8898080980\n",
            "Ingrese otro número entero: 9787987987987\n",
            "Usted ingresó los números 90, 78797, 8898080980, 9787987987987.\n",
            "El número menor es 90.\n",
            "El número mayor es 9787987987987.\n"
          ]
        }
      ]
    }
  ]
}